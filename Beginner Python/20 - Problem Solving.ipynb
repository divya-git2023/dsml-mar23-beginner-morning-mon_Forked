{
 "cells": [
  {
   "cell_type": "code",
   "execution_count": 7,
   "id": "02b1e10b",
   "metadata": {
    "scrolled": true
   },
   "outputs": [
    {
     "name": "stdout",
     "output_type": "stream",
     "text": [
      "5\n"
     ]
    }
   ],
   "source": [
    "n = int(input())"
   ]
  },
  {
   "cell_type": "code",
   "execution_count": 8,
   "id": "a66608be",
   "metadata": {},
   "outputs": [
    {
     "name": "stdout",
     "output_type": "stream",
     "text": [
      "4\n",
      "5\n",
      "6\n",
      "7\n",
      "9\n"
     ]
    }
   ],
   "source": [
    "a = []\n",
    "\n",
    "for i in range(n):\n",
    "    a.append(int(input()))"
   ]
  },
  {
   "cell_type": "code",
   "execution_count": 9,
   "id": "0291687c",
   "metadata": {},
   "outputs": [
    {
     "name": "stdout",
     "output_type": "stream",
     "text": [
      "5\n",
      "8\n"
     ]
    }
   ],
   "source": [
    "x = int(input())\n",
    "y = int(input())"
   ]
  },
  {
   "cell_type": "code",
   "execution_count": 10,
   "id": "56099e16",
   "metadata": {},
   "outputs": [],
   "source": [
    "a.insert(x - 1,y)"
   ]
  },
  {
   "cell_type": "code",
   "execution_count": 11,
   "id": "973a2e2d",
   "metadata": {},
   "outputs": [
    {
     "data": {
      "text/plain": [
       "[4, 5, 6, 7, 8, 9]"
      ]
     },
     "execution_count": 11,
     "metadata": {},
     "output_type": "execute_result"
    }
   ],
   "source": [
    "a"
   ]
  },
  {
   "cell_type": "code",
   "execution_count": 12,
   "id": "3b138939",
   "metadata": {},
   "outputs": [],
   "source": [
    "a = {\"scaler\": [5, 7, 5, 4, 5], \"is\": [6, 7, 4, 3, 3], \"best\": [9, 9, 6, 5, 5]}"
   ]
  },
  {
   "cell_type": "code",
   "execution_count": 13,
   "id": "9cbb0ad2",
   "metadata": {},
   "outputs": [],
   "source": [
    "max_key = None\n",
    "max_len_set = 0\n",
    "\n",
    "for key, value in a.items():\n",
    "    len_set = len(set(value))\n",
    "    \n",
    "    if len_set >= max_len_set:\n",
    "        max_len_set = len_set\n",
    "        max_key = key"
   ]
  },
  {
   "cell_type": "code",
   "execution_count": 14,
   "id": "89afe893",
   "metadata": {},
   "outputs": [
    {
     "data": {
      "text/plain": [
       "'is'"
      ]
     },
     "execution_count": 14,
     "metadata": {},
     "output_type": "execute_result"
    }
   ],
   "source": [
    "max_key"
   ]
  },
  {
   "cell_type": "code",
   "execution_count": 15,
   "id": "f0188f5f",
   "metadata": {},
   "outputs": [
    {
     "data": {
      "text/plain": [
       "4"
      ]
     },
     "execution_count": 15,
     "metadata": {},
     "output_type": "execute_result"
    }
   ],
   "source": [
    "max_len_set"
   ]
  },
  {
   "cell_type": "code",
   "execution_count": 16,
   "id": "8a6f8eca",
   "metadata": {},
   "outputs": [
    {
     "name": "stdout",
     "output_type": "stream",
     "text": [
      "123456789\n"
     ]
    }
   ],
   "source": [
    "a = input()"
   ]
  },
  {
   "cell_type": "code",
   "execution_count": 18,
   "id": "6ca5f7bb",
   "metadata": {},
   "outputs": [],
   "source": [
    "numbers = []\n",
    "\n",
    "for i in a:\n",
    "    numbers.append(int(i))"
   ]
  },
  {
   "cell_type": "code",
   "execution_count": 19,
   "id": "5db07f0a",
   "metadata": {},
   "outputs": [
    {
     "data": {
      "text/plain": [
       "[1, 2, 3, 4, 5, 6, 7, 8, 9]"
      ]
     },
     "execution_count": 19,
     "metadata": {},
     "output_type": "execute_result"
    }
   ],
   "source": [
    "numbers"
   ]
  },
  {
   "cell_type": "code",
   "execution_count": 23,
   "id": "058748af",
   "metadata": {},
   "outputs": [],
   "source": [
    "A = -105"
   ]
  },
  {
   "cell_type": "code",
   "execution_count": 24,
   "id": "6351b85b",
   "metadata": {},
   "outputs": [],
   "source": [
    "real_A = A / 200"
   ]
  },
  {
   "cell_type": "code",
   "execution_count": 25,
   "id": "c8f9c2dc",
   "metadata": {},
   "outputs": [
    {
     "data": {
      "text/plain": [
       "-0.525"
      ]
     },
     "execution_count": 25,
     "metadata": {},
     "output_type": "execute_result"
    }
   ],
   "source": [
    "real_A"
   ]
  },
  {
   "cell_type": "code",
   "execution_count": 28,
   "id": "7fb34f90",
   "metadata": {},
   "outputs": [],
   "source": [
    "x = -0.525"
   ]
  },
  {
   "cell_type": "code",
   "execution_count": 29,
   "id": "f00e4dd3",
   "metadata": {},
   "outputs": [
    {
     "data": {
      "text/plain": [
       "-1.0"
      ]
     },
     "execution_count": 29,
     "metadata": {},
     "output_type": "execute_result"
    }
   ],
   "source": [
    "x // 1"
   ]
  },
  {
   "cell_type": "code",
   "execution_count": 42,
   "id": "fd625ba6",
   "metadata": {},
   "outputs": [
    {
     "name": "stdout",
     "output_type": "stream",
     "text": [
      "105\n",
      "0\n"
     ]
    }
   ],
   "source": [
    "A = int(input())\n",
    "\n",
    "real_A = A / 200\n",
    "\n",
    "print(int(real_A // 1))"
   ]
  },
  {
   "cell_type": "code",
   "execution_count": 33,
   "id": "6d9a9368",
   "metadata": {},
   "outputs": [],
   "source": [
    "tup = (10,20,30,40,50,60,70,80,90,100)\n",
    "element = 50"
   ]
  },
  {
   "cell_type": "code",
   "execution_count": 34,
   "id": "1a581ddf",
   "metadata": {},
   "outputs": [],
   "source": [
    "def search_in_tuple(t, element):\n",
    "    for i in range(len(t)):\n",
    "        if t[i] == element:\n",
    "            return i\n",
    "        \n",
    "    return -1"
   ]
  },
  {
   "cell_type": "code",
   "execution_count": 35,
   "id": "f9052740",
   "metadata": {},
   "outputs": [
    {
     "data": {
      "text/plain": [
       "4"
      ]
     },
     "execution_count": 35,
     "metadata": {},
     "output_type": "execute_result"
    }
   ],
   "source": [
    "tup.index(50)"
   ]
  },
  {
   "cell_type": "code",
   "execution_count": 36,
   "id": "f32c93df",
   "metadata": {},
   "outputs": [
    {
     "ename": "ValueError",
     "evalue": "tuple.index(x): x not in tuple",
     "output_type": "error",
     "traceback": [
      "\u001b[0;31m---------------------------------------------------------------------------\u001b[0m",
      "\u001b[0;31mValueError\u001b[0m                                Traceback (most recent call last)",
      "Cell \u001b[0;32mIn[36], line 1\u001b[0m\n\u001b[0;32m----> 1\u001b[0m \u001b[43mtup\u001b[49m\u001b[38;5;241;43m.\u001b[39;49m\u001b[43mindex\u001b[49m\u001b[43m(\u001b[49m\u001b[38;5;241;43m200\u001b[39;49m\u001b[43m)\u001b[49m\n",
      "\u001b[0;31mValueError\u001b[0m: tuple.index(x): x not in tuple"
     ]
    }
   ],
   "source": [
    "tup.index(200)"
   ]
  },
  {
   "cell_type": "code",
   "execution_count": 37,
   "id": "822d13e5",
   "metadata": {},
   "outputs": [],
   "source": [
    "a = {\n",
    "    \"a\" : 1,\n",
    "    \"b\" : 2\n",
    "}\n",
    "\n",
    "b = {\n",
    "    \"b\" : 3,\n",
    "    \"c\" : 4,\n",
    "    \"d\" : 5\n",
    "}"
   ]
  },
  {
   "cell_type": "code",
   "execution_count": 38,
   "id": "ff797f1d",
   "metadata": {},
   "outputs": [
    {
     "data": {
      "text/plain": [
       "{'a': 1, 'b': 3, 'c': 4, 'd': 5}"
      ]
     },
     "execution_count": 38,
     "metadata": {},
     "output_type": "execute_result"
    }
   ],
   "source": [
    "a | b"
   ]
  },
  {
   "cell_type": "code",
   "execution_count": 39,
   "id": "653ff43b",
   "metadata": {},
   "outputs": [
    {
     "ename": "TypeError",
     "evalue": "unsupported operand type(s) for &: 'dict' and 'dict'",
     "output_type": "error",
     "traceback": [
      "\u001b[0;31m---------------------------------------------------------------------------\u001b[0m",
      "\u001b[0;31mTypeError\u001b[0m                                 Traceback (most recent call last)",
      "Cell \u001b[0;32mIn[39], line 1\u001b[0m\n\u001b[0;32m----> 1\u001b[0m \u001b[43ma\u001b[49m\u001b[43m \u001b[49m\u001b[38;5;241;43m&\u001b[39;49m\u001b[43m \u001b[49m\u001b[43mb\u001b[49m\n",
      "\u001b[0;31mTypeError\u001b[0m: unsupported operand type(s) for &: 'dict' and 'dict'"
     ]
    }
   ],
   "source": [
    "a & b"
   ]
  },
  {
   "cell_type": "code",
   "execution_count": 40,
   "id": "3a901633",
   "metadata": {},
   "outputs": [
    {
     "data": {
      "text/plain": [
       "{'b'}"
      ]
     },
     "execution_count": 40,
     "metadata": {},
     "output_type": "execute_result"
    }
   ],
   "source": [
    "set(a.keys()) & set(b.keys())"
   ]
  },
  {
   "cell_type": "code",
   "execution_count": 43,
   "id": "574c8c6e",
   "metadata": {},
   "outputs": [
    {
     "data": {
      "text/plain": [
       "'\\nQuestion 1 - \\nYou are given a dictionary as input.\\nWrite a python program that reverses the key:value order for each corresponding item in dictionary.\\n\\nINPUT - {1: 2, 3: 4, 4: 3, 2: 1, 0: 0}\\nOUTPUT - {2: 1, 4: 3, 3: 4, 1: 2, 0: 0}\\n'"
      ]
     },
     "execution_count": 43,
     "metadata": {},
     "output_type": "execute_result"
    }
   ],
   "source": [
    "'''\n",
    "Question 1 - \n",
    "You are given a dictionary as input.\n",
    "Write a python program that reverses the key:value order for each corresponding item in dictionary.\n",
    "\n",
    "INPUT - {1: 2, 3: 4, 4: 3, 2: 1, 0: 0}\n",
    "OUTPUT - {2: 1, 4: 3, 3: 4, 1: 2, 0: 0}\n",
    "'''"
   ]
  },
  {
   "cell_type": "code",
   "execution_count": 54,
   "id": "be95794b",
   "metadata": {},
   "outputs": [
    {
     "data": {
      "text/plain": [
       "{'a': 1, 'b': 2}"
      ]
     },
     "execution_count": 54,
     "metadata": {},
     "output_type": "execute_result"
    }
   ],
   "source": [
    "a"
   ]
  },
  {
   "cell_type": "code",
   "execution_count": 55,
   "id": "3314d1b3",
   "metadata": {},
   "outputs": [],
   "source": [
    "a[\"d\"] = 5"
   ]
  },
  {
   "cell_type": "code",
   "execution_count": 56,
   "id": "d8f4f988",
   "metadata": {},
   "outputs": [
    {
     "data": {
      "text/plain": [
       "{'a': 1, 'b': 2, 'd': 5}"
      ]
     },
     "execution_count": 56,
     "metadata": {},
     "output_type": "execute_result"
    }
   ],
   "source": [
    "a"
   ]
  },
  {
   "cell_type": "code",
   "execution_count": 50,
   "id": "4935a1d9",
   "metadata": {},
   "outputs": [],
   "source": [
    "d = {1: 2, 3: 4, 4: 3, 2: 1, 0: 0}"
   ]
  },
  {
   "cell_type": "code",
   "execution_count": 52,
   "id": "6cb4fda5",
   "metadata": {},
   "outputs": [],
   "source": [
    "reverse_dict = {}\n",
    "\n",
    "for key, value in d.items():\n",
    "    reverse_dict[value] = key"
   ]
  },
  {
   "cell_type": "code",
   "execution_count": 53,
   "id": "0ae9961f",
   "metadata": {},
   "outputs": [
    {
     "data": {
      "text/plain": [
       "{2: 1, 4: 3, 3: 4, 1: 2, 0: 0}"
      ]
     },
     "execution_count": 53,
     "metadata": {},
     "output_type": "execute_result"
    }
   ],
   "source": [
    "reverse_dict"
   ]
  },
  {
   "cell_type": "code",
   "execution_count": 57,
   "id": "1a46cca3",
   "metadata": {},
   "outputs": [
    {
     "data": {
      "text/plain": [
       "'\\nQuestion 2 - \\nGiven a message as string you need follow the given below rules of encryption and return the encrypted format of the input string.\\nInput String will only contain lowercase letters and spaces.\\n\\nRule: There are 26 letters in English alphabets. \\nWe placed a marker between M and N such that\\neach letter before that marker had a image on the\\nother side of marker at a same distance from the extremes.\\nSame goes for the letters that are after that marker.\\n\\nReplace the characters of the string by their respective images.\\n\\nINPUT - abcd wxyz\\nOUPUT - zyxw dcba\\nEXPLANATION - \\n    respective images of characters will be:\\n    a -> z\\n    b -> y\\n    c -> x\\n    d -> w\\n\\n    space will be left as it is and rest goes on like that\\n'"
      ]
     },
     "execution_count": 57,
     "metadata": {},
     "output_type": "execute_result"
    }
   ],
   "source": [
    "'''\n",
    "Question 2 - \n",
    "Given a message as string you need follow the given below rules of encryption and return the encrypted format of the input string.\n",
    "Input String will only contain lowercase letters and spaces.\n",
    "\n",
    "Rule: There are 26 letters in English alphabets. \n",
    "We placed a marker between M and N such that\n",
    "each letter before that marker had a image on the\n",
    "other side of marker at a same distance from the extremes.\n",
    "Same goes for the letters that are after that marker.\n",
    "\n",
    "Replace the characters of the string by their respective images.\n",
    "\n",
    "INPUT - abcd\n",
    "OUPUT - zyxw\n",
    "EXPLANATION - \n",
    "    respective images of characters will be:\n",
    "    a -> z\n",
    "    b -> y\n",
    "    c -> x\n",
    "    d -> w\n",
    "\n",
    "    space will be left as it is and rest goes on like that\n",
    "'''"
   ]
  },
  {
   "cell_type": "code",
   "execution_count": 58,
   "id": "c89fc860",
   "metadata": {},
   "outputs": [],
   "source": [
    "def encrypt_message(message):\n",
    "    encrypted_message = \"\"\n",
    "    \n",
    "    for i in message:\n",
    "        if i.isspace():\n",
    "            encrypted_message += i\n",
    "        else:\n",
    "            dist = ord(i) - ord(\"a\")\n",
    "            mirror_image = chr(ord(\"z\") - dist)\n",
    "            encrypted_message += mirror_image\n",
    "            \n",
    "    return encrypted_message"
   ]
  },
  {
   "cell_type": "code",
   "execution_count": 60,
   "id": "421d0787",
   "metadata": {},
   "outputs": [
    {
     "data": {
      "text/plain": [
       "'gsrh rh zm vmxibkgvw nvhhztv'"
      ]
     },
     "execution_count": 60,
     "metadata": {},
     "output_type": "execute_result"
    }
   ],
   "source": [
    "encrypt_message(\"this is an encrypted message\")"
   ]
  },
  {
   "cell_type": "code",
   "execution_count": 61,
   "id": "ce7bca06",
   "metadata": {},
   "outputs": [
    {
     "data": {
      "text/plain": [
       "'zyxw'"
      ]
     },
     "execution_count": 61,
     "metadata": {},
     "output_type": "execute_result"
    }
   ],
   "source": [
    "encrypt_message(\"abcd\")"
   ]
  },
  {
   "cell_type": "code",
   "execution_count": null,
   "id": "b076a0ec",
   "metadata": {},
   "outputs": [],
   "source": []
  }
 ],
 "metadata": {
  "kernelspec": {
   "display_name": "Python 3 (ipykernel)",
   "language": "python",
   "name": "python3"
  },
  "language_info": {
   "codemirror_mode": {
    "name": "ipython",
    "version": 3
   },
   "file_extension": ".py",
   "mimetype": "text/x-python",
   "name": "python",
   "nbconvert_exporter": "python",
   "pygments_lexer": "ipython3",
   "version": "3.9.5"
  }
 },
 "nbformat": 4,
 "nbformat_minor": 5
}
