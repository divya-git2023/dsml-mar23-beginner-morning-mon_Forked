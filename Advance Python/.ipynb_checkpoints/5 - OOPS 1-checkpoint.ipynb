{
 "cells": [
  {
   "cell_type": "code",
   "execution_count": 2,
   "id": "57f570d4",
   "metadata": {},
   "outputs": [],
   "source": [
    "class Student:\n",
    "    # methods\n",
    "    # properties\n",
    "    pass"
   ]
  },
  {
   "cell_type": "code",
   "execution_count": 3,
   "id": "31c10150",
   "metadata": {},
   "outputs": [],
   "source": [
    "a = Student()\n",
    "\n",
    "# a is an instance of class Student\n",
    "# a is an object of the type Student"
   ]
  },
  {
   "cell_type": "code",
   "execution_count": 4,
   "id": "a7b21e52",
   "metadata": {},
   "outputs": [
    {
     "data": {
      "text/plain": [
       "__main__.Student"
      ]
     },
     "execution_count": 4,
     "metadata": {},
     "output_type": "execute_result"
    }
   ],
   "source": [
    "type(a)"
   ]
  },
  {
   "cell_type": "code",
   "execution_count": 5,
   "id": "d76dc40d",
   "metadata": {},
   "outputs": [
    {
     "data": {
      "text/plain": [
       "True"
      ]
     },
     "execution_count": 5,
     "metadata": {},
     "output_type": "execute_result"
    }
   ],
   "source": [
    "isinstance(a, Student)"
   ]
  },
  {
   "cell_type": "code",
   "execution_count": 6,
   "id": "b6bdfa9b",
   "metadata": {},
   "outputs": [
    {
     "data": {
      "text/plain": [
       "True"
      ]
     },
     "execution_count": 6,
     "metadata": {},
     "output_type": "execute_result"
    }
   ],
   "source": [
    "isinstance(a, object)"
   ]
  },
  {
   "cell_type": "code",
   "execution_count": 7,
   "id": "8c8321d3",
   "metadata": {},
   "outputs": [
    {
     "data": {
      "text/plain": [
       "True"
      ]
     },
     "execution_count": 7,
     "metadata": {},
     "output_type": "execute_result"
    }
   ],
   "source": [
    "isinstance(Student, object)"
   ]
  },
  {
   "cell_type": "code",
   "execution_count": 8,
   "id": "a2069a3d",
   "metadata": {},
   "outputs": [
    {
     "data": {
      "text/plain": [
       "11"
      ]
     },
     "execution_count": 8,
     "metadata": {},
     "output_type": "execute_result"
    }
   ],
   "source": [
    "5 + 6"
   ]
  },
  {
   "cell_type": "code",
   "execution_count": 9,
   "id": "4742778c",
   "metadata": {},
   "outputs": [
    {
     "data": {
      "text/plain": [
       "'yesno'"
      ]
     },
     "execution_count": 9,
     "metadata": {},
     "output_type": "execute_result"
    }
   ],
   "source": [
    "\"yes\" + \"no\""
   ]
  },
  {
   "cell_type": "code",
   "execution_count": 10,
   "id": "0cb110bc",
   "metadata": {},
   "outputs": [],
   "source": [
    "s1 = Student()"
   ]
  },
  {
   "cell_type": "code",
   "execution_count": 12,
   "id": "2c5f89e5",
   "metadata": {},
   "outputs": [],
   "source": [
    "s1.name = \"Bipin Kalra\""
   ]
  },
  {
   "cell_type": "code",
   "execution_count": 13,
   "id": "610fd68a",
   "metadata": {},
   "outputs": [
    {
     "data": {
      "text/plain": [
       "'Bipin Kalra'"
      ]
     },
     "execution_count": 13,
     "metadata": {},
     "output_type": "execute_result"
    }
   ],
   "source": [
    "s1.name"
   ]
  },
  {
   "cell_type": "code",
   "execution_count": 14,
   "id": "6f471bab",
   "metadata": {},
   "outputs": [],
   "source": [
    "s2 = Student()"
   ]
  },
  {
   "cell_type": "code",
   "execution_count": 15,
   "id": "9deec6ae",
   "metadata": {},
   "outputs": [
    {
     "ename": "AttributeError",
     "evalue": "'Student' object has no attribute 'name'",
     "output_type": "error",
     "traceback": [
      "\u001b[0;31m---------------------------------------------------------------------------\u001b[0m",
      "\u001b[0;31mAttributeError\u001b[0m                            Traceback (most recent call last)",
      "Cell \u001b[0;32mIn[15], line 1\u001b[0m\n\u001b[0;32m----> 1\u001b[0m \u001b[43ms2\u001b[49m\u001b[38;5;241;43m.\u001b[39;49m\u001b[43mname\u001b[49m\n",
      "\u001b[0;31mAttributeError\u001b[0m: 'Student' object has no attribute 'name'"
     ]
    }
   ],
   "source": [
    "s2.name"
   ]
  },
  {
   "cell_type": "code",
   "execution_count": 16,
   "id": "4b7f3afb",
   "metadata": {},
   "outputs": [],
   "source": [
    "# class names should start with a capital letter"
   ]
  },
  {
   "cell_type": "code",
   "execution_count": 17,
   "id": "7b0acb96",
   "metadata": {},
   "outputs": [],
   "source": [
    "class Student:\n",
    "    def hello():\n",
    "        print(\"Hello :)\")"
   ]
  },
  {
   "cell_type": "code",
   "execution_count": 18,
   "id": "02931f09",
   "metadata": {},
   "outputs": [],
   "source": [
    "s1 = Student()"
   ]
  },
  {
   "cell_type": "code",
   "execution_count": 19,
   "id": "6c29c387",
   "metadata": {},
   "outputs": [
    {
     "ename": "TypeError",
     "evalue": "hello() takes 0 positional arguments but 1 was given",
     "output_type": "error",
     "traceback": [
      "\u001b[0;31m---------------------------------------------------------------------------\u001b[0m",
      "\u001b[0;31mTypeError\u001b[0m                                 Traceback (most recent call last)",
      "Cell \u001b[0;32mIn[19], line 1\u001b[0m\n\u001b[0;32m----> 1\u001b[0m \u001b[43ms1\u001b[49m\u001b[38;5;241;43m.\u001b[39;49m\u001b[43mhello\u001b[49m\u001b[43m(\u001b[49m\u001b[43m)\u001b[49m\n",
      "\u001b[0;31mTypeError\u001b[0m: hello() takes 0 positional arguments but 1 was given"
     ]
    }
   ],
   "source": [
    "s1.hello()"
   ]
  },
  {
   "cell_type": "code",
   "execution_count": 23,
   "id": "f750b693",
   "metadata": {},
   "outputs": [],
   "source": [
    "class Student:\n",
    "    def hello(self):\n",
    "        print(id(self))"
   ]
  },
  {
   "cell_type": "code",
   "execution_count": 24,
   "id": "94f4c364",
   "metadata": {},
   "outputs": [],
   "source": [
    "s1 = Student()"
   ]
  },
  {
   "cell_type": "code",
   "execution_count": 27,
   "id": "5d2d4605",
   "metadata": {},
   "outputs": [
    {
     "name": "stdout",
     "output_type": "stream",
     "text": [
      "140223728031104\n"
     ]
    }
   ],
   "source": [
    "s1.hello()\n",
    "\n",
    "# Student.hello(s1) <- This change happens internally\n",
    "# Which is why we don't have to explicitly pass something to self"
   ]
  },
  {
   "cell_type": "code",
   "execution_count": 26,
   "id": "2b82c77b",
   "metadata": {},
   "outputs": [
    {
     "data": {
      "text/plain": [
       "140223728031104"
      ]
     },
     "execution_count": 26,
     "metadata": {},
     "output_type": "execute_result"
    }
   ],
   "source": [
    "id(s1)"
   ]
  },
  {
   "cell_type": "code",
   "execution_count": 28,
   "id": "7a1f911a",
   "metadata": {},
   "outputs": [],
   "source": [
    "class Student:\n",
    "    def hello(anything):\n",
    "        print(id(anything))"
   ]
  },
  {
   "cell_type": "code",
   "execution_count": 29,
   "id": "b4203ba5",
   "metadata": {},
   "outputs": [],
   "source": [
    "class Student:\n",
    "    def __init__(self, name, age):\n",
    "        self.name = name\n",
    "        self.age = age"
   ]
  },
  {
   "cell_type": "code",
   "execution_count": 31,
   "id": "69ee6a05",
   "metadata": {},
   "outputs": [],
   "source": [
    "s1 = Student(\"Bipin Kalra\", 5000)\n",
    "\n",
    "# Student.__init__(s1, \"Bipin Kalra\", 5000)"
   ]
  },
  {
   "cell_type": "code",
   "execution_count": 32,
   "id": "3ce51ff2",
   "metadata": {},
   "outputs": [
    {
     "data": {
      "text/plain": [
       "'Bipin Kalra'"
      ]
     },
     "execution_count": 32,
     "metadata": {},
     "output_type": "execute_result"
    }
   ],
   "source": [
    "s1.name"
   ]
  },
  {
   "cell_type": "code",
   "execution_count": 33,
   "id": "3ac07d33",
   "metadata": {},
   "outputs": [
    {
     "data": {
      "text/plain": [
       "5000"
      ]
     },
     "execution_count": 33,
     "metadata": {},
     "output_type": "execute_result"
    }
   ],
   "source": [
    "s1.age"
   ]
  },
  {
   "cell_type": "code",
   "execution_count": 35,
   "id": "f55d0e00",
   "metadata": {},
   "outputs": [],
   "source": [
    "s2 = Student(\"Random\", 123)"
   ]
  },
  {
   "cell_type": "code",
   "execution_count": 37,
   "id": "acf4aa21",
   "metadata": {},
   "outputs": [
    {
     "data": {
      "text/plain": [
       "'Random'"
      ]
     },
     "execution_count": 37,
     "metadata": {},
     "output_type": "execute_result"
    }
   ],
   "source": [
    "s2.name"
   ]
  },
  {
   "cell_type": "code",
   "execution_count": null,
   "id": "b8690035",
   "metadata": {},
   "outputs": [],
   "source": []
  }
 ],
 "metadata": {
  "kernelspec": {
   "display_name": "Python 3 (ipykernel)",
   "language": "python",
   "name": "python3"
  },
  "language_info": {
   "codemirror_mode": {
    "name": "ipython",
    "version": 3
   },
   "file_extension": ".py",
   "mimetype": "text/x-python",
   "name": "python",
   "nbconvert_exporter": "python",
   "pygments_lexer": "ipython3",
   "version": "3.9.5"
  }
 },
 "nbformat": 4,
 "nbformat_minor": 5
}
