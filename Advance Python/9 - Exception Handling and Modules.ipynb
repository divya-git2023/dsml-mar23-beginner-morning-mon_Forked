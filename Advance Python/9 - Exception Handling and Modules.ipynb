{
 "cells": [
  {
   "cell_type": "markdown",
   "id": "30854b3d",
   "metadata": {},
   "source": [
    "# MODULES"
   ]
  },
  {
   "cell_type": "code",
   "execution_count": 1,
   "id": "3edf4145",
   "metadata": {},
   "outputs": [],
   "source": [
    "import math"
   ]
  },
  {
   "cell_type": "code",
   "execution_count": 2,
   "id": "c51da606",
   "metadata": {},
   "outputs": [
    {
     "data": {
      "text/plain": [
       "7"
      ]
     },
     "execution_count": 2,
     "metadata": {},
     "output_type": "execute_result"
    }
   ],
   "source": [
    "math.ceil(6.7)"
   ]
  },
  {
   "cell_type": "code",
   "execution_count": 3,
   "id": "60b1924a",
   "metadata": {},
   "outputs": [
    {
     "data": {
      "text/plain": [
       "3.141592653589793"
      ]
     },
     "execution_count": 3,
     "metadata": {},
     "output_type": "execute_result"
    }
   ],
   "source": [
    "math.pi"
   ]
  },
  {
   "cell_type": "code",
   "execution_count": 5,
   "id": "d0c30e24",
   "metadata": {},
   "outputs": [],
   "source": [
    "import matplotlib.pyplot as plt"
   ]
  },
  {
   "cell_type": "code",
   "execution_count": 7,
   "id": "2cd99cd2",
   "metadata": {},
   "outputs": [],
   "source": [
    "# help(math)"
   ]
  },
  {
   "cell_type": "code",
   "execution_count": 8,
   "id": "d4c89c16",
   "metadata": {},
   "outputs": [
    {
     "data": {
      "text/plain": [
       "True"
      ]
     },
     "execution_count": 8,
     "metadata": {},
     "output_type": "execute_result"
    }
   ],
   "source": [
    "isinstance(math, object)"
   ]
  },
  {
   "cell_type": "code",
   "execution_count": 9,
   "id": "4a56e353",
   "metadata": {},
   "outputs": [],
   "source": [
    "meri_marzi = math"
   ]
  },
  {
   "cell_type": "code",
   "execution_count": 11,
   "id": "e78842ff",
   "metadata": {},
   "outputs": [
    {
     "data": {
      "text/plain": [
       "120"
      ]
     },
     "execution_count": 11,
     "metadata": {},
     "output_type": "execute_result"
    }
   ],
   "source": [
    "meri_marzi.factorial(5)"
   ]
  },
  {
   "cell_type": "code",
   "execution_count": 12,
   "id": "3993336c",
   "metadata": {},
   "outputs": [],
   "source": [
    "import random"
   ]
  },
  {
   "cell_type": "code",
   "execution_count": 22,
   "id": "4204f674",
   "metadata": {},
   "outputs": [
    {
     "data": {
      "text/plain": [
       "3"
      ]
     },
     "execution_count": 22,
     "metadata": {},
     "output_type": "execute_result"
    }
   ],
   "source": [
    "random.randint(0, 10)"
   ]
  },
  {
   "cell_type": "code",
   "execution_count": 23,
   "id": "aff27f8c",
   "metadata": {},
   "outputs": [],
   "source": [
    "# WAYS TO IMPORT MODULES"
   ]
  },
  {
   "cell_type": "code",
   "execution_count": 26,
   "id": "c7641c5e",
   "metadata": {},
   "outputs": [],
   "source": [
    "# 1st way\n",
    "import math\n",
    "\n",
    "# The entire math module is imported as an entity\n",
    "\n",
    "# PROBLEMS\n",
    "# Unnecessary functions are also imported leading to extra bloat\n",
    "# We have to type math.function_name to use every function"
   ]
  },
  {
   "cell_type": "code",
   "execution_count": 31,
   "id": "b15381f7",
   "metadata": {},
   "outputs": [],
   "source": [
    "# 2nd way (WORST WAY)\n",
    "from math import *\n",
    "\n",
    "# All functions and values directly available in file\n",
    "\n",
    "# PROBLEMS\n",
    "# Doesn't solve the bloat problem\n",
    "# There can be conflicts in objects with the same identifiers"
   ]
  },
  {
   "cell_type": "code",
   "execution_count": 32,
   "id": "6ad156c5",
   "metadata": {},
   "outputs": [
    {
     "data": {
      "text/plain": [
       "120"
      ]
     },
     "execution_count": 32,
     "metadata": {},
     "output_type": "execute_result"
    }
   ],
   "source": [
    "factorial(5)"
   ]
  },
  {
   "cell_type": "code",
   "execution_count": 33,
   "id": "867d9146",
   "metadata": {},
   "outputs": [
    {
     "data": {
      "text/plain": [
       "7"
      ]
     },
     "execution_count": 33,
     "metadata": {},
     "output_type": "execute_result"
    }
   ],
   "source": [
    "ceil(6.7)"
   ]
  },
  {
   "cell_type": "code",
   "execution_count": 34,
   "id": "5647be40",
   "metadata": {},
   "outputs": [
    {
     "data": {
      "text/plain": [
       "3.141592653589793"
      ]
     },
     "execution_count": 34,
     "metadata": {},
     "output_type": "execute_result"
    }
   ],
   "source": [
    "pi"
   ]
  },
  {
   "cell_type": "code",
   "execution_count": 35,
   "id": "2f05bd73",
   "metadata": {},
   "outputs": [],
   "source": [
    "# 3rd way (MOST USED)\n",
    "import math as m\n",
    "\n",
    "# Gives an alias to the module name\n",
    "\n",
    "# PROBLEMS\n",
    "# Doesn't solve the bloat problem"
   ]
  },
  {
   "cell_type": "code",
   "execution_count": 36,
   "id": "ddf1cc26",
   "metadata": {},
   "outputs": [],
   "source": [
    "# 4th Way\n",
    "from math import pi, floor, factorial\n",
    "\n",
    "# Only imports the required objects from the module"
   ]
  },
  {
   "cell_type": "code",
   "execution_count": 37,
   "id": "99358bf1",
   "metadata": {},
   "outputs": [
    {
     "data": {
      "text/plain": [
       "3.141592653589793"
      ]
     },
     "execution_count": 37,
     "metadata": {},
     "output_type": "execute_result"
    }
   ],
   "source": [
    "pi"
   ]
  },
  {
   "cell_type": "code",
   "execution_count": 42,
   "id": "f89b0c73",
   "metadata": {},
   "outputs": [],
   "source": [
    "# 4.1\n",
    "from math import pi as pi_value, floor as flr\n",
    "\n",
    "# Mechanism to give aliases to objects while importing"
   ]
  },
  {
   "cell_type": "code",
   "execution_count": 39,
   "id": "afef1604",
   "metadata": {},
   "outputs": [
    {
     "data": {
      "text/plain": [
       "3.141592653589793"
      ]
     },
     "execution_count": 39,
     "metadata": {},
     "output_type": "execute_result"
    }
   ],
   "source": [
    "pi_value"
   ]
  },
  {
   "cell_type": "code",
   "execution_count": 41,
   "id": "92cd3b5c",
   "metadata": {},
   "outputs": [
    {
     "data": {
      "text/plain": [
       "6"
      ]
     },
     "execution_count": 41,
     "metadata": {},
     "output_type": "execute_result"
    }
   ],
   "source": [
    "flr(6.7)"
   ]
  },
  {
   "cell_type": "code",
   "execution_count": 43,
   "id": "60b85363",
   "metadata": {},
   "outputs": [
    {
     "data": {
      "text/plain": [
       "'\\nHOMEWORK ->\\n\\n- Create `custom_math.py`\\n- Write functions to add, multiple, sub, divide in this file\\n- Import this file in another `main.py` file and use the functions\\n'"
      ]
     },
     "execution_count": 43,
     "metadata": {},
     "output_type": "execute_result"
    }
   ],
   "source": [
    "'''\n",
    "HOMEWORK ->\n",
    "\n",
    "- Create `custom_math.py`\n",
    "- Write functions to add, multiple, sub, divide in this file\n",
    "- Import this file in another `main.py` file and use the functions\n",
    "'''"
   ]
  },
  {
   "cell_type": "markdown",
   "id": "0ce2e546",
   "metadata": {},
   "source": [
    "# EXCEPTION HANDLING"
   ]
  },
  {
   "cell_type": "code",
   "execution_count": 45,
   "id": "a6f7bfc4",
   "metadata": {},
   "outputs": [
    {
     "name": "stdout",
     "output_type": "stream",
     "text": [
      "Something something!\n"
     ]
    },
    {
     "ename": "ZeroDivisionError",
     "evalue": "division by zero",
     "output_type": "error",
     "traceback": [
      "\u001b[0;31m---------------------------------------------------------------------------\u001b[0m",
      "\u001b[0;31mZeroDivisionError\u001b[0m                         Traceback (most recent call last)",
      "Cell \u001b[0;32mIn[45], line 3\u001b[0m\n\u001b[1;32m      1\u001b[0m \u001b[38;5;28mprint\u001b[39m(\u001b[38;5;124m\"\u001b[39m\u001b[38;5;124mSomething something!\u001b[39m\u001b[38;5;124m\"\u001b[39m)\n\u001b[0;32m----> 3\u001b[0m \u001b[38;5;241;43m1\u001b[39;49m\u001b[43m \u001b[49m\u001b[38;5;241;43m/\u001b[39;49m\u001b[43m \u001b[49m\u001b[38;5;241;43m0\u001b[39;49m\n\u001b[1;32m      5\u001b[0m \u001b[38;5;28mprint\u001b[39m(\u001b[38;5;124m\"\u001b[39m\u001b[38;5;124mkrle tu something something!\u001b[39m\u001b[38;5;124m\"\u001b[39m)\n",
      "\u001b[0;31mZeroDivisionError\u001b[0m: division by zero"
     ]
    }
   ],
   "source": [
    "print(\"Something something!\")\n",
    "\n",
    "1 / 0\n",
    "\n",
    "print(\"krle tu something something!\")"
   ]
  },
  {
   "cell_type": "code",
   "execution_count": 46,
   "id": "b41a92b7",
   "metadata": {},
   "outputs": [
    {
     "ename": "NameError",
     "evalue": "name 'wow_what_a_variable' is not defined",
     "output_type": "error",
     "traceback": [
      "\u001b[0;31m---------------------------------------------------------------------------\u001b[0m",
      "\u001b[0;31mNameError\u001b[0m                                 Traceback (most recent call last)",
      "Cell \u001b[0;32mIn[46], line 1\u001b[0m\n\u001b[0;32m----> 1\u001b[0m \u001b[38;5;28mprint\u001b[39m(\u001b[43mwow_what_a_variable\u001b[49m)\n",
      "\u001b[0;31mNameError\u001b[0m: name 'wow_what_a_variable' is not defined"
     ]
    }
   ],
   "source": [
    "print(wow_what_a_variable)"
   ]
  },
  {
   "cell_type": "code",
   "execution_count": 47,
   "id": "41577c32",
   "metadata": {},
   "outputs": [
    {
     "ename": "IndentationError",
     "evalue": "expected an indented block (3614531987.py, line 1)",
     "output_type": "error",
     "traceback": [
      "\u001b[0;36m  Cell \u001b[0;32mIn[47], line 1\u001b[0;36m\u001b[0m\n\u001b[0;31m    if 573:\u001b[0m\n\u001b[0m           ^\u001b[0m\n\u001b[0;31mIndentationError\u001b[0m\u001b[0;31m:\u001b[0m expected an indented block\n"
     ]
    }
   ],
   "source": [
    "if 573:"
   ]
  },
  {
   "cell_type": "code",
   "execution_count": 48,
   "id": "8af5da0f",
   "metadata": {},
   "outputs": [
    {
     "ename": "ModuleNotFoundError",
     "evalue": "No module named 'does_not_exist'",
     "output_type": "error",
     "traceback": [
      "\u001b[0;31m---------------------------------------------------------------------------\u001b[0m",
      "\u001b[0;31mModuleNotFoundError\u001b[0m                       Traceback (most recent call last)",
      "Cell \u001b[0;32mIn[48], line 1\u001b[0m\n\u001b[0;32m----> 1\u001b[0m \u001b[38;5;28;01mimport\u001b[39;00m \u001b[38;5;21;01mdoes_not_exist\u001b[39;00m\n",
      "\u001b[0;31mModuleNotFoundError\u001b[0m: No module named 'does_not_exist'"
     ]
    }
   ],
   "source": [
    "import does_not_exist"
   ]
  },
  {
   "cell_type": "code",
   "execution_count": 49,
   "id": "c8cbc944",
   "metadata": {},
   "outputs": [
    {
     "ename": "AttributeError",
     "evalue": "'str' object has no attribute 'sort'",
     "output_type": "error",
     "traceback": [
      "\u001b[0;31m---------------------------------------------------------------------------\u001b[0m",
      "\u001b[0;31mAttributeError\u001b[0m                            Traceback (most recent call last)",
      "Cell \u001b[0;32mIn[49], line 1\u001b[0m\n\u001b[0;32m----> 1\u001b[0m \u001b[38;5;124;43m\"\u001b[39;49m\u001b[38;5;124;43mrandom string with words\u001b[39;49m\u001b[38;5;124;43m\"\u001b[39;49m\u001b[38;5;241;43m.\u001b[39;49m\u001b[43msort\u001b[49m()\n",
      "\u001b[0;31mAttributeError\u001b[0m: 'str' object has no attribute 'sort'"
     ]
    }
   ],
   "source": [
    "\"random string with words\".sort()"
   ]
  },
  {
   "cell_type": "code",
   "execution_count": 51,
   "id": "89067fb3",
   "metadata": {},
   "outputs": [],
   "source": [
    "# dir(__builtins__)"
   ]
  },
  {
   "cell_type": "code",
   "execution_count": 53,
   "id": "1b011936",
   "metadata": {},
   "outputs": [
    {
     "name": "stdout",
     "output_type": "stream",
     "text": [
      "ArithmeticError\n",
      "AssertionError\n",
      "AttributeError\n",
      "BlockingIOError\n",
      "BrokenPipeError\n",
      "BufferError\n",
      "ChildProcessError\n",
      "ConnectionAbortedError\n",
      "ConnectionError\n",
      "ConnectionRefusedError\n",
      "ConnectionResetError\n",
      "EOFError\n",
      "EnvironmentError\n",
      "FileExistsError\n",
      "FileNotFoundError\n",
      "FloatingPointError\n",
      "IOError\n",
      "ImportError\n",
      "IndentationError\n",
      "IndexError\n",
      "InterruptedError\n",
      "IsADirectoryError\n",
      "KeyError\n",
      "LookupError\n",
      "MemoryError\n",
      "ModuleNotFoundError\n",
      "NameError\n",
      "NotADirectoryError\n",
      "NotImplementedError\n",
      "OSError\n",
      "OverflowError\n",
      "PermissionError\n",
      "ProcessLookupError\n",
      "RecursionError\n",
      "ReferenceError\n",
      "RuntimeError\n",
      "SyntaxError\n",
      "SystemError\n",
      "TabError\n",
      "TimeoutError\n",
      "TypeError\n",
      "UnboundLocalError\n",
      "UnicodeDecodeError\n",
      "UnicodeEncodeError\n",
      "UnicodeError\n",
      "UnicodeTranslateError\n",
      "ValueError\n",
      "ZeroDivisionError\n",
      "There are 48 identifiable errors!\n"
     ]
    }
   ],
   "source": [
    "count = 0\n",
    "\n",
    "for i in dir(__builtins__):\n",
    "    if \"Error\" in i:\n",
    "        print(i)\n",
    "        count += 1\n",
    "        \n",
    "print(f\"There are {count} identifiable errors!\")"
   ]
  },
  {
   "cell_type": "code",
   "execution_count": 54,
   "id": "4440abc8",
   "metadata": {},
   "outputs": [],
   "source": [
    "# TRY - EXCEPT!"
   ]
  },
  {
   "cell_type": "code",
   "execution_count": 55,
   "id": "8b851dca",
   "metadata": {},
   "outputs": [],
   "source": [
    "def custom_divide(numerator, denominator):\n",
    "    return numerator / denominator"
   ]
  },
  {
   "cell_type": "code",
   "execution_count": 56,
   "id": "6f458a73",
   "metadata": {},
   "outputs": [
    {
     "name": "stdout",
     "output_type": "stream",
     "text": [
      "0.8333333333333334\n"
     ]
    }
   ],
   "source": [
    "try:\n",
    "    result = custom_divide(5, 6)\n",
    "    print(result)\n",
    "except:\n",
    "    print(\"WHY ARE YOU DIVIDING BY ZERO?\")"
   ]
  },
  {
   "cell_type": "code",
   "execution_count": 57,
   "id": "da24b870",
   "metadata": {},
   "outputs": [
    {
     "name": "stdout",
     "output_type": "stream",
     "text": [
      "WHY ARE YOU DIVIDING BY ZERO?\n"
     ]
    }
   ],
   "source": [
    "try:\n",
    "    result = custom_divide(5, 0)\n",
    "    print(result)\n",
    "except:\n",
    "    print(\"WHY ARE YOU DIVIDING BY ZERO?\")"
   ]
  },
  {
   "cell_type": "code",
   "execution_count": 60,
   "id": "e8bba0de",
   "metadata": {},
   "outputs": [
    {
     "name": "stdout",
     "output_type": "stream",
     "text": [
      "BEFORE TRY AND ERROR!\n",
      "WHY ARE YOU DIVIDING BY ZERO?\n",
      "AFTER TRY AND ERROR!\n"
     ]
    }
   ],
   "source": [
    "print(\"BEFORE TRY AND ERROR!\")\n",
    "\n",
    "try:\n",
    "    result = custom_divide(5, 0)\n",
    "    print(result)\n",
    "except:\n",
    "    print(\"WHY ARE YOU DIVIDING BY ZERO?\")\n",
    "    \n",
    "print(\"AFTER TRY AND ERROR!\")"
   ]
  },
  {
   "cell_type": "code",
   "execution_count": 61,
   "id": "6edd3662",
   "metadata": {},
   "outputs": [
    {
     "name": "stdout",
     "output_type": "stream",
     "text": [
      "Current Element - 2\n",
      "Result - 2.5\n",
      "-------------------------\n",
      "Current Element - 0\n",
      "THERE WAS AN ERROR!\n",
      "-------------------------\n",
      "Current Element - HELLO\n",
      "THERE WAS AN ERROR!\n",
      "-------------------------\n",
      "Current Element - None\n",
      "THERE WAS AN ERROR!\n",
      "-------------------------\n",
      "Current Element - True\n",
      "Result - 5.0\n",
      "-------------------------\n"
     ]
    }
   ],
   "source": [
    "l = [2, 0, \"HELLO\", None, True]\n",
    "\n",
    "for element in l:\n",
    "    try:\n",
    "        print(f\"Current Element - {element}\")\n",
    "        result = 5 / int(element)\n",
    "        print(f\"Result - {result}\")\n",
    "    except:\n",
    "        print(\"THERE WAS AN ERROR!\")\n",
    "        \n",
    "    print(\"-\" * 25)"
   ]
  },
  {
   "cell_type": "code",
   "execution_count": 62,
   "id": "705a2f72",
   "metadata": {},
   "outputs": [],
   "source": [
    "# In the above cases, we hace lost visibility of the type of error that is occuring."
   ]
  },
  {
   "cell_type": "code",
   "execution_count": 63,
   "id": "4eaf5e2d",
   "metadata": {},
   "outputs": [
    {
     "name": "stdout",
     "output_type": "stream",
     "text": [
      "Current Element - 2\n",
      "Result - 2.5\n",
      "-------------------------\n",
      "Current Element - 0\n",
      "Exception Occured - division by zero\n",
      "-------------------------\n",
      "Current Element - HELLO\n",
      "Exception Occured - invalid literal for int() with base 10: 'HELLO'\n",
      "-------------------------\n",
      "Current Element - None\n",
      "Exception Occured - int() argument must be a string, a bytes-like object or a number, not 'NoneType'\n",
      "-------------------------\n",
      "Current Element - True\n",
      "Result - 5.0\n",
      "-------------------------\n"
     ]
    }
   ],
   "source": [
    "l = [2, 0, \"HELLO\", None, True]\n",
    "\n",
    "for element in l:\n",
    "    try:\n",
    "        print(f\"Current Element - {element}\")\n",
    "        result = 5 / int(element)\n",
    "        print(f\"Result - {result}\")\n",
    "    except Exception as e:\n",
    "        print(f\"Exception Occured - {e}\")\n",
    "        \n",
    "    print(\"-\" * 25)"
   ]
  },
  {
   "cell_type": "code",
   "execution_count": 65,
   "id": "da5e043d",
   "metadata": {},
   "outputs": [
    {
     "name": "stdout",
     "output_type": "stream",
     "text": [
      "Current Element - 2\n",
      "Result - 2.5\n",
      "-------------------------\n",
      "Current Element - 0\n",
      "DIVING BY ZERO IS FUN!\n",
      "-------------------------\n",
      "Current Element - HELLO\n",
      "Exception Occured - invalid literal for int() with base 10: 'HELLO'\n",
      "-------------------------\n",
      "Current Element - None\n",
      "Exception Occured - int() argument must be a string, a bytes-like object or a number, not 'NoneType'\n",
      "-------------------------\n",
      "Current Element - True\n",
      "Result - 5.0\n",
      "-------------------------\n"
     ]
    }
   ],
   "source": [
    "l = [2, 0, \"HELLO\", None, True]\n",
    "\n",
    "for element in l:\n",
    "    try:\n",
    "        print(f\"Current Element - {element}\")\n",
    "        result = 5 / int(element)\n",
    "        print(f\"Result - {result}\")\n",
    "    except ZeroDivisionError as z:\n",
    "        print(\"DIVING BY ZERO IS FUN!\")\n",
    "    except Exception as e:\n",
    "        print(f\"Exception Occured - {e}\")\n",
    "        \n",
    "    print(\"-\" * 25)"
   ]
  },
  {
   "cell_type": "code",
   "execution_count": 68,
   "id": "8a415c9d",
   "metadata": {},
   "outputs": [
    {
     "name": "stdout",
     "output_type": "stream",
     "text": [
      "T\n",
      "Z\n",
      "E\n",
      "E\n",
      "T\n",
      "--------------------------------------------------\n",
      "T\n",
      "E\n",
      "E\n",
      "E\n",
      "T\n"
     ]
    }
   ],
   "source": [
    "# Except statements should go from specific to generic\n",
    "\n",
    "# THIS IS INCORRECT\n",
    "\n",
    "l = [2, 0, \"HELLO\", None, True]\n",
    "\n",
    "for element in l:\n",
    "    try:\n",
    "        result = 5 / int(element)\n",
    "        print(\"T\")\n",
    "    except ZeroDivisionError as z:\n",
    "        print(\"Z\")\n",
    "    except Exception as e:\n",
    "        print(\"E\")\n",
    "        \n",
    "print(\"-\" * 50)\n",
    "\n",
    "# THIS IS CORRECT\n",
    "\n",
    "l = [2, 0, \"HELLO\", None, True]\n",
    "\n",
    "for element in l:\n",
    "    try:\n",
    "        result = 5 / int(element)\n",
    "        print(\"T\")\n",
    "    except Exception as e:\n",
    "        print(\"E\")\n",
    "    except ZeroDivisionError as z:\n",
    "        print(\"Z\")"
   ]
  },
  {
   "cell_type": "code",
   "execution_count": 70,
   "id": "d15410b2",
   "metadata": {},
   "outputs": [
    {
     "data": {
      "text/plain": [
       "'\\nHOMEWORK - \\n\\nStudy about finally and else blocks.\\n'"
      ]
     },
     "execution_count": 70,
     "metadata": {},
     "output_type": "execute_result"
    }
   ],
   "source": [
    "'''\n",
    "HOMEWORK - \n",
    "\n",
    "Study about finally and else blocks.\n",
    "'''"
   ]
  },
  {
   "cell_type": "code",
   "execution_count": 73,
   "id": "16425021",
   "metadata": {},
   "outputs": [
    {
     "name": "stdout",
     "output_type": "stream",
     "text": [
      "Try\n",
      "Else\n",
      "Finally\n"
     ]
    }
   ],
   "source": [
    "try: # Code gets tried here\n",
    "    print(\"Try\")\n",
    "    # 1 / 0\n",
    "except: # Executes only if there is an error in try\n",
    "    print(\"Except\")\n",
    "else: # Exceutes only if there is no error in try\n",
    "    print(\"Else\")\n",
    "finally: # Executes always\n",
    "    print(\"Finally\")"
   ]
  },
  {
   "cell_type": "code",
   "execution_count": 74,
   "id": "7a5bc1e3",
   "metadata": {},
   "outputs": [
    {
     "ename": "Exception",
     "evalue": "This password is incorrect!",
     "output_type": "error",
     "traceback": [
      "\u001b[0;31m---------------------------------------------------------------------------\u001b[0m",
      "\u001b[0;31mException\u001b[0m                                 Traceback (most recent call last)",
      "Cell \u001b[0;32mIn[74], line 1\u001b[0m\n\u001b[0;32m----> 1\u001b[0m \u001b[38;5;28;01mraise\u001b[39;00m \u001b[38;5;167;01mException\u001b[39;00m(\u001b[38;5;124m\"\u001b[39m\u001b[38;5;124mThis password is incorrect!\u001b[39m\u001b[38;5;124m\"\u001b[39m)\n",
      "\u001b[0;31mException\u001b[0m: This password is incorrect!"
     ]
    }
   ],
   "source": [
    "raise Exception(\"This password is incorrect!\")"
   ]
  },
  {
   "cell_type": "code",
   "execution_count": 75,
   "id": "4885c2e7",
   "metadata": {},
   "outputs": [],
   "source": [
    "NameLengthException = Exception(\"Length of the name must be >4 characters!\")"
   ]
  },
  {
   "cell_type": "code",
   "execution_count": 76,
   "id": "76cf56fc",
   "metadata": {},
   "outputs": [
    {
     "ename": "Exception",
     "evalue": "Length of the name must be >4 characters!",
     "output_type": "error",
     "traceback": [
      "\u001b[0;31m---------------------------------------------------------------------------\u001b[0m",
      "\u001b[0;31mException\u001b[0m                                 Traceback (most recent call last)",
      "Cell \u001b[0;32mIn[76], line 1\u001b[0m\n\u001b[0;32m----> 1\u001b[0m \u001b[38;5;28;01mraise\u001b[39;00m NameLengthException\n",
      "\u001b[0;31mException\u001b[0m: Length of the name must be >4 characters!"
     ]
    }
   ],
   "source": [
    "raise NameLengthException"
   ]
  },
  {
   "cell_type": "code",
   "execution_count": 77,
   "id": "714b0d9c",
   "metadata": {},
   "outputs": [],
   "source": [
    "class NameLengthException1(Exception):\n",
    "    def __init__(self):\n",
    "        super().__init__(\"Length of the name must be >4 characters!\")"
   ]
  },
  {
   "cell_type": "code",
   "execution_count": 78,
   "id": "8f78dd12",
   "metadata": {},
   "outputs": [],
   "source": [
    "random = NameLengthException1()"
   ]
  },
  {
   "cell_type": "code",
   "execution_count": 79,
   "id": "895610b5",
   "metadata": {},
   "outputs": [
    {
     "ename": "NameLengthException1",
     "evalue": "Length of the name must be >4 characters!",
     "output_type": "error",
     "traceback": [
      "\u001b[0;31m---------------------------------------------------------------------------\u001b[0m",
      "\u001b[0;31mNameLengthException1\u001b[0m                      Traceback (most recent call last)",
      "Cell \u001b[0;32mIn[79], line 1\u001b[0m\n\u001b[0;32m----> 1\u001b[0m \u001b[38;5;28;01mraise\u001b[39;00m random\n",
      "\u001b[0;31mNameLengthException1\u001b[0m: Length of the name must be >4 characters!"
     ]
    }
   ],
   "source": [
    "raise random"
   ]
  },
  {
   "cell_type": "code",
   "execution_count": null,
   "id": "dc80c6d9",
   "metadata": {},
   "outputs": [],
   "source": []
  }
 ],
 "metadata": {
  "kernelspec": {
   "display_name": "Python 3 (ipykernel)",
   "language": "python",
   "name": "python3"
  },
  "language_info": {
   "codemirror_mode": {
    "name": "ipython",
    "version": 3
   },
   "file_extension": ".py",
   "mimetype": "text/x-python",
   "name": "python",
   "nbconvert_exporter": "python",
   "pygments_lexer": "ipython3",
   "version": "3.9.5"
  }
 },
 "nbformat": 4,
 "nbformat_minor": 5
}
