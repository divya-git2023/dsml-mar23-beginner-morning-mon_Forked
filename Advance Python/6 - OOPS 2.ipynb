{
 "cells": [
  {
   "cell_type": "code",
   "execution_count": 6,
   "id": "46d4e45f",
   "metadata": {},
   "outputs": [],
   "source": [
    "l = [5, 2, 1, 4, 3]"
   ]
  },
  {
   "cell_type": "code",
   "execution_count": 7,
   "id": "959fffde",
   "metadata": {},
   "outputs": [
    {
     "data": {
      "text/plain": [
       "[1, 2, 3, 4, 5]"
      ]
     },
     "execution_count": 7,
     "metadata": {},
     "output_type": "execute_result"
    }
   ],
   "source": [
    "sorted(l) # FUNCTIONS"
   ]
  },
  {
   "cell_type": "code",
   "execution_count": 8,
   "id": "912b148e",
   "metadata": {},
   "outputs": [],
   "source": [
    "l = [5, 2, 1, 4, 3]"
   ]
  },
  {
   "cell_type": "code",
   "execution_count": 9,
   "id": "4d18ab8b",
   "metadata": {},
   "outputs": [],
   "source": [
    "l.sort() # METHODS"
   ]
  },
  {
   "cell_type": "code",
   "execution_count": 10,
   "id": "58851031",
   "metadata": {},
   "outputs": [
    {
     "data": {
      "text/plain": [
       "[1, 2, 3, 4, 5]"
      ]
     },
     "execution_count": 10,
     "metadata": {},
     "output_type": "execute_result"
    }
   ],
   "source": [
    "l"
   ]
  },
  {
   "cell_type": "markdown",
   "id": "edd9b0e2",
   "metadata": {},
   "source": [
    "# Dunders\n",
    "\n",
    "These are special functions which help change the default behaviours connected to objects!"
   ]
  },
  {
   "cell_type": "code",
   "execution_count": 11,
   "id": "2eebd48f",
   "metadata": {},
   "outputs": [],
   "source": [
    "class Car:\n",
    "    def __init__(self, name, milaege):\n",
    "        self.name = name\n",
    "        self.milaege = milaege"
   ]
  },
  {
   "cell_type": "code",
   "execution_count": 12,
   "id": "6e2a0b32",
   "metadata": {},
   "outputs": [],
   "source": [
    "c1 = Car(\"Nexon\", 14)"
   ]
  },
  {
   "cell_type": "code",
   "execution_count": 13,
   "id": "31b21775",
   "metadata": {},
   "outputs": [
    {
     "name": "stdout",
     "output_type": "stream",
     "text": [
      "<__main__.Car object at 0x7fccd9aab550>\n"
     ]
    }
   ],
   "source": [
    "print(c1)"
   ]
  },
  {
   "cell_type": "code",
   "execution_count": 14,
   "id": "7702492b",
   "metadata": {},
   "outputs": [],
   "source": [
    "# Ideal print value - \"Nexon -> 14\""
   ]
  },
  {
   "cell_type": "code",
   "execution_count": 15,
   "id": "f4b1072e",
   "metadata": {},
   "outputs": [],
   "source": [
    "class Car:\n",
    "    def __init__(self, name, milaege):\n",
    "        self.name = name\n",
    "        self.milaege = milaege\n",
    "        \n",
    "    # Whenever an object is printed, that class' __str__ dunder is invoked\n",
    "    def __str__(self):\n",
    "        return f\"{self.name} -> {self.milaege}\""
   ]
  },
  {
   "cell_type": "code",
   "execution_count": 16,
   "id": "43c87355",
   "metadata": {},
   "outputs": [],
   "source": [
    "c1 = Car(\"Nexon\", 14)"
   ]
  },
  {
   "cell_type": "code",
   "execution_count": 17,
   "id": "f9a4423b",
   "metadata": {},
   "outputs": [
    {
     "name": "stdout",
     "output_type": "stream",
     "text": [
      "Nexon -> 14\n"
     ]
    }
   ],
   "source": [
    "print(c1)"
   ]
  },
  {
   "cell_type": "code",
   "execution_count": 18,
   "id": "29338e17",
   "metadata": {},
   "outputs": [],
   "source": [
    "c2 = Car(\"Altroz\", 15)"
   ]
  },
  {
   "cell_type": "code",
   "execution_count": 19,
   "id": "32e34b6b",
   "metadata": {},
   "outputs": [
    {
     "ename": "TypeError",
     "evalue": "unsupported operand type(s) for +: 'Car' and 'Car'",
     "output_type": "error",
     "traceback": [
      "\u001b[0;31m---------------------------------------------------------------------------\u001b[0m",
      "\u001b[0;31mTypeError\u001b[0m                                 Traceback (most recent call last)",
      "Cell \u001b[0;32mIn[19], line 1\u001b[0m\n\u001b[0;32m----> 1\u001b[0m \u001b[43mc1\u001b[49m\u001b[43m \u001b[49m\u001b[38;5;241;43m+\u001b[39;49m\u001b[43m \u001b[49m\u001b[43mc2\u001b[49m\n",
      "\u001b[0;31mTypeError\u001b[0m: unsupported operand type(s) for +: 'Car' and 'Car'"
     ]
    }
   ],
   "source": [
    "c1 + c2"
   ]
  },
  {
   "cell_type": "code",
   "execution_count": 22,
   "id": "3a0d5e5a",
   "metadata": {},
   "outputs": [
    {
     "ename": "TypeError",
     "evalue": "unsupported operand type(s) for +: 'dict' and 'dict'",
     "output_type": "error",
     "traceback": [
      "\u001b[0;31m---------------------------------------------------------------------------\u001b[0m",
      "\u001b[0;31mTypeError\u001b[0m                                 Traceback (most recent call last)",
      "Cell \u001b[0;32mIn[22], line 1\u001b[0m\n\u001b[0;32m----> 1\u001b[0m \u001b[43m{\u001b[49m\u001b[38;5;124;43m\"\u001b[39;49m\u001b[38;5;124;43ma\u001b[39;49m\u001b[38;5;124;43m\"\u001b[39;49m\u001b[43m:\u001b[49m\u001b[38;5;241;43m1\u001b[39;49m\u001b[43m,\u001b[49m\u001b[43m \u001b[49m\u001b[38;5;124;43m\"\u001b[39;49m\u001b[38;5;124;43mb\u001b[39;49m\u001b[38;5;124;43m\"\u001b[39;49m\u001b[43m:\u001b[49m\u001b[38;5;241;43m2\u001b[39;49m\u001b[43m}\u001b[49m\u001b[43m \u001b[49m\u001b[38;5;241;43m+\u001b[39;49m\u001b[43m \u001b[49m\u001b[43m{\u001b[49m\u001b[38;5;124;43m\"\u001b[39;49m\u001b[38;5;124;43mc\u001b[39;49m\u001b[38;5;124;43m\"\u001b[39;49m\u001b[43m:\u001b[49m\u001b[38;5;241;43m3\u001b[39;49m\u001b[43m,\u001b[49m\u001b[43m \u001b[49m\u001b[38;5;124;43m\"\u001b[39;49m\u001b[38;5;124;43md\u001b[39;49m\u001b[38;5;124;43m\"\u001b[39;49m\u001b[43m:\u001b[49m\u001b[38;5;241;43m4\u001b[39;49m\u001b[43m}\u001b[49m\n",
      "\u001b[0;31mTypeError\u001b[0m: unsupported operand type(s) for +: 'dict' and 'dict'"
     ]
    }
   ],
   "source": [
    "{\"a\":1, \"b\":2} + {\"c\":3, \"d\":4}"
   ]
  },
  {
   "cell_type": "code",
   "execution_count": 33,
   "id": "59e14985",
   "metadata": {},
   "outputs": [],
   "source": [
    "class Car:\n",
    "    def __init__(self, name, milaege):\n",
    "        self.name = name\n",
    "        self.milaege = milaege\n",
    "        \n",
    "    # Whenever an object is printed, that class' __str__ dunder is invoked\n",
    "    def __str__(self):\n",
    "        return f\"{self.name} -> {self.milaege}\"\n",
    "    \n",
    "    # To enable addition on two of this class' objects\n",
    "    def __add__(self, other):\n",
    "        return f\"{self.name} -> {self.milaege} and {other.name} -> {other.milaege}\"\n",
    "    \n",
    "    def __lt__(self, other):\n",
    "        return self.milaege < other.milaege"
   ]
  },
  {
   "cell_type": "code",
   "execution_count": 34,
   "id": "758bffdc",
   "metadata": {},
   "outputs": [],
   "source": [
    "c1 = Car(\"Nexon\", 14)\n",
    "c2 = Car(\"Altroz\", 15)"
   ]
  },
  {
   "cell_type": "code",
   "execution_count": 35,
   "id": "b1a6230b",
   "metadata": {},
   "outputs": [
    {
     "data": {
      "text/plain": [
       "'Nexon -> 14 and Altroz -> 15'"
      ]
     },
     "execution_count": 35,
     "metadata": {},
     "output_type": "execute_result"
    }
   ],
   "source": [
    "c1 + c2"
   ]
  },
  {
   "cell_type": "code",
   "execution_count": 36,
   "id": "90de67b8",
   "metadata": {},
   "outputs": [
    {
     "data": {
      "text/plain": [
       "False"
      ]
     },
     "execution_count": 36,
     "metadata": {},
     "output_type": "execute_result"
    }
   ],
   "source": [
    "c2 < c1"
   ]
  },
  {
   "cell_type": "markdown",
   "id": "261bbb68",
   "metadata": {},
   "source": [
    "Documentation for dunders -> https://docs.python.org/3/reference/datamodel.html"
   ]
  },
  {
   "cell_type": "code",
   "execution_count": 31,
   "id": "9b61a7f7",
   "metadata": {},
   "outputs": [
    {
     "ename": "NameError",
     "evalue": "name 'cout' is not defined",
     "output_type": "error",
     "traceback": [
      "\u001b[0;31m---------------------------------------------------------------------------\u001b[0m",
      "\u001b[0;31mNameError\u001b[0m                                 Traceback (most recent call last)",
      "Cell \u001b[0;32mIn[31], line 1\u001b[0m\n\u001b[0;32m----> 1\u001b[0m \u001b[43mcout\u001b[49m \u001b[38;5;241m<<\u001b[39m \u001b[38;5;124m\"\u001b[39m\u001b[38;5;124mTHIS IS PRINTED!\u001b[39m\u001b[38;5;124m\"\u001b[39m\n",
      "\u001b[0;31mNameError\u001b[0m: name 'cout' is not defined"
     ]
    }
   ],
   "source": [
    "cout << \"THIS IS PRINTED!\""
   ]
  },
  {
   "cell_type": "code",
   "execution_count": 32,
   "id": "6feeabf0",
   "metadata": {},
   "outputs": [
    {
     "data": {
      "text/plain": [
       "'\\nHomework -\\n\\n1. Make changes to the add dunder such that it can add 3 car objects simultaneously.\\n2. \\'cout << \"THIS IS PRINTED!\"\\'\\n    - Make this work in python.\\n    - \\'cout << \"First\" << \"Second\" << \"Third\"\\' make this work as well.\\n'"
      ]
     },
     "execution_count": 32,
     "metadata": {},
     "output_type": "execute_result"
    }
   ],
   "source": [
    "'''\n",
    "Homework -\n",
    "\n",
    "1. Make changes to the add dunder such that it can add 3 car objects simultaneously.\n",
    "2. 'cout << \"THIS IS PRINTED!\"'\n",
    "    - Make this work in python.\n",
    "    - 'cout << \"First\" << \"Second\" << \"Third\"' make this work as well.\n",
    "'''"
   ]
  },
  {
   "cell_type": "markdown",
   "id": "c48c5512",
   "metadata": {},
   "source": [
    "# Inheritence"
   ]
  },
  {
   "cell_type": "code",
   "execution_count": 37,
   "id": "69a1dee5",
   "metadata": {},
   "outputs": [],
   "source": [
    "class Parent:\n",
    "    def __init__(self):\n",
    "        print(\"Parent Class!\")\n",
    "        \n",
    "class Child(Parent):\n",
    "    def __init__(self):\n",
    "        print(\"Child Class!\")"
   ]
  },
  {
   "cell_type": "code",
   "execution_count": 40,
   "id": "ac5cb9aa",
   "metadata": {},
   "outputs": [],
   "source": [
    "class SchoolMember:\n",
    "    def __init__(self, name):\n",
    "        self.name = name\n",
    "        \n",
    "class Student(SchoolMember):\n",
    "    def __init__(self, name, age):\n",
    "        self.age = age\n",
    "        \n",
    "class Staff(SchoolMember):\n",
    "    def __init__(self, name, salary):\n",
    "        self.salary = salary\n",
    "        \n",
    "class Teacher(Staff):\n",
    "    def __init__(self, name, salary, department):\n",
    "        self.department = department"
   ]
  },
  {
   "cell_type": "code",
   "execution_count": 41,
   "id": "3574e2b5",
   "metadata": {},
   "outputs": [],
   "source": [
    "s1 = Student(\"Bipin Kalra\", 5000)"
   ]
  },
  {
   "cell_type": "code",
   "execution_count": 42,
   "id": "0ca04653",
   "metadata": {},
   "outputs": [
    {
     "data": {
      "text/plain": [
       "5000"
      ]
     },
     "execution_count": 42,
     "metadata": {},
     "output_type": "execute_result"
    }
   ],
   "source": [
    "s1.age"
   ]
  },
  {
   "cell_type": "code",
   "execution_count": 43,
   "id": "5f42c7a9",
   "metadata": {},
   "outputs": [
    {
     "ename": "AttributeError",
     "evalue": "'Student' object has no attribute 'name'",
     "output_type": "error",
     "traceback": [
      "\u001b[0;31m---------------------------------------------------------------------------\u001b[0m",
      "\u001b[0;31mAttributeError\u001b[0m                            Traceback (most recent call last)",
      "Cell \u001b[0;32mIn[43], line 1\u001b[0m\n\u001b[0;32m----> 1\u001b[0m \u001b[43ms1\u001b[49m\u001b[38;5;241;43m.\u001b[39;49m\u001b[43mname\u001b[49m\n",
      "\u001b[0;31mAttributeError\u001b[0m: 'Student' object has no attribute 'name'"
     ]
    }
   ],
   "source": [
    "s1.name"
   ]
  },
  {
   "cell_type": "code",
   "execution_count": 44,
   "id": "26ccebab",
   "metadata": {},
   "outputs": [],
   "source": [
    "class SchoolMember:\n",
    "    def __init__(self, name):\n",
    "        self.name = name\n",
    "        \n",
    "class Student(SchoolMember):\n",
    "    def __init__(self, name, age):\n",
    "        self.age = age\n",
    "        \n",
    "        # SchoolMember.__init__(self, name)\n",
    "        super().__init__(name)\n",
    "        # self is passed automatically in case of super()\n",
    "        # super() points to the immediate parent class"
   ]
  },
  {
   "cell_type": "code",
   "execution_count": 45,
   "id": "ce3ce3fa",
   "metadata": {},
   "outputs": [],
   "source": [
    "s1 = Student(\"Bipin Kalra\", 5000)"
   ]
  },
  {
   "cell_type": "code",
   "execution_count": 46,
   "id": "242c003e",
   "metadata": {},
   "outputs": [
    {
     "data": {
      "text/plain": [
       "5000"
      ]
     },
     "execution_count": 46,
     "metadata": {},
     "output_type": "execute_result"
    }
   ],
   "source": [
    "s1.age"
   ]
  },
  {
   "cell_type": "code",
   "execution_count": 47,
   "id": "cab33251",
   "metadata": {},
   "outputs": [
    {
     "data": {
      "text/plain": [
       "'Bipin Kalra'"
      ]
     },
     "execution_count": 47,
     "metadata": {},
     "output_type": "execute_result"
    }
   ],
   "source": [
    "s1.name"
   ]
  },
  {
   "cell_type": "code",
   "execution_count": 48,
   "id": "00ebe52d",
   "metadata": {},
   "outputs": [],
   "source": [
    "class SchoolMember:\n",
    "    def __init__(self, name):\n",
    "        self.name = name\n",
    "        \n",
    "class Student(SchoolMember):\n",
    "    def __init__(self, name, age):\n",
    "        self.age = age\n",
    "        \n",
    "        super().__init__(name)\n",
    "        \n",
    "class Staff(SchoolMember):\n",
    "    def __init__(self, name, salary):\n",
    "        self.salary = salary\n",
    "        \n",
    "        super().__init__(name)\n",
    "        \n",
    "class Teacher(Staff):\n",
    "    def __init__(self, name, salary, department):\n",
    "        self.department = department\n",
    "        \n",
    "        super().__init__(name, salary)"
   ]
  },
  {
   "cell_type": "code",
   "execution_count": 49,
   "id": "f9b32be8",
   "metadata": {},
   "outputs": [],
   "source": [
    "t1 = Teacher(\"Bipin\", 10, \"Python\")"
   ]
  },
  {
   "cell_type": "code",
   "execution_count": 50,
   "id": "8849b557",
   "metadata": {},
   "outputs": [
    {
     "data": {
      "text/plain": [
       "'Bipin'"
      ]
     },
     "execution_count": 50,
     "metadata": {},
     "output_type": "execute_result"
    }
   ],
   "source": [
    "t1.name"
   ]
  },
  {
   "cell_type": "code",
   "execution_count": 51,
   "id": "43231d69",
   "metadata": {},
   "outputs": [
    {
     "data": {
      "text/plain": [
       "10"
      ]
     },
     "execution_count": 51,
     "metadata": {},
     "output_type": "execute_result"
    }
   ],
   "source": [
    "t1.salary"
   ]
  },
  {
   "cell_type": "code",
   "execution_count": 53,
   "id": "fcc60c06",
   "metadata": {},
   "outputs": [
    {
     "data": {
      "text/plain": [
       "'Python'"
      ]
     },
     "execution_count": 53,
     "metadata": {},
     "output_type": "execute_result"
    }
   ],
   "source": [
    "t1.department"
   ]
  },
  {
   "cell_type": "code",
   "execution_count": 54,
   "id": "592e1290",
   "metadata": {},
   "outputs": [],
   "source": [
    "class BankAccount:\n",
    "    def __init__(self, initial_balance):\n",
    "        self.balance = initial_balance\n",
    "        \n",
    "    def withdraw(self, amount):\n",
    "        self.balance -= amount\n",
    "    \n",
    "    def deposit(self, amount):\n",
    "        self.balance += amount"
   ]
  },
  {
   "cell_type": "code",
   "execution_count": 55,
   "id": "7ea9cb9f",
   "metadata": {},
   "outputs": [],
   "source": [
    "b1 = BankAccount(10000)"
   ]
  },
  {
   "cell_type": "code",
   "execution_count": 56,
   "id": "4836dc95",
   "metadata": {},
   "outputs": [],
   "source": [
    "b1.deposit(5000)"
   ]
  },
  {
   "cell_type": "code",
   "execution_count": 57,
   "id": "517cf2dd",
   "metadata": {},
   "outputs": [
    {
     "data": {
      "text/plain": [
       "15000"
      ]
     },
     "execution_count": 57,
     "metadata": {},
     "output_type": "execute_result"
    }
   ],
   "source": [
    "b1.balance"
   ]
  },
  {
   "cell_type": "code",
   "execution_count": 58,
   "id": "15eced48",
   "metadata": {},
   "outputs": [],
   "source": [
    "b1.withdraw(15000)"
   ]
  },
  {
   "cell_type": "code",
   "execution_count": 59,
   "id": "4cff72b3",
   "metadata": {},
   "outputs": [
    {
     "data": {
      "text/plain": [
       "0"
      ]
     },
     "execution_count": 59,
     "metadata": {},
     "output_type": "execute_result"
    }
   ],
   "source": [
    "b1.balance"
   ]
  },
  {
   "cell_type": "code",
   "execution_count": 60,
   "id": "432eaeab",
   "metadata": {},
   "outputs": [],
   "source": [
    "b1.balance = 2345678909876543213456789098765432345678987654323456789"
   ]
  },
  {
   "cell_type": "code",
   "execution_count": 61,
   "id": "9cd79b59",
   "metadata": {},
   "outputs": [
    {
     "data": {
      "text/plain": [
       "2345678909876543213456789098765432345678987654323456789"
      ]
     },
     "execution_count": 61,
     "metadata": {},
     "output_type": "execute_result"
    }
   ],
   "source": [
    "b1.balance"
   ]
  },
  {
   "cell_type": "markdown",
   "id": "538aa300",
   "metadata": {},
   "source": [
    "### PRIVATE ATTRIBUTES\n",
    "\n",
    "- They are only accessible inside the class\n",
    "- Objects can't access them outside the class\n",
    "- They are not inherited"
   ]
  },
  {
   "cell_type": "code",
   "execution_count": 72,
   "id": "d4c5162b",
   "metadata": {},
   "outputs": [],
   "source": [
    "class BankAccount:\n",
    "    def __init__(self, initial_balance):\n",
    "        self.__balance = initial_balance # __ sets an attribute / method as private\n",
    "        \n",
    "    # Setter\n",
    "    def withdraw(self, amount):\n",
    "        self.__balance -= amount\n",
    "    \n",
    "    def deposit(self, amount):\n",
    "        self.__balance += amount\n",
    "        \n",
    "    def __special_private_function(self):\n",
    "        print(\"Private function - Only callable inside the class.\")\n",
    "        \n",
    "    # Getter\n",
    "    def show_balance(self):\n",
    "        self.__special_private_function()\n",
    "        return self.__balance"
   ]
  },
  {
   "cell_type": "code",
   "execution_count": 73,
   "id": "305d3fd4",
   "metadata": {},
   "outputs": [],
   "source": [
    "b1 = BankAccount(10000)"
   ]
  },
  {
   "cell_type": "code",
   "execution_count": 74,
   "id": "0df2deca",
   "metadata": {},
   "outputs": [
    {
     "ename": "AttributeError",
     "evalue": "'BankAccount' object has no attribute '__balance'",
     "output_type": "error",
     "traceback": [
      "\u001b[0;31m---------------------------------------------------------------------------\u001b[0m",
      "\u001b[0;31mAttributeError\u001b[0m                            Traceback (most recent call last)",
      "Cell \u001b[0;32mIn[74], line 1\u001b[0m\n\u001b[0;32m----> 1\u001b[0m \u001b[43mb1\u001b[49m\u001b[38;5;241;43m.\u001b[39;49m\u001b[43m__balance\u001b[49m\n",
      "\u001b[0;31mAttributeError\u001b[0m: 'BankAccount' object has no attribute '__balance'"
     ]
    }
   ],
   "source": [
    "b1.__balance"
   ]
  },
  {
   "cell_type": "code",
   "execution_count": 75,
   "id": "e5a2eb39",
   "metadata": {},
   "outputs": [
    {
     "name": "stdout",
     "output_type": "stream",
     "text": [
      "Private function - Only callable inside the class.\n"
     ]
    },
    {
     "data": {
      "text/plain": [
       "10000"
      ]
     },
     "execution_count": 75,
     "metadata": {},
     "output_type": "execute_result"
    }
   ],
   "source": [
    "b1.show_balance()"
   ]
  },
  {
   "cell_type": "code",
   "execution_count": 76,
   "id": "5e2162a5",
   "metadata": {},
   "outputs": [],
   "source": [
    "b1.deposit(5000)"
   ]
  },
  {
   "cell_type": "code",
   "execution_count": 77,
   "id": "d6b21346",
   "metadata": {},
   "outputs": [
    {
     "name": "stdout",
     "output_type": "stream",
     "text": [
      "Private function - Only callable inside the class.\n"
     ]
    },
    {
     "data": {
      "text/plain": [
       "15000"
      ]
     },
     "execution_count": 77,
     "metadata": {},
     "output_type": "execute_result"
    }
   ],
   "source": [
    "b1.show_balance()"
   ]
  },
  {
   "cell_type": "code",
   "execution_count": 78,
   "id": "3314e6af",
   "metadata": {},
   "outputs": [
    {
     "ename": "AttributeError",
     "evalue": "'BankAccount' object has no attribute '__special_private_function'",
     "output_type": "error",
     "traceback": [
      "\u001b[0;31m---------------------------------------------------------------------------\u001b[0m",
      "\u001b[0;31mAttributeError\u001b[0m                            Traceback (most recent call last)",
      "Cell \u001b[0;32mIn[78], line 1\u001b[0m\n\u001b[0;32m----> 1\u001b[0m \u001b[43mb1\u001b[49m\u001b[38;5;241;43m.\u001b[39;49m\u001b[43m__special_private_function\u001b[49m()\n",
      "\u001b[0;31mAttributeError\u001b[0m: 'BankAccount' object has no attribute '__special_private_function'"
     ]
    }
   ],
   "source": [
    "b1.__special_private_function()"
   ]
  },
  {
   "cell_type": "code",
   "execution_count": 79,
   "id": "2299a4d7",
   "metadata": {},
   "outputs": [],
   "source": [
    "# Name Mangling"
   ]
  },
  {
   "cell_type": "code",
   "execution_count": 80,
   "id": "b7a5178f",
   "metadata": {},
   "outputs": [
    {
     "data": {
      "text/plain": [
       "15000"
      ]
     },
     "execution_count": 80,
     "metadata": {},
     "output_type": "execute_result"
    }
   ],
   "source": [
    "b1._BankAccount__balance"
   ]
  },
  {
   "cell_type": "code",
   "execution_count": 81,
   "id": "a95d9b5d",
   "metadata": {},
   "outputs": [],
   "source": [
    "b1._BankAccount__balance = 23489843490987234568987654345678765432"
   ]
  },
  {
   "cell_type": "code",
   "execution_count": 82,
   "id": "62a85b29",
   "metadata": {},
   "outputs": [
    {
     "name": "stdout",
     "output_type": "stream",
     "text": [
      "Private function - Only callable inside the class.\n"
     ]
    },
    {
     "data": {
      "text/plain": [
       "23489843490987234568987654345678765432"
      ]
     },
     "execution_count": 82,
     "metadata": {},
     "output_type": "execute_result"
    }
   ],
   "source": [
    "b1.show_balance()"
   ]
  },
  {
   "cell_type": "markdown",
   "id": "98e0b847",
   "metadata": {},
   "source": [
    "### Multiple Inheritence"
   ]
  },
  {
   "cell_type": "code",
   "execution_count": 83,
   "id": "cb689205",
   "metadata": {},
   "outputs": [],
   "source": [
    "class A:\n",
    "    def __init__(self, a):\n",
    "        self.a = a\n",
    "        \n",
    "class B:\n",
    "    def __init__(self, b):\n",
    "        self.b = b\n",
    "        \n",
    "# C inherits from both A and B\n",
    "class C(A, B):\n",
    "    def __init__(self, a, b, c):\n",
    "        self.c = c\n",
    "        \n",
    "        A.__init__(self, a)\n",
    "        B.__init__(self, b)"
   ]
  },
  {
   "cell_type": "code",
   "execution_count": 84,
   "id": "47f6178d",
   "metadata": {},
   "outputs": [],
   "source": [
    "random = C(1, 2, 3)"
   ]
  },
  {
   "cell_type": "code",
   "execution_count": 85,
   "id": "0a60e78e",
   "metadata": {},
   "outputs": [
    {
     "data": {
      "text/plain": [
       "1"
      ]
     },
     "execution_count": 85,
     "metadata": {},
     "output_type": "execute_result"
    }
   ],
   "source": [
    "random.a"
   ]
  },
  {
   "cell_type": "code",
   "execution_count": 86,
   "id": "8d6c42ac",
   "metadata": {},
   "outputs": [
    {
     "data": {
      "text/plain": [
       "2"
      ]
     },
     "execution_count": 86,
     "metadata": {},
     "output_type": "execute_result"
    }
   ],
   "source": [
    "random.b"
   ]
  },
  {
   "cell_type": "code",
   "execution_count": 87,
   "id": "fd56a06d",
   "metadata": {},
   "outputs": [
    {
     "data": {
      "text/plain": [
       "3"
      ]
     },
     "execution_count": 87,
     "metadata": {},
     "output_type": "execute_result"
    }
   ],
   "source": [
    "random.c"
   ]
  },
  {
   "cell_type": "code",
   "execution_count": 88,
   "id": "57d74482",
   "metadata": {},
   "outputs": [
    {
     "data": {
      "text/plain": [
       "'\\nHOMEWORK - \\nFigure out the way to use super() in cases of multiple inheritence\\n'"
      ]
     },
     "execution_count": 88,
     "metadata": {},
     "output_type": "execute_result"
    }
   ],
   "source": [
    "'''\n",
    "HOMEWORK - \n",
    "Figure out the way to use super() in cases of multiple inheritence\n",
    "'''"
   ]
  },
  {
   "cell_type": "code",
   "execution_count": 102,
   "id": "11084e39",
   "metadata": {},
   "outputs": [],
   "source": [
    "class A:\n",
    "    x = 1\n",
    "    \n",
    "class B(A):\n",
    "    x = 2\n",
    "\n",
    "class C(B):\n",
    "    x = 3\n",
    "\n",
    "class D(A):\n",
    "    x = 4\n",
    "    \n",
    "class E(C, D):\n",
    "    pass"
   ]
  },
  {
   "cell_type": "code",
   "execution_count": 103,
   "id": "90e92edc",
   "metadata": {},
   "outputs": [
    {
     "data": {
      "text/plain": [
       "3"
      ]
     },
     "execution_count": 103,
     "metadata": {},
     "output_type": "execute_result"
    }
   ],
   "source": [
    "e = E()\n",
    "e.x"
   ]
  },
  {
   "cell_type": "code",
   "execution_count": 101,
   "id": "d10d2158",
   "metadata": {},
   "outputs": [
    {
     "data": {
      "text/plain": [
       "(__main__.E, __main__.C, __main__.B, __main__.D, __main__.A, object)"
      ]
     },
     "execution_count": 101,
     "metadata": {},
     "output_type": "execute_result"
    }
   ],
   "source": [
    "E.__mro__"
   ]
  },
  {
   "cell_type": "code",
   "execution_count": 104,
   "id": "dcdda95c",
   "metadata": {
    "scrolled": true
   },
   "outputs": [
    {
     "data": {
      "text/plain": [
       "'\\nQuiz 1 ->\\n\\nclass A:\\n    print(\"Am I a class?\")\\n\\nA()\\n\\nobj1 = A()\\n\\nif A():\\n    print(A())\\n'"
      ]
     },
     "execution_count": 104,
     "metadata": {},
     "output_type": "execute_result"
    }
   ],
   "source": [
    "'''\n",
    "Quiz 1 ->\n",
    "\n",
    "class A:\n",
    "    print(\"Am I a class?\")\n",
    "\n",
    "A()\n",
    "\n",
    "obj1 = A()\n",
    "\n",
    "if A():\n",
    "    print(A())\n",
    "'''"
   ]
  },
  {
   "cell_type": "code",
   "execution_count": 105,
   "id": "1dccb25c",
   "metadata": {},
   "outputs": [
    {
     "data": {
      "text/plain": [
       "'\\nQuiz 2 ->\\n\\nclass Student:\\n    def __init__(random, id, age):\\n        self.id = id\\n        self.age = age\\n\\ns1 = Student(1, 5000)\\n'"
      ]
     },
     "execution_count": 105,
     "metadata": {},
     "output_type": "execute_result"
    }
   ],
   "source": [
    "'''\n",
    "Quiz 2 ->\n",
    "\n",
    "class Student:\n",
    "    def __init__(random, id, age):\n",
    "        self.id = id\n",
    "        self.age = age\n",
    "\n",
    "s1 = Student(1, 5000)\n",
    "'''"
   ]
  },
  {
   "cell_type": "code",
   "execution_count": 106,
   "id": "82e94b4b",
   "metadata": {},
   "outputs": [
    {
     "data": {
      "text/plain": [
       "'\\nQuiz 3 ->\\n\\nclass A:\\n    def __init__(self, name):\\n        self.name = name\\n    \\na1 = A(\"Bunty\")\\na2 = A(\"Babli\")\\n\\nprint(id(a1) == id(a2))\\n'"
      ]
     },
     "execution_count": 106,
     "metadata": {},
     "output_type": "execute_result"
    }
   ],
   "source": [
    "'''\n",
    "Quiz 3 ->\n",
    "\n",
    "class A:\n",
    "    def __init__(self, name):\n",
    "        self.name = name\n",
    "    \n",
    "a1 = A(\"Bunty\")\n",
    "a2 = A(\"Babli\")\n",
    "\n",
    "print(id(a1) == id(a2))\n",
    "'''"
   ]
  },
  {
   "cell_type": "code",
   "execution_count": 110,
   "id": "4cd9ca1b",
   "metadata": {},
   "outputs": [
    {
     "name": "stdout",
     "output_type": "stream",
     "text": [
      "False\n"
     ]
    }
   ],
   "source": [
    "class A:\n",
    "    def __init__(self, name):\n",
    "        self.name = name\n",
    "    \n",
    "a1 = A(\"Bunty\")\n",
    "a2 = A(\"Babli\")\n",
    "\n",
    "print(id(a1) == id(a2))"
   ]
  },
  {
   "cell_type": "code",
   "execution_count": 107,
   "id": "ffb9fb2a",
   "metadata": {},
   "outputs": [
    {
     "data": {
      "text/plain": [
       "'\\nQuiz 4 ->\\n\\nclass Counter:\\n    def __init__(self):\\n        self.count=5\\n        self.count=count+1\\n\\nc = Counter()\\nprint(c.count)\\n'"
      ]
     },
     "execution_count": 107,
     "metadata": {},
     "output_type": "execute_result"
    }
   ],
   "source": [
    "'''\n",
    "Quiz 4 ->\n",
    "\n",
    "class Counter:\n",
    "    def __init__(self):\n",
    "        self.count=5\n",
    "        self.count=count+1\n",
    "\n",
    "c = Counter()\n",
    "print(c.count)\n",
    "'''"
   ]
  },
  {
   "cell_type": "code",
   "execution_count": 109,
   "id": "3848124e",
   "metadata": {},
   "outputs": [
    {
     "ename": "NameError",
     "evalue": "name 'count' is not defined",
     "output_type": "error",
     "traceback": [
      "\u001b[0;31m---------------------------------------------------------------------------\u001b[0m",
      "\u001b[0;31mNameError\u001b[0m                                 Traceback (most recent call last)",
      "Cell \u001b[0;32mIn[109], line 6\u001b[0m\n\u001b[1;32m      3\u001b[0m         \u001b[38;5;28mself\u001b[39m\u001b[38;5;241m.\u001b[39mcount\u001b[38;5;241m=\u001b[39m\u001b[38;5;241m5\u001b[39m\n\u001b[1;32m      4\u001b[0m         \u001b[38;5;28mself\u001b[39m\u001b[38;5;241m.\u001b[39mcount\u001b[38;5;241m=\u001b[39mcount\u001b[38;5;241m+\u001b[39m\u001b[38;5;241m1\u001b[39m\n\u001b[0;32m----> 6\u001b[0m c \u001b[38;5;241m=\u001b[39m \u001b[43mCounter\u001b[49m\u001b[43m(\u001b[49m\u001b[43m)\u001b[49m\n\u001b[1;32m      7\u001b[0m \u001b[38;5;28mprint\u001b[39m(c\u001b[38;5;241m.\u001b[39mcount)\n",
      "Cell \u001b[0;32mIn[109], line 4\u001b[0m, in \u001b[0;36mCounter.__init__\u001b[0;34m(self)\u001b[0m\n\u001b[1;32m      2\u001b[0m \u001b[38;5;28;01mdef\u001b[39;00m \u001b[38;5;21m__init__\u001b[39m(\u001b[38;5;28mself\u001b[39m):\n\u001b[1;32m      3\u001b[0m     \u001b[38;5;28mself\u001b[39m\u001b[38;5;241m.\u001b[39mcount\u001b[38;5;241m=\u001b[39m\u001b[38;5;241m5\u001b[39m\n\u001b[0;32m----> 4\u001b[0m     \u001b[38;5;28mself\u001b[39m\u001b[38;5;241m.\u001b[39mcount\u001b[38;5;241m=\u001b[39m\u001b[43mcount\u001b[49m\u001b[38;5;241m+\u001b[39m\u001b[38;5;241m1\u001b[39m\n",
      "\u001b[0;31mNameError\u001b[0m: name 'count' is not defined"
     ]
    }
   ],
   "source": [
    "class Counter:\n",
    "    def __init__(self):\n",
    "        self.count=5\n",
    "        self.count=count+1\n",
    "\n",
    "c = Counter()\n",
    "print(c.count)"
   ]
  },
  {
   "cell_type": "code",
   "execution_count": 108,
   "id": "068a9cc3",
   "metadata": {},
   "outputs": [
    {
     "data": {
      "text/plain": [
       "\"\\nQuiz 5 ->\\n\\nclass A:\\n    def __init__(self):\\n        self.variable = 'Old'\\n        self.update(self.variable)\\n        \\n    def update(self, var):\\n        var = 'New'\\n        \\na = A()\\nprint(a.variable)\\n\""
      ]
     },
     "execution_count": 108,
     "metadata": {},
     "output_type": "execute_result"
    }
   ],
   "source": [
    "'''\n",
    "Quiz 5 ->\n",
    "\n",
    "class A:\n",
    "    def __init__(self):\n",
    "        self.variable = 'Old'\n",
    "        self.update(self.variable)\n",
    "        \n",
    "    def update(self, var):\n",
    "        var = 'New'\n",
    "        \n",
    "a = A()\n",
    "print(a.variable)\n",
    "'''"
   ]
  },
  {
   "cell_type": "code",
   "execution_count": 111,
   "id": "9ad5451c",
   "metadata": {},
   "outputs": [
    {
     "name": "stdout",
     "output_type": "stream",
     "text": [
      "Old\n"
     ]
    }
   ],
   "source": [
    "class A:\n",
    "    def __init__(self):\n",
    "        self.variable = 'Old'\n",
    "        self.update(self.variable)\n",
    "        \n",
    "    def update(self, var):\n",
    "        var = 'New'\n",
    "        \n",
    "a = A()\n",
    "print(a.variable)"
   ]
  },
  {
   "cell_type": "code",
   "execution_count": null,
   "id": "5d4a38e6",
   "metadata": {},
   "outputs": [],
   "source": []
  }
 ],
 "metadata": {
  "kernelspec": {
   "display_name": "Python 3 (ipykernel)",
   "language": "python",
   "name": "python3"
  },
  "language_info": {
   "codemirror_mode": {
    "name": "ipython",
    "version": 3
   },
   "file_extension": ".py",
   "mimetype": "text/x-python",
   "name": "python",
   "nbconvert_exporter": "python",
   "pygments_lexer": "ipython3",
   "version": "3.9.5"
  }
 },
 "nbformat": 4,
 "nbformat_minor": 5
}
