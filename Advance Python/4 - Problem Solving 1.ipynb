{
 "cells": [
  {
   "cell_type": "code",
   "execution_count": 1,
   "id": "97f87a65",
   "metadata": {},
   "outputs": [],
   "source": [
    "def most_frequent(a):\n",
    "    ans = None\n",
    "    \n",
    "    return ans"
   ]
  },
  {
   "cell_type": "code",
   "execution_count": 2,
   "id": "a7285763",
   "metadata": {},
   "outputs": [],
   "source": [
    "a = [1, 2, 3, 3, 4, 6, 7, 8, 9, 1, 2, 4, 3, 3]"
   ]
  },
  {
   "cell_type": "code",
   "execution_count": 4,
   "id": "a29fff95",
   "metadata": {},
   "outputs": [
    {
     "data": {
      "text/plain": [
       "False"
      ]
     },
     "execution_count": 4,
     "metadata": {},
     "output_type": "execute_result"
    }
   ],
   "source": [
    "\"a\" not in {\"a\":1, \"b\": 2}"
   ]
  },
  {
   "cell_type": "code",
   "execution_count": 12,
   "id": "2d40c62e",
   "metadata": {},
   "outputs": [],
   "source": [
    "def most_frequent(a):\n",
    "    frequencies = {}\n",
    "    \n",
    "    for i in a:\n",
    "        if i not in frequencies:\n",
    "            frequencies[i] = 1\n",
    "        else:\n",
    "            frequencies[i] += 1\n",
    "            \n",
    "    ans = None\n",
    "    highest_frequency = 0\n",
    "    \n",
    "    for key, value in frequencies.items():\n",
    "        if value > highest_frequency:\n",
    "            highest_frequency = value\n",
    "            ans = key\n",
    "    \n",
    "    return ans"
   ]
  },
  {
   "cell_type": "code",
   "execution_count": 13,
   "id": "de9ff900",
   "metadata": {},
   "outputs": [
    {
     "data": {
      "text/plain": [
       "3"
      ]
     },
     "execution_count": 13,
     "metadata": {},
     "output_type": "execute_result"
    }
   ],
   "source": [
    "most_frequent(a)"
   ]
  },
  {
   "cell_type": "code",
   "execution_count": 17,
   "id": "d0e6dc0b",
   "metadata": {},
   "outputs": [],
   "source": [
    "from math import sqrt"
   ]
  },
  {
   "cell_type": "code",
   "execution_count": 14,
   "id": "0bc60c91",
   "metadata": {},
   "outputs": [],
   "source": [
    "coordinates = [(5,6), (9,0), (4, 5), (7, 8), (2, 9), (1, 1), (6, 6), (10, 3)]"
   ]
  },
  {
   "cell_type": "code",
   "execution_count": 15,
   "id": "b1b0ae7f",
   "metadata": {},
   "outputs": [],
   "source": [
    "home_location = (0, 0)"
   ]
  },
  {
   "cell_type": "code",
   "execution_count": 32,
   "id": "f0e1dd01",
   "metadata": {},
   "outputs": [],
   "source": [
    "def calc_distance(c, h):\n",
    "    five_closest_points = []\n",
    "    distances = []\n",
    "    \n",
    "    for point in c:\n",
    "        dist = sqrt((point[0] - h[0]) ** 2 + (point[1] - h[1]) ** 2)\n",
    "        \n",
    "        if len(five_closest_points) < 5:\n",
    "            five_closest_points.append(point)\n",
    "            distances.append(dist)\n",
    "        else:\n",
    "            if not max([distances + [dist]]) == dist:\n",
    "                max_element = max(distances)\n",
    "                max_index = distances.index(max_element)\n",
    "                \n",
    "                five_closest_points.pop(max_index)\n",
    "                distances.pop(max_index)\n",
    "                \n",
    "                five_closest_points.append(point)\n",
    "                distances.append(dist)\n",
    "        \n",
    "#     print(five_closest_points)\n",
    "#     print(distances)\n",
    "    \n",
    "    return sorted(five_closest_points)"
   ]
  },
  {
   "cell_type": "code",
   "execution_count": 33,
   "id": "598b9faa",
   "metadata": {},
   "outputs": [
    {
     "data": {
      "text/plain": [
       "[(1, 1), (4, 5), (5, 6), (6, 6), (10, 3)]"
      ]
     },
     "execution_count": 33,
     "metadata": {},
     "output_type": "execute_result"
    }
   ],
   "source": [
    "calc_distance(coordinates, home_location)"
   ]
  },
  {
   "cell_type": "code",
   "execution_count": 44,
   "id": "e21865a2",
   "metadata": {},
   "outputs": [],
   "source": [
    "def calc_distance(c, h):\n",
    "    temp = []\n",
    "    \n",
    "    for point in c:\n",
    "        dist = sqrt((point[0] - h[0]) ** 2 + (point[1] - h[1]) ** 2)\n",
    "        \n",
    "        temp.append((point, dist))\n",
    "        \n",
    "    five_closest = sorted(temp, key = lambda x: x[1])[:5]\n",
    "    five_closest = [ i[0] for i in five_closest ]\n",
    "    \n",
    "#     print(temp)\n",
    "    print(five_closest)"
   ]
  },
  {
   "cell_type": "code",
   "execution_count": 45,
   "id": "805b462d",
   "metadata": {},
   "outputs": [
    {
     "name": "stdout",
     "output_type": "stream",
     "text": [
      "[(1, 1), (4, 5), (5, 6), (6, 6), (9, 0)]\n"
     ]
    }
   ],
   "source": [
    "calc_distance(coordinates, home_location)"
   ]
  },
  {
   "cell_type": "code",
   "execution_count": 46,
   "id": "4898b88a",
   "metadata": {},
   "outputs": [],
   "source": [
    "string = \"Grapes8$Mango6$Apple5\""
   ]
  },
  {
   "cell_type": "code",
   "execution_count": 47,
   "id": "4a259f27",
   "metadata": {},
   "outputs": [],
   "source": [
    "l = string.split(\"$\")"
   ]
  },
  {
   "cell_type": "code",
   "execution_count": 48,
   "id": "4c1bf1b7",
   "metadata": {},
   "outputs": [
    {
     "data": {
      "text/plain": [
       "['Grapes8', 'Mango6', 'Apple5']"
      ]
     },
     "execution_count": 48,
     "metadata": {},
     "output_type": "execute_result"
    }
   ],
   "source": [
    "l"
   ]
  },
  {
   "cell_type": "code",
   "execution_count": 55,
   "id": "df688bc1",
   "metadata": {},
   "outputs": [],
   "source": [
    "selected_strings = [ s[:-1] if len(s[:-1]) == int(s[-1]) else None for s in l ]"
   ]
  },
  {
   "cell_type": "code",
   "execution_count": 56,
   "id": "c43d895b",
   "metadata": {},
   "outputs": [
    {
     "data": {
      "text/plain": [
       "[None, None, 'Apple']"
      ]
     },
     "execution_count": 56,
     "metadata": {},
     "output_type": "execute_result"
    }
   ],
   "source": [
    "selected_strings"
   ]
  },
  {
   "cell_type": "code",
   "execution_count": 57,
   "id": "ed6d2e1a",
   "metadata": {},
   "outputs": [],
   "source": [
    "selected_strings = []\n",
    "\n",
    "for s in l:\n",
    "    if len(s[:-1]) == int(s[-1]):\n",
    "        selected_strings.append(s[:-1])"
   ]
  },
  {
   "cell_type": "code",
   "execution_count": 58,
   "id": "50b88731",
   "metadata": {},
   "outputs": [
    {
     "data": {
      "text/plain": [
       "['Apple']"
      ]
     },
     "execution_count": 58,
     "metadata": {},
     "output_type": "execute_result"
    }
   ],
   "source": [
    "selected_strings"
   ]
  },
  {
   "cell_type": "code",
   "execution_count": 59,
   "id": "28a9d153",
   "metadata": {},
   "outputs": [
    {
     "ename": "NameError",
     "evalue": "name 'n' is not defined",
     "output_type": "error",
     "traceback": [
      "\u001b[0;31m---------------------------------------------------------------------------\u001b[0m",
      "\u001b[0;31mNameError\u001b[0m                                 Traceback (most recent call last)",
      "Cell \u001b[0;32mIn[59], line 1\u001b[0m\n\u001b[0;32m----> 1\u001b[0m i \u001b[38;5;241m=\u001b[39m \u001b[43mn\u001b[49m\n\u001b[1;32m      3\u001b[0m \u001b[38;5;28;01mwhile\u001b[39;00m i \u001b[38;5;241m>\u001b[39m \u001b[38;5;241m0\u001b[39m:\n\u001b[1;32m      4\u001b[0m     j \u001b[38;5;241m=\u001b[39m \u001b[38;5;241m1\u001b[39m\n",
      "\u001b[0;31mNameError\u001b[0m: name 'n' is not defined"
     ]
    }
   ],
   "source": [
    "i = n\n",
    "\n",
    "while i > 0:\n",
    "    j = 1\n",
    "    \n",
    "    while j <= n:\n",
    "        j = j * 2 # log n \n",
    "    \n",
    "    i = i // 2 # log n\n",
    "    \n",
    "# log(n)*log(n) = log^2(n)"
   ]
  },
  {
   "cell_type": "code",
   "execution_count": null,
   "id": "7e77c2fc",
   "metadata": {},
   "outputs": [],
   "source": [
    "i,j,k,p,q = 0\n",
    "\n",
    "for i in range(n):\n",
    "    p = 0\n",
    "    j = n\n",
    "\n",
    "    while(j > 1):\n",
    "        p += 1\n",
    "        k = 1\n",
    "\n",
    "        while(k < p):\n",
    "            q += 1\n",
    "            k *= 2\n",
    "            j = j/2"
   ]
  }
 ],
 "metadata": {
  "kernelspec": {
   "display_name": "Python 3 (ipykernel)",
   "language": "python",
   "name": "python3"
  },
  "language_info": {
   "codemirror_mode": {
    "name": "ipython",
    "version": 3
   },
   "file_extension": ".py",
   "mimetype": "text/x-python",
   "name": "python",
   "nbconvert_exporter": "python",
   "pygments_lexer": "ipython3",
   "version": "3.9.5"
  }
 },
 "nbformat": 4,
 "nbformat_minor": 5
}
