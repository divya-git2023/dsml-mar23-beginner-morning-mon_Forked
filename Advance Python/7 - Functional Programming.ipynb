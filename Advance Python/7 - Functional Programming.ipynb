{
 "cells": [
  {
   "cell_type": "code",
   "execution_count": 1,
   "id": "88579c5f",
   "metadata": {},
   "outputs": [],
   "source": [
    "def square_1(x):\n",
    "    return x ** 2"
   ]
  },
  {
   "cell_type": "code",
   "execution_count": 2,
   "id": "af40665c",
   "metadata": {},
   "outputs": [],
   "source": [
    "square_2 = lambda x : x ** 2"
   ]
  },
  {
   "cell_type": "code",
   "execution_count": 3,
   "id": "2f17baa3",
   "metadata": {},
   "outputs": [
    {
     "data": {
      "text/plain": [
       "25"
      ]
     },
     "execution_count": 3,
     "metadata": {},
     "output_type": "execute_result"
    }
   ],
   "source": [
    "square_1(5)"
   ]
  },
  {
   "cell_type": "code",
   "execution_count": 4,
   "id": "1e04dbe2",
   "metadata": {},
   "outputs": [
    {
     "data": {
      "text/plain": [
       "25"
      ]
     },
     "execution_count": 4,
     "metadata": {},
     "output_type": "execute_result"
    }
   ],
   "source": [
    "square_2(5)"
   ]
  },
  {
   "cell_type": "code",
   "execution_count": 5,
   "id": "34da2d81",
   "metadata": {},
   "outputs": [
    {
     "data": {
      "text/plain": [
       "function"
      ]
     },
     "execution_count": 5,
     "metadata": {},
     "output_type": "execute_result"
    }
   ],
   "source": [
    "type(square_1)"
   ]
  },
  {
   "cell_type": "code",
   "execution_count": 6,
   "id": "c300a9ba",
   "metadata": {},
   "outputs": [
    {
     "data": {
      "text/plain": [
       "function"
      ]
     },
     "execution_count": 6,
     "metadata": {},
     "output_type": "execute_result"
    }
   ],
   "source": [
    "type(square_2)"
   ]
  },
  {
   "cell_type": "code",
   "execution_count": 7,
   "id": "b72edadd",
   "metadata": {},
   "outputs": [
    {
     "data": {
      "text/plain": [
       "36"
      ]
     },
     "execution_count": 7,
     "metadata": {},
     "output_type": "execute_result"
    }
   ],
   "source": [
    "# Lambda functions can act anonymous\n",
    "(lambda x : x ** 2)(6)"
   ]
  },
  {
   "cell_type": "code",
   "execution_count": 8,
   "id": "233c5991",
   "metadata": {},
   "outputs": [],
   "source": [
    "logic = lambda x : \"Small\" if x < 5 else \"Big\""
   ]
  },
  {
   "cell_type": "code",
   "execution_count": 10,
   "id": "c629f583",
   "metadata": {},
   "outputs": [],
   "source": [
    "inputs = lambda x, y, z : x + y + z # Multiple Arguments"
   ]
  },
  {
   "cell_type": "code",
   "execution_count": 11,
   "id": "a5cfb4fb",
   "metadata": {},
   "outputs": [
    {
     "data": {
      "text/plain": [
       "15"
      ]
     },
     "execution_count": 11,
     "metadata": {},
     "output_type": "execute_result"
    }
   ],
   "source": [
    "inputs(4, 5, 6)"
   ]
  },
  {
   "cell_type": "code",
   "execution_count": 12,
   "id": "2a4979a5",
   "metadata": {},
   "outputs": [],
   "source": [
    "default = lambda x = 1, y = 2 : x * y # Default values"
   ]
  },
  {
   "cell_type": "code",
   "execution_count": 16,
   "id": "df0c3c53",
   "metadata": {},
   "outputs": [],
   "source": [
    "a = [1, 5, 8, 7, 3, 2, 4, 6]"
   ]
  },
  {
   "cell_type": "code",
   "execution_count": 17,
   "id": "37f39007",
   "metadata": {},
   "outputs": [
    {
     "data": {
      "text/plain": [
       "[1, 2, 3, 4, 5, 6, 7, 8]"
      ]
     },
     "execution_count": 17,
     "metadata": {},
     "output_type": "execute_result"
    }
   ],
   "source": [
    "sorted(a)"
   ]
  },
  {
   "cell_type": "code",
   "execution_count": 18,
   "id": "8c2103f9",
   "metadata": {},
   "outputs": [
    {
     "data": {
      "text/plain": [
       "[1, 5, 8, 7, 3, 2, 4, 6]"
      ]
     },
     "execution_count": 18,
     "metadata": {},
     "output_type": "execute_result"
    }
   ],
   "source": [
    "a"
   ]
  },
  {
   "cell_type": "code",
   "execution_count": 19,
   "id": "e6f4c918",
   "metadata": {},
   "outputs": [],
   "source": [
    "students = [\n",
    "    {\"name\": \"A\", \"marks\": 50},\n",
    "    {\"name\": \"B\", \"marks\": 100},\n",
    "    {\"name\": \"C\", \"marks\": 40},\n",
    "    {\"name\": \"D\", \"marks\": 30},\n",
    "    {\"name\": \"E\", \"marks\": 70},\n",
    "]"
   ]
  },
  {
   "cell_type": "code",
   "execution_count": 21,
   "id": "6965a8c4",
   "metadata": {},
   "outputs": [
    {
     "ename": "TypeError",
     "evalue": "'<' not supported between instances of 'dict' and 'dict'",
     "output_type": "error",
     "traceback": [
      "\u001b[0;31m---------------------------------------------------------------------------\u001b[0m",
      "\u001b[0;31mTypeError\u001b[0m                                 Traceback (most recent call last)",
      "Cell \u001b[0;32mIn[21], line 1\u001b[0m\n\u001b[0;32m----> 1\u001b[0m \u001b[38;5;28;43msorted\u001b[39;49m\u001b[43m(\u001b[49m\u001b[43mstudents\u001b[49m\u001b[43m)\u001b[49m\n",
      "\u001b[0;31mTypeError\u001b[0m: '<' not supported between instances of 'dict' and 'dict'"
     ]
    }
   ],
   "source": [
    "sorted(students)"
   ]
  },
  {
   "cell_type": "code",
   "execution_count": 22,
   "id": "d975ef10",
   "metadata": {},
   "outputs": [
    {
     "ename": "TypeError",
     "evalue": "'>' not supported between instances of 'dict' and 'dict'",
     "output_type": "error",
     "traceback": [
      "\u001b[0;31m---------------------------------------------------------------------------\u001b[0m",
      "\u001b[0;31mTypeError\u001b[0m                                 Traceback (most recent call last)",
      "Cell \u001b[0;32mIn[22], line 1\u001b[0m\n\u001b[0;32m----> 1\u001b[0m \u001b[43mstudents\u001b[49m\u001b[43m[\u001b[49m\u001b[38;5;241;43m0\u001b[39;49m\u001b[43m]\u001b[49m\u001b[43m \u001b[49m\u001b[38;5;241;43m>\u001b[39;49m\u001b[43m \u001b[49m\u001b[43mstudents\u001b[49m\u001b[43m[\u001b[49m\u001b[38;5;241;43m1\u001b[39;49m\u001b[43m]\u001b[49m\n",
      "\u001b[0;31mTypeError\u001b[0m: '>' not supported between instances of 'dict' and 'dict'"
     ]
    }
   ],
   "source": [
    "students[0] > students[1]"
   ]
  },
  {
   "cell_type": "code",
   "execution_count": 23,
   "id": "4b78e26d",
   "metadata": {},
   "outputs": [
    {
     "data": {
      "text/plain": [
       "False"
      ]
     },
     "execution_count": 23,
     "metadata": {},
     "output_type": "execute_result"
    }
   ],
   "source": [
    "students[0][\"marks\"] > students[1][\"marks\"]"
   ]
  },
  {
   "cell_type": "code",
   "execution_count": 25,
   "id": "6432b84d",
   "metadata": {},
   "outputs": [],
   "source": [
    "get_marks = lambda x : x[\"marks\"]"
   ]
  },
  {
   "cell_type": "code",
   "execution_count": 26,
   "id": "78800106",
   "metadata": {},
   "outputs": [
    {
     "data": {
      "text/plain": [
       "False"
      ]
     },
     "execution_count": 26,
     "metadata": {},
     "output_type": "execute_result"
    }
   ],
   "source": [
    "get_marks(students[0]) > get_marks(students[1])"
   ]
  },
  {
   "cell_type": "code",
   "execution_count": 27,
   "id": "9f4e58dd",
   "metadata": {},
   "outputs": [
    {
     "data": {
      "text/plain": [
       "[{'name': 'D', 'marks': 30},\n",
       " {'name': 'C', 'marks': 40},\n",
       " {'name': 'A', 'marks': 50},\n",
       " {'name': 'E', 'marks': 70},\n",
       " {'name': 'B', 'marks': 100}]"
      ]
     },
     "execution_count": 27,
     "metadata": {},
     "output_type": "execute_result"
    }
   ],
   "source": [
    "sorted(students, key = lambda x : x[\"marks\"])"
   ]
  },
  {
   "cell_type": "code",
   "execution_count": 28,
   "id": "90ad9482",
   "metadata": {},
   "outputs": [
    {
     "data": {
      "text/plain": [
       "'\\nHOMEWORK ->\\nTry to add the key function functionality to your Bubble Sort code.\\n'"
      ]
     },
     "execution_count": 28,
     "metadata": {},
     "output_type": "execute_result"
    }
   ],
   "source": [
    "'''\n",
    "HOMEWORK ->\n",
    "Try to add the key function functionality to your Bubble Sort code.\n",
    "'''"
   ]
  },
  {
   "cell_type": "markdown",
   "id": "65d9b2ec",
   "metadata": {},
   "source": [
    "# Higher Order Functions"
   ]
  },
  {
   "cell_type": "code",
   "execution_count": 29,
   "id": "fc466b7f",
   "metadata": {},
   "outputs": [],
   "source": [
    "def gen_exp(n):\n",
    "    x = \"random\" * n\n",
    "    \n",
    "    return x"
   ]
  },
  {
   "cell_type": "code",
   "execution_count": 30,
   "id": "a1327a59",
   "metadata": {},
   "outputs": [],
   "source": [
    "def gen_exp(n):\n",
    "    exp = lambda x: x ** n\n",
    "    \n",
    "    return exp"
   ]
  },
  {
   "cell_type": "code",
   "execution_count": 31,
   "id": "0af5fd0e",
   "metadata": {},
   "outputs": [],
   "source": [
    "def gen_exp(n):\n",
    "    def exp(x):\n",
    "        print(f\"Printing the 5th power of {x}\")\n",
    "        return x ** n\n",
    "    \n",
    "    return exp"
   ]
  },
  {
   "cell_type": "code",
   "execution_count": 32,
   "id": "4414739d",
   "metadata": {},
   "outputs": [],
   "source": [
    "exp_5 = gen_exp(5)"
   ]
  },
  {
   "cell_type": "code",
   "execution_count": 33,
   "id": "1b5d00f8",
   "metadata": {},
   "outputs": [
    {
     "name": "stdout",
     "output_type": "stream",
     "text": [
      "Printing the 5th power of 2\n"
     ]
    },
    {
     "data": {
      "text/plain": [
       "32"
      ]
     },
     "execution_count": 33,
     "metadata": {},
     "output_type": "execute_result"
    }
   ],
   "source": [
    "exp_5(2)"
   ]
  },
  {
   "cell_type": "code",
   "execution_count": 34,
   "id": "28c78be0",
   "metadata": {},
   "outputs": [],
   "source": [
    "exp_10 = gen_exp(10)"
   ]
  },
  {
   "cell_type": "code",
   "execution_count": 35,
   "id": "116e4516",
   "metadata": {},
   "outputs": [
    {
     "name": "stdout",
     "output_type": "stream",
     "text": [
      "Printing the 5th power of 2\n"
     ]
    },
    {
     "data": {
      "text/plain": [
       "1024"
      ]
     },
     "execution_count": 35,
     "metadata": {},
     "output_type": "execute_result"
    }
   ],
   "source": [
    "exp_10(2)"
   ]
  },
  {
   "cell_type": "code",
   "execution_count": 36,
   "id": "7fb16d3b",
   "metadata": {},
   "outputs": [],
   "source": [
    "def hello():\n",
    "    print(\"Hello, how are you?\")\n",
    "    \n",
    "def bye():\n",
    "    print(\"Bye Bye, see you soon :)\")"
   ]
  },
  {
   "cell_type": "code",
   "execution_count": 39,
   "id": "3fa571fd",
   "metadata": {},
   "outputs": [
    {
     "name": "stdout",
     "output_type": "stream",
     "text": [
      "--------------------------------------------------\n",
      "Hello, how are you?\n",
      "--------------------------------------------------\n"
     ]
    }
   ],
   "source": [
    "print(\"-\" * 50)\n",
    "hello()\n",
    "print(\"-\" * 50)"
   ]
  },
  {
   "cell_type": "code",
   "execution_count": 40,
   "id": "b663b59c",
   "metadata": {},
   "outputs": [],
   "source": [
    "def new_hello():\n",
    "    print(\"-\" * 50)\n",
    "    print(\"Hello, how are you?\")\n",
    "    print(\"-\" * 50)"
   ]
  },
  {
   "cell_type": "code",
   "execution_count": 41,
   "id": "785c6100",
   "metadata": {},
   "outputs": [
    {
     "name": "stdout",
     "output_type": "stream",
     "text": [
      "--------------------------------------------------\n",
      "Hello, how are you?\n",
      "--------------------------------------------------\n"
     ]
    }
   ],
   "source": [
    "new_hello()"
   ]
  },
  {
   "cell_type": "code",
   "execution_count": 42,
   "id": "85d74253",
   "metadata": {},
   "outputs": [],
   "source": [
    "def pretty(f):\n",
    "    def inner():\n",
    "        f()\n",
    "    \n",
    "    return inner"
   ]
  },
  {
   "cell_type": "code",
   "execution_count": 43,
   "id": "7303cf55",
   "metadata": {},
   "outputs": [],
   "source": [
    "random_bye = pretty(bye)"
   ]
  },
  {
   "cell_type": "code",
   "execution_count": 45,
   "id": "5baedea7",
   "metadata": {},
   "outputs": [
    {
     "name": "stdout",
     "output_type": "stream",
     "text": [
      "Bye Bye, see you soon :)\n"
     ]
    }
   ],
   "source": [
    "random_bye()"
   ]
  },
  {
   "cell_type": "code",
   "execution_count": 46,
   "id": "784fd9b8",
   "metadata": {},
   "outputs": [],
   "source": [
    "def pretty(f):\n",
    "    def inner():\n",
    "        print(\"-\" * 50)\n",
    "        f()\n",
    "        print(\"-\" * 50)\n",
    "    \n",
    "    return inner"
   ]
  },
  {
   "cell_type": "code",
   "execution_count": 47,
   "id": "aa064eea",
   "metadata": {},
   "outputs": [],
   "source": [
    "new_bye = pretty(bye)"
   ]
  },
  {
   "cell_type": "code",
   "execution_count": 49,
   "id": "185c14ba",
   "metadata": {},
   "outputs": [
    {
     "name": "stdout",
     "output_type": "stream",
     "text": [
      "--------------------------------------------------\n",
      "Bye Bye, see you soon :)\n",
      "--------------------------------------------------\n"
     ]
    }
   ],
   "source": [
    "new_bye()"
   ]
  },
  {
   "cell_type": "code",
   "execution_count": 50,
   "id": "1762cefc",
   "metadata": {},
   "outputs": [],
   "source": [
    "@pretty\n",
    "def sorry():\n",
    "    print(\"I am really sorry!\")"
   ]
  },
  {
   "cell_type": "code",
   "execution_count": 51,
   "id": "a9602f71",
   "metadata": {},
   "outputs": [
    {
     "name": "stdout",
     "output_type": "stream",
     "text": [
      "--------------------------------------------------\n",
      "I am really sorry!\n",
      "--------------------------------------------------\n"
     ]
    }
   ],
   "source": [
    "sorry()"
   ]
  },
  {
   "cell_type": "code",
   "execution_count": 52,
   "id": "16902726",
   "metadata": {},
   "outputs": [],
   "source": [
    "@pretty\n",
    "def wow():\n",
    "    print(\"WOW! THIS IS SUPERCALIFRAGILISTICALLY AMAZING!\")"
   ]
  },
  {
   "cell_type": "code",
   "execution_count": 53,
   "id": "6a1a6529",
   "metadata": {},
   "outputs": [
    {
     "name": "stdout",
     "output_type": "stream",
     "text": [
      "--------------------------------------------------\n",
      "WOW! THIS IS SUPERCALIFRAGILISTICALLY AMAZING!\n",
      "--------------------------------------------------\n"
     ]
    }
   ],
   "source": [
    "wow()"
   ]
  },
  {
   "cell_type": "code",
   "execution_count": null,
   "id": "bfab84c1",
   "metadata": {},
   "outputs": [],
   "source": []
  }
 ],
 "metadata": {
  "kernelspec": {
   "display_name": "Python 3 (ipykernel)",
   "language": "python",
   "name": "python3"
  },
  "language_info": {
   "codemirror_mode": {
    "name": "ipython",
    "version": 3
   },
   "file_extension": ".py",
   "mimetype": "text/x-python",
   "name": "python",
   "nbconvert_exporter": "python",
   "pygments_lexer": "ipython3",
   "version": "3.9.5"
  }
 },
 "nbformat": 4,
 "nbformat_minor": 5
}
