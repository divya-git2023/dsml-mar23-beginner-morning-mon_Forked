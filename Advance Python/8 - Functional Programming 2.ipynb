{
 "cells": [
  {
   "cell_type": "markdown",
   "id": "f9c419bf",
   "metadata": {},
   "source": [
    "# Basic Principles of Functional Programming\n",
    "\n",
    "- Treat functionas as FCCs (objects)\n",
    "- Treat variables are immutable\n",
    "- Data should be separated from functions"
   ]
  },
  {
   "cell_type": "code",
   "execution_count": 1,
   "id": "e2221c5b",
   "metadata": {},
   "outputs": [
    {
     "name": "stdout",
     "output_type": "stream",
     "text": [
      "16\n"
     ]
    }
   ],
   "source": [
    "x = 5 # initial dataset\n",
    "\n",
    "# HIDDEN MUTATIONS\n",
    "x = 3 * x\n",
    "x += 1\n",
    "# HIDDEN MUTATIONS\n",
    "\n",
    "print(x) # Problem - Can't rollback mutations"
   ]
  },
  {
   "cell_type": "code",
   "execution_count": 2,
   "id": "9a4730fd",
   "metadata": {},
   "outputs": [
    {
     "name": "stdout",
     "output_type": "stream",
     "text": [
      "16\n"
     ]
    }
   ],
   "source": [
    "x = 5 # initial dataset\n",
    "\n",
    "x1 = 3 * x\n",
    "x2 = x1 + 1\n",
    "\n",
    "print(x2) # Problem - TOO MANY COPIES!"
   ]
  },
  {
   "cell_type": "code",
   "execution_count": 3,
   "id": "b707568c",
   "metadata": {},
   "outputs": [],
   "source": [
    "x = 5 # initial dataset\n",
    "\n",
    "def mutation_1(x):\n",
    "    x = 3 * x\n",
    "    x += 1\n",
    "    \n",
    "    return x\n",
    "\n",
    "x1 = mutation_1(x) # Limited and well defined copies are created"
   ]
  },
  {
   "cell_type": "markdown",
   "id": "26253aa4",
   "metadata": {},
   "source": [
    "# Maps"
   ]
  },
  {
   "cell_type": "code",
   "execution_count": 4,
   "id": "70861ce1",
   "metadata": {},
   "outputs": [],
   "source": [
    "a = [1, 2, 3, 4, 5]"
   ]
  },
  {
   "cell_type": "code",
   "execution_count": 7,
   "id": "2cc9922e",
   "metadata": {},
   "outputs": [],
   "source": [
    "result = list(map(lambda x : x ** 2, a))"
   ]
  },
  {
   "cell_type": "code",
   "execution_count": 8,
   "id": "95f6edc8",
   "metadata": {},
   "outputs": [
    {
     "data": {
      "text/plain": [
       "[1, 4, 9, 16, 25]"
      ]
     },
     "execution_count": 8,
     "metadata": {},
     "output_type": "execute_result"
    }
   ],
   "source": [
    "result"
   ]
  },
  {
   "cell_type": "code",
   "execution_count": 10,
   "id": "e2ee0375",
   "metadata": {},
   "outputs": [
    {
     "data": {
      "text/plain": [
       "[1, 4, 9, 16, 25]"
      ]
     },
     "execution_count": 10,
     "metadata": {},
     "output_type": "execute_result"
    }
   ],
   "source": [
    "[x ** 2 for x in a] # same result!"
   ]
  },
  {
   "cell_type": "code",
   "execution_count": 11,
   "id": "fb6ace5b",
   "metadata": {},
   "outputs": [
    {
     "name": "stdout",
     "output_type": "stream",
     "text": [
      "286 ms ± 8.07 ms per loop (mean ± std. dev. of 7 runs, 1 loop each)\n"
     ]
    }
   ],
   "source": [
    "%timeit [x ** 2 for x in list(range(1000000))]"
   ]
  },
  {
   "cell_type": "code",
   "execution_count": 12,
   "id": "cca27ee8",
   "metadata": {},
   "outputs": [
    {
     "name": "stdout",
     "output_type": "stream",
     "text": [
      "1.58 µs ± 5.56 ns per loop (mean ± std. dev. of 7 runs, 1,000,000 loops each)\n"
     ]
    }
   ],
   "source": [
    "%timeit list(map(lambda x : x ** 2, a))"
   ]
  },
  {
   "cell_type": "code",
   "execution_count": 13,
   "id": "7caeef56",
   "metadata": {},
   "outputs": [],
   "source": [
    "a = [1, 2, 3, 4, 5]\n",
    "b = [10, 20, 30, 40, 50]"
   ]
  },
  {
   "cell_type": "code",
   "execution_count": 14,
   "id": "3032a3e1",
   "metadata": {},
   "outputs": [
    {
     "data": {
      "text/plain": [
       "[11, 22, 33, 44, 55]"
      ]
     },
     "execution_count": 14,
     "metadata": {},
     "output_type": "execute_result"
    }
   ],
   "source": [
    "list(map(lambda x, y: x + y, a, b))"
   ]
  },
  {
   "cell_type": "code",
   "execution_count": 15,
   "id": "d614d2cd",
   "metadata": {},
   "outputs": [],
   "source": [
    "a = [1, 2, 3, 4, 5]\n",
    "b = [10, 20, 30, 40, 50, 60, 70, 80]"
   ]
  },
  {
   "cell_type": "code",
   "execution_count": 17,
   "id": "b28f56ab",
   "metadata": {},
   "outputs": [
    {
     "data": {
      "text/plain": [
       "[11, 22, 33, 44, 55]"
      ]
     },
     "execution_count": 17,
     "metadata": {},
     "output_type": "execute_result"
    }
   ],
   "source": [
    "list(map(lambda x, y: x + y, a, b)) # only continues till the length of the shorter list"
   ]
  },
  {
   "cell_type": "code",
   "execution_count": 18,
   "id": "ecfc2257",
   "metadata": {},
   "outputs": [
    {
     "data": {
      "text/plain": [
       "'\\nHOMEWORK - \\n\\nGiven a list of heights in inches, convert them to t - shirt sizes using the following mapping ->\\n\\nheight < 150 -> \"Small\"\\nheight >= 150 and < 180 -> \"Medium\"\\nheight >= 180 -> \"Large\"\\n'"
      ]
     },
     "execution_count": 18,
     "metadata": {},
     "output_type": "execute_result"
    }
   ],
   "source": [
    "'''\n",
    "HOMEWORK - \n",
    "\n",
    "Given a list of heights in inches, convert them to t - shirt sizes using the following mapping ->\n",
    "\n",
    "height < 150 -> \"Small\"\n",
    "height >= 150 and < 180 -> \"Medium\"\n",
    "height >= 180 -> \"Large\"\n",
    "'''"
   ]
  },
  {
   "cell_type": "code",
   "execution_count": 40,
   "id": "b7acf611",
   "metadata": {},
   "outputs": [
    {
     "data": {
      "text/plain": [
       "['name -> Bipin Kalra', 'age -> 5000', \"hobby -> ['painting', 'basketball']\"]"
      ]
     },
     "execution_count": 40,
     "metadata": {},
     "output_type": "execute_result"
    }
   ],
   "source": [
    "d = {\"name\" : \"Bipin Kalra\", \"age\" : 5000, \"hobby\" : [\"painting\", \"basketball\"]}\n",
    "\n",
    "list(map(lambda x: f\"{str(x[0])} -> {str(x[1])}\", d.items()))"
   ]
  },
  {
   "cell_type": "markdown",
   "id": "189f4a73",
   "metadata": {},
   "source": [
    "# Filters"
   ]
  },
  {
   "cell_type": "code",
   "execution_count": 19,
   "id": "8046cfce",
   "metadata": {},
   "outputs": [],
   "source": [
    "a = list(range(1, 21))"
   ]
  },
  {
   "cell_type": "code",
   "execution_count": 20,
   "id": "d79be38d",
   "metadata": {},
   "outputs": [
    {
     "data": {
      "text/plain": [
       "[1, 2, 3, 4, 5, 6, 7, 8, 9, 10, 11, 12, 13, 14, 15, 16, 17, 18, 19, 20]"
      ]
     },
     "execution_count": 20,
     "metadata": {},
     "output_type": "execute_result"
    }
   ],
   "source": [
    "a"
   ]
  },
  {
   "cell_type": "code",
   "execution_count": 23,
   "id": "758f7000",
   "metadata": {},
   "outputs": [],
   "source": [
    "f = list(filter(lambda x: x % 2 == 0, a))"
   ]
  },
  {
   "cell_type": "code",
   "execution_count": 24,
   "id": "8f86d615",
   "metadata": {},
   "outputs": [
    {
     "data": {
      "text/plain": [
       "[2, 4, 6, 8, 10, 12, 14, 16, 18, 20]"
      ]
     },
     "execution_count": 24,
     "metadata": {},
     "output_type": "execute_result"
    }
   ],
   "source": [
    "f"
   ]
  },
  {
   "cell_type": "code",
   "execution_count": 27,
   "id": "acfa77b1",
   "metadata": {},
   "outputs": [],
   "source": [
    "def filtering_condition(x):\n",
    "    return x % 2 == 0"
   ]
  },
  {
   "cell_type": "code",
   "execution_count": 28,
   "id": "4f24ba96",
   "metadata": {},
   "outputs": [
    {
     "data": {
      "text/plain": [
       "[2, 4, 6, 8, 10, 12, 14, 16, 18, 20]"
      ]
     },
     "execution_count": 28,
     "metadata": {},
     "output_type": "execute_result"
    }
   ],
   "source": [
    "list(filter(filtering_condition, a))"
   ]
  },
  {
   "cell_type": "code",
   "execution_count": 30,
   "id": "97b04acf",
   "metadata": {},
   "outputs": [],
   "source": [
    "a = [[1, 2], [1, 4, 5, 6], [1], [], [], [2, 3, 4, 5, 6, 6], [], [3, 4, 5]]"
   ]
  },
  {
   "cell_type": "code",
   "execution_count": 31,
   "id": "58d07e2b",
   "metadata": {},
   "outputs": [
    {
     "data": {
      "text/plain": [
       "[[1, 2], [1, 4, 5, 6], [1], [2, 3, 4, 5, 6, 6], [3, 4, 5]]"
      ]
     },
     "execution_count": 31,
     "metadata": {},
     "output_type": "execute_result"
    }
   ],
   "source": [
    "list(filter(lambda x : len(x), a))"
   ]
  },
  {
   "cell_type": "markdown",
   "id": "a24eb029",
   "metadata": {},
   "source": [
    "# Zip"
   ]
  },
  {
   "cell_type": "code",
   "execution_count": 34,
   "id": "2287d769",
   "metadata": {},
   "outputs": [],
   "source": [
    "a = [1, 2, 3, 4]\n",
    "b = [\"a\", \"b\", \"c\", \"d\", \"e\", \"f\"]"
   ]
  },
  {
   "cell_type": "code",
   "execution_count": 35,
   "id": "af3a3722",
   "metadata": {},
   "outputs": [
    {
     "data": {
      "text/plain": [
       "[(1, 'a'), (2, 'b'), (3, 'c'), (4, 'd')]"
      ]
     },
     "execution_count": 35,
     "metadata": {},
     "output_type": "execute_result"
    }
   ],
   "source": [
    "list(zip(a, b))"
   ]
  },
  {
   "cell_type": "code",
   "execution_count": 36,
   "id": "690fa85d",
   "metadata": {},
   "outputs": [],
   "source": [
    "a = [1, 2, 3, 4]\n",
    "b = [\"a\", \"b\", \"c\", \"d\", \"e\", \"f\"]\n",
    "c = [True, False, False]"
   ]
  },
  {
   "cell_type": "code",
   "execution_count": 38,
   "id": "2dbfd764",
   "metadata": {},
   "outputs": [
    {
     "data": {
      "text/plain": [
       "[(True, 1, 'a'), (False, 2, 'b'), (False, 3, 'c')]"
      ]
     },
     "execution_count": 38,
     "metadata": {},
     "output_type": "execute_result"
    }
   ],
   "source": [
    "list(zip(c, a, b))"
   ]
  },
  {
   "cell_type": "markdown",
   "id": "787ab12c",
   "metadata": {},
   "source": [
    "# Reduce"
   ]
  },
  {
   "cell_type": "code",
   "execution_count": 41,
   "id": "342799af",
   "metadata": {},
   "outputs": [],
   "source": [
    "from functools import reduce"
   ]
  },
  {
   "cell_type": "code",
   "execution_count": 42,
   "id": "9cd146c1",
   "metadata": {},
   "outputs": [],
   "source": [
    "a = [1, 2, 3, 4, 5]"
   ]
  },
  {
   "cell_type": "code",
   "execution_count": 43,
   "id": "9a37b7da",
   "metadata": {},
   "outputs": [],
   "source": [
    "result = reduce(lambda x, y : x + y, a)"
   ]
  },
  {
   "cell_type": "code",
   "execution_count": 44,
   "id": "47eb2354",
   "metadata": {},
   "outputs": [
    {
     "data": {
      "text/plain": [
       "15"
      ]
     },
     "execution_count": 44,
     "metadata": {},
     "output_type": "execute_result"
    }
   ],
   "source": [
    "result"
   ]
  },
  {
   "cell_type": "code",
   "execution_count": 51,
   "id": "47924160",
   "metadata": {},
   "outputs": [
    {
     "name": "stdout",
     "output_type": "stream",
     "text": [
      "93 ms ± 3.39 ms per loop (mean ± std. dev. of 7 runs, 10 loops each)\n"
     ]
    }
   ],
   "source": [
    "%timeit reduce(lambda x, y : x + y, range(1000000))"
   ]
  },
  {
   "cell_type": "code",
   "execution_count": 52,
   "id": "7d43df8f",
   "metadata": {},
   "outputs": [
    {
     "name": "stdout",
     "output_type": "stream",
     "text": [
      "54.8 ms ± 354 µs per loop (mean ± std. dev. of 7 runs, 10 loops each)\n"
     ]
    }
   ],
   "source": [
    "%%timeit\n",
    "result = 0\n",
    "\n",
    "for i in range(1000000):\n",
    "    result += i"
   ]
  },
  {
   "cell_type": "code",
   "execution_count": 53,
   "id": "43bd8b92",
   "metadata": {},
   "outputs": [],
   "source": [
    "strings = [\"this\", \"is\", \"a\", \"list\", \"of\", \"strings\", \"!\"]"
   ]
  },
  {
   "cell_type": "code",
   "execution_count": 55,
   "id": "ba99f4a4",
   "metadata": {},
   "outputs": [
    {
     "data": {
      "text/plain": [
       "'this is a list of strings !'"
      ]
     },
     "execution_count": 55,
     "metadata": {},
     "output_type": "execute_result"
    }
   ],
   "source": [
    "reduce(lambda x, y: x + \" \" + y, strings)"
   ]
  },
  {
   "cell_type": "code",
   "execution_count": 56,
   "id": "536ad6ac",
   "metadata": {},
   "outputs": [],
   "source": [
    "a = [10, 5, 60, 70, 40, 30, 25, 100]"
   ]
  },
  {
   "cell_type": "code",
   "execution_count": 57,
   "id": "e722fbe2",
   "metadata": {},
   "outputs": [
    {
     "data": {
      "text/plain": [
       "100"
      ]
     },
     "execution_count": 57,
     "metadata": {},
     "output_type": "execute_result"
    }
   ],
   "source": [
    "reduce(lambda x, y: x if x > y else y, a)"
   ]
  },
  {
   "cell_type": "markdown",
   "id": "e2a530c6",
   "metadata": {},
   "source": [
    "# `*Args` and `**Kwargs`"
   ]
  },
  {
   "cell_type": "code",
   "execution_count": 58,
   "id": "d5251f5d",
   "metadata": {},
   "outputs": [],
   "source": [
    "def sum_numbers(x, y):\n",
    "    return x + y"
   ]
  },
  {
   "cell_type": "code",
   "execution_count": 59,
   "id": "d191c68b",
   "metadata": {},
   "outputs": [
    {
     "data": {
      "text/plain": [
       "11"
      ]
     },
     "execution_count": 59,
     "metadata": {},
     "output_type": "execute_result"
    }
   ],
   "source": [
    "sum_numbers(5, 6)"
   ]
  },
  {
   "cell_type": "code",
   "execution_count": 60,
   "id": "457f41db",
   "metadata": {},
   "outputs": [
    {
     "ename": "TypeError",
     "evalue": "sum_numbers() takes 2 positional arguments but 4 were given",
     "output_type": "error",
     "traceback": [
      "\u001b[0;31m---------------------------------------------------------------------------\u001b[0m",
      "\u001b[0;31mTypeError\u001b[0m                                 Traceback (most recent call last)",
      "Cell \u001b[0;32mIn[60], line 1\u001b[0m\n\u001b[0;32m----> 1\u001b[0m \u001b[43msum_numbers\u001b[49m\u001b[43m(\u001b[49m\u001b[38;5;241;43m5\u001b[39;49m\u001b[43m,\u001b[49m\u001b[43m \u001b[49m\u001b[38;5;241;43m6\u001b[39;49m\u001b[43m,\u001b[49m\u001b[43m \u001b[49m\u001b[38;5;241;43m7\u001b[39;49m\u001b[43m,\u001b[49m\u001b[43m \u001b[49m\u001b[38;5;241;43m8\u001b[39;49m\u001b[43m)\u001b[49m\n",
      "\u001b[0;31mTypeError\u001b[0m: sum_numbers() takes 2 positional arguments but 4 were given"
     ]
    }
   ],
   "source": [
    "sum_numbers(5, 6, 7, 8)"
   ]
  },
  {
   "cell_type": "code",
   "execution_count": 61,
   "id": "05acff48",
   "metadata": {},
   "outputs": [],
   "source": [
    "def sum_numbers(x, y, *args):\n",
    "    print(x)\n",
    "    print(y)\n",
    "    print(args)"
   ]
  },
  {
   "cell_type": "code",
   "execution_count": 64,
   "id": "e2d13695",
   "metadata": {},
   "outputs": [
    {
     "name": "stdout",
     "output_type": "stream",
     "text": [
      "5\n",
      "6\n",
      "(7, 8, 9)\n"
     ]
    }
   ],
   "source": [
    "sum_numbers(5, 6, 7, 8, 9)"
   ]
  },
  {
   "cell_type": "code",
   "execution_count": 72,
   "id": "7bf94394",
   "metadata": {},
   "outputs": [],
   "source": [
    "def sum_numbers(x, y, *any_random_variable_name):\n",
    "    result = x + y\n",
    "    \n",
    "    if any_random_variable_name:\n",
    "        result += sum(any_random_variable_name)\n",
    "        \n",
    "    return result"
   ]
  },
  {
   "cell_type": "code",
   "execution_count": 73,
   "id": "8e9d1a33",
   "metadata": {},
   "outputs": [
    {
     "data": {
      "text/plain": [
       "185"
      ]
     },
     "execution_count": 73,
     "metadata": {},
     "output_type": "execute_result"
    }
   ],
   "source": [
    "sum_numbers(5, 6, 7, 8, 9, 10, 20, 30, 40, 50)"
   ]
  },
  {
   "cell_type": "code",
   "execution_count": 74,
   "id": "d69ce19e",
   "metadata": {},
   "outputs": [],
   "source": [
    "def random():\n",
    "    return 100, 200, 300, 400, 500"
   ]
  },
  {
   "cell_type": "code",
   "execution_count": 76,
   "id": "5d0c6c81",
   "metadata": {},
   "outputs": [
    {
     "ename": "ValueError",
     "evalue": "too many values to unpack (expected 3)",
     "output_type": "error",
     "traceback": [
      "\u001b[0;31m---------------------------------------------------------------------------\u001b[0m",
      "\u001b[0;31mValueError\u001b[0m                                Traceback (most recent call last)",
      "Cell \u001b[0;32mIn[76], line 1\u001b[0m\n\u001b[0;32m----> 1\u001b[0m a, b, c \u001b[38;5;241m=\u001b[39m random()\n",
      "\u001b[0;31mValueError\u001b[0m: too many values to unpack (expected 3)"
     ]
    }
   ],
   "source": [
    "a, b, c = random()"
   ]
  },
  {
   "cell_type": "code",
   "execution_count": 77,
   "id": "f5da173b",
   "metadata": {},
   "outputs": [],
   "source": [
    "a, b, *c = random()"
   ]
  },
  {
   "cell_type": "code",
   "execution_count": 78,
   "id": "a27597d7",
   "metadata": {},
   "outputs": [
    {
     "data": {
      "text/plain": [
       "100"
      ]
     },
     "execution_count": 78,
     "metadata": {},
     "output_type": "execute_result"
    }
   ],
   "source": [
    "a"
   ]
  },
  {
   "cell_type": "code",
   "execution_count": 79,
   "id": "d51517a7",
   "metadata": {},
   "outputs": [
    {
     "data": {
      "text/plain": [
       "200"
      ]
     },
     "execution_count": 79,
     "metadata": {},
     "output_type": "execute_result"
    }
   ],
   "source": [
    "b"
   ]
  },
  {
   "cell_type": "code",
   "execution_count": 80,
   "id": "a7f05327",
   "metadata": {},
   "outputs": [
    {
     "data": {
      "text/plain": [
       "[300, 400, 500]"
      ]
     },
     "execution_count": 80,
     "metadata": {},
     "output_type": "execute_result"
    }
   ],
   "source": [
    "c"
   ]
  },
  {
   "cell_type": "code",
   "execution_count": 81,
   "id": "931cd997",
   "metadata": {},
   "outputs": [],
   "source": [
    "def create_person(name, age, gender):\n",
    "    Person = {\n",
    "        \"name\": name,\n",
    "        \"age\": age,\n",
    "        \"gender\": gender\n",
    "    }\n",
    "    \n",
    "    return Person"
   ]
  },
  {
   "cell_type": "code",
   "execution_count": 82,
   "id": "b70855b3",
   "metadata": {},
   "outputs": [
    {
     "data": {
      "text/plain": [
       "{'name': 'Bipin Kalra', 'age': 5000, 'gender': 'Male'}"
      ]
     },
     "execution_count": 82,
     "metadata": {},
     "output_type": "execute_result"
    }
   ],
   "source": [
    "create_person(\n",
    "    name = \"Bipin Kalra\",\n",
    "    age = 5000,\n",
    "    gender = \"Male\"\n",
    ")"
   ]
  },
  {
   "cell_type": "code",
   "execution_count": 83,
   "id": "ca993f80",
   "metadata": {},
   "outputs": [],
   "source": [
    "def create_person(name, age, gender, **kwargs):\n",
    "    print(name)\n",
    "    print(age)\n",
    "    print(gender)\n",
    "    print(kwargs)"
   ]
  },
  {
   "cell_type": "code",
   "execution_count": 84,
   "id": "06b773f8",
   "metadata": {},
   "outputs": [
    {
     "name": "stdout",
     "output_type": "stream",
     "text": [
      "Bipin Kalra\n",
      "5000\n",
      "Male\n",
      "{'nationality': 'India', 'expertise': 'Python'}\n"
     ]
    }
   ],
   "source": [
    "create_person(\n",
    "    name = \"Bipin Kalra\",\n",
    "    age = 5000,\n",
    "    gender = \"Male\",\n",
    "    nationality = \"India\",\n",
    "    expertise = \"Python\"\n",
    ")"
   ]
  },
  {
   "cell_type": "code",
   "execution_count": 85,
   "id": "330da616",
   "metadata": {},
   "outputs": [],
   "source": [
    "def create_person(name, age, gender, **extra_info):\n",
    "    Person = {\n",
    "        \"name\": name,\n",
    "        \"age\": age,\n",
    "        \"gender\": gender\n",
    "    }\n",
    "    \n",
    "    if extra_info:\n",
    "        Person.update(extra_info)\n",
    "    \n",
    "    return Person"
   ]
  },
  {
   "cell_type": "code",
   "execution_count": 86,
   "id": "c720314e",
   "metadata": {},
   "outputs": [
    {
     "data": {
      "text/plain": [
       "{'name': 'Bipin Kalra',\n",
       " 'age': 5000,\n",
       " 'gender': 'Male',\n",
       " 'nationality': 'India',\n",
       " 'expertise': 'Python'}"
      ]
     },
     "execution_count": 86,
     "metadata": {},
     "output_type": "execute_result"
    }
   ],
   "source": [
    "create_person(\n",
    "    name = \"Bipin Kalra\",\n",
    "    age = 5000,\n",
    "    gender = \"Male\",\n",
    "    nationality = \"India\",\n",
    "    expertise = \"Python\"\n",
    ")"
   ]
  },
  {
   "cell_type": "code",
   "execution_count": 87,
   "id": "a0b71dae",
   "metadata": {},
   "outputs": [],
   "source": [
    "def random(x, y, *args, **kwargs):\n",
    "    print(x)\n",
    "    print(y)\n",
    "    print(args)\n",
    "    print(kwargs)"
   ]
  },
  {
   "cell_type": "code",
   "execution_count": 88,
   "id": "c6fe5a2b",
   "metadata": {},
   "outputs": [
    {
     "name": "stdout",
     "output_type": "stream",
     "text": [
      "4\n",
      "5\n",
      "(6, 7, 8)\n",
      "{'a': 1, 'b': 2, 'c': 3}\n"
     ]
    }
   ],
   "source": [
    "random(4, 5, 6, 7, 8, a = 1, b = 2, c = 3)"
   ]
  },
  {
   "cell_type": "code",
   "execution_count": 89,
   "id": "9e67e193",
   "metadata": {},
   "outputs": [],
   "source": [
    "# positional -> extra positional (args) -> keyworded -> extra keyworded (kwargs)"
   ]
  },
  {
   "cell_type": "code",
   "execution_count": 90,
   "id": "aa6a7b14",
   "metadata": {},
   "outputs": [
    {
     "ename": "SyntaxError",
     "evalue": "positional argument follows keyword argument (388191380.py, line 1)",
     "output_type": "error",
     "traceback": [
      "\u001b[0;36m  Cell \u001b[0;32mIn[90], line 1\u001b[0;36m\u001b[0m\n\u001b[0;31m    random(a = 2, b = 3, 0, 2, 5, 6, 7)\u001b[0m\n\u001b[0m                                      ^\u001b[0m\n\u001b[0;31mSyntaxError\u001b[0m\u001b[0;31m:\u001b[0m positional argument follows keyword argument\n"
     ]
    }
   ],
   "source": [
    "random(a = 2, b = 3, 0, 2, 5, 6, 7)"
   ]
  },
  {
   "cell_type": "code",
   "execution_count": null,
   "id": "c1f5e3ae",
   "metadata": {},
   "outputs": [],
   "source": [
    "def sample_func(x, y, *args, **kwargs):\n",
    "    return x, y, args, kwargs"
   ]
  }
 ],
 "metadata": {
  "kernelspec": {
   "display_name": "Python 3 (ipykernel)",
   "language": "python",
   "name": "python3"
  },
  "language_info": {
   "codemirror_mode": {
    "name": "ipython",
    "version": 3
   },
   "file_extension": ".py",
   "mimetype": "text/x-python",
   "name": "python",
   "nbconvert_exporter": "python",
   "pygments_lexer": "ipython3",
   "version": "3.9.5"
  }
 },
 "nbformat": 4,
 "nbformat_minor": 5
}
