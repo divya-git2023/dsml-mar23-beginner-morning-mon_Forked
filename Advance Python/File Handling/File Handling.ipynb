{
 "cells": [
  {
   "cell_type": "markdown",
   "id": "e57fa710",
   "metadata": {},
   "source": [
    "# <center>Working with Files</center>"
   ]
  },
  {
   "cell_type": "markdown",
   "id": "7bf9ead2",
   "metadata": {},
   "source": [
    "## File Access Modes\n",
    "\n",
    ">Access modes govern the type of operations possible in the opened file. It refers to how the file will be used once its opened. These modes also define the location of the File Handle in the file. File handle is like a cursor, which defines from where the data has to be read or written in the file. There are 6 access modes in python.\n",
    "\n",
    "- `Read Only (‘r’)` : Open text file for reading. The handle is positioned at the beginning of the file. If the file does not exists, raises I/O error. This is also the default mode in which file is opened.\n",
    "---\n",
    "- `Read and Write (‘r+’)` : Open the file for reading and writing. The handle is positioned at the beginning of the file. Raises I/O error if the file does not exists.\n",
    "---\n",
    "- `Write Only (‘w’)` : Open the file for writing. For existing file, the data is truncated and over-written. The handle is positioned at the beginning of the file. Creates the file if the file does not exists.\n",
    "---\n",
    "- `Write and Read (‘w+’)` : Open the file for reading and writing. For existing file, data is truncated and over-written. The handle is positioned at the beginning of the file.\n",
    "---\n",
    "- `Append Only (‘a’)` : Open the file for writing. The file is created if it does not exist. The handle is positioned at the end of the file. The data being written will be inserted at the end, after the existing data.\n",
    "---\n",
    "- `Append and Read (‘a+’)` : Open the file for reading and writing. The file is created if it does not exist. The handle is positioned at the end of the file. The data being written will be inserted at the end, after the existing data."
   ]
  },
  {
   "cell_type": "markdown",
   "id": "52edf9b6",
   "metadata": {},
   "source": [
    "### Opening a file\n",
    "\n",
    "- `var_name = open(\"file_name\", \"access_mode\")` -> Open a file in the given access mode"
   ]
  },
  {
   "cell_type": "code",
   "execution_count": 1,
   "id": "e5002e22",
   "metadata": {},
   "outputs": [
    {
     "ename": "FileNotFoundError",
     "evalue": "[Errno 2] No such file or directory: 'sample.txt'",
     "output_type": "error",
     "traceback": [
      "\u001b[0;31m---------------------------------------------------------------------------\u001b[0m",
      "\u001b[0;31mFileNotFoundError\u001b[0m                         Traceback (most recent call last)",
      "Cell \u001b[0;32mIn[1], line 1\u001b[0m\n\u001b[0;32m----> 1\u001b[0m file \u001b[38;5;241m=\u001b[39m \u001b[38;5;28;43mopen\u001b[39;49m\u001b[43m(\u001b[49m\u001b[38;5;124;43m\"\u001b[39;49m\u001b[38;5;124;43msample.txt\u001b[39;49m\u001b[38;5;124;43m\"\u001b[39;49m\u001b[43m,\u001b[49m\u001b[43m \u001b[49m\u001b[38;5;124;43m\"\u001b[39;49m\u001b[38;5;124;43mr+\u001b[39;49m\u001b[38;5;124;43m\"\u001b[39;49m\u001b[43m)\u001b[49m\n",
      "File \u001b[0;32m~/Library/Python/3.9/lib/python/site-packages/IPython/core/interactiveshell.py:284\u001b[0m, in \u001b[0;36m_modified_open\u001b[0;34m(file, *args, **kwargs)\u001b[0m\n\u001b[1;32m    277\u001b[0m \u001b[38;5;28;01mif\u001b[39;00m file \u001b[38;5;129;01min\u001b[39;00m {\u001b[38;5;241m0\u001b[39m, \u001b[38;5;241m1\u001b[39m, \u001b[38;5;241m2\u001b[39m}:\n\u001b[1;32m    278\u001b[0m     \u001b[38;5;28;01mraise\u001b[39;00m \u001b[38;5;167;01mValueError\u001b[39;00m(\n\u001b[1;32m    279\u001b[0m         \u001b[38;5;124mf\u001b[39m\u001b[38;5;124m\"\u001b[39m\u001b[38;5;124mIPython won\u001b[39m\u001b[38;5;124m'\u001b[39m\u001b[38;5;124mt let you open fd=\u001b[39m\u001b[38;5;132;01m{\u001b[39;00mfile\u001b[38;5;132;01m}\u001b[39;00m\u001b[38;5;124m by default \u001b[39m\u001b[38;5;124m\"\u001b[39m\n\u001b[1;32m    280\u001b[0m         \u001b[38;5;124m\"\u001b[39m\u001b[38;5;124mas it is likely to crash IPython. If you know what you are doing, \u001b[39m\u001b[38;5;124m\"\u001b[39m\n\u001b[1;32m    281\u001b[0m         \u001b[38;5;124m\"\u001b[39m\u001b[38;5;124myou can use builtins\u001b[39m\u001b[38;5;124m'\u001b[39m\u001b[38;5;124m open.\u001b[39m\u001b[38;5;124m\"\u001b[39m\n\u001b[1;32m    282\u001b[0m     )\n\u001b[0;32m--> 284\u001b[0m \u001b[38;5;28;01mreturn\u001b[39;00m \u001b[43mio_open\u001b[49m\u001b[43m(\u001b[49m\u001b[43mfile\u001b[49m\u001b[43m,\u001b[49m\u001b[43m \u001b[49m\u001b[38;5;241;43m*\u001b[39;49m\u001b[43margs\u001b[49m\u001b[43m,\u001b[49m\u001b[43m \u001b[49m\u001b[38;5;241;43m*\u001b[39;49m\u001b[38;5;241;43m*\u001b[39;49m\u001b[43mkwargs\u001b[49m\u001b[43m)\u001b[49m\n",
      "\u001b[0;31mFileNotFoundError\u001b[0m: [Errno 2] No such file or directory: 'sample.txt'"
     ]
    }
   ],
   "source": [
    "file = open(\"sample.txt\", \"r+\")"
   ]
  },
  {
   "cell_type": "code",
   "execution_count": 2,
   "id": "9584900b",
   "metadata": {},
   "outputs": [],
   "source": [
    "file = open(\"sample.txt\", \"w+\")\n",
    "\n",
    "# Since the file does not exist, it will create one"
   ]
  },
  {
   "cell_type": "code",
   "execution_count": 3,
   "id": "8d1493aa",
   "metadata": {},
   "outputs": [],
   "source": [
    "file.close()"
   ]
  },
  {
   "cell_type": "markdown",
   "id": "5d4f6dfe",
   "metadata": {},
   "source": [
    "### Writing to a file\n",
    "\n",
    "- `var_name.write(\"text\")` -> Write some text to a file\n",
    "- `var_name.writelines(iterable)` -> Write multiple text strings to a file"
   ]
  },
  {
   "cell_type": "code",
   "execution_count": 4,
   "id": "52ec598c",
   "metadata": {},
   "outputs": [],
   "source": [
    "file = open(\"sample.txt\", \"w+\")"
   ]
  },
  {
   "cell_type": "code",
   "execution_count": 5,
   "id": "31182015",
   "metadata": {},
   "outputs": [
    {
     "data": {
      "text/plain": [
       "108"
      ]
     },
     "execution_count": 5,
     "metadata": {},
     "output_type": "execute_result"
    }
   ],
   "source": [
    "file.write(\"This is a random text that is being written to the file using the write function and this seems pretty cool!\")"
   ]
  },
  {
   "cell_type": "code",
   "execution_count": 6,
   "id": "894a950f",
   "metadata": {},
   "outputs": [],
   "source": [
    "file.close()"
   ]
  },
  {
   "cell_type": "code",
   "execution_count": 10,
   "id": "1baf155a",
   "metadata": {},
   "outputs": [],
   "source": [
    "file = open(\"sample2.txt\", \"w+\")"
   ]
  },
  {
   "cell_type": "code",
   "execution_count": 11,
   "id": "332e3554",
   "metadata": {},
   "outputs": [],
   "source": [
    "file.writelines([\n",
    "    \"This is the first line!\\n\",\n",
    "    \"Welcome to the second line!\\n\",\n",
    "    \"The third line says good bye!\\n\"\n",
    "])"
   ]
  },
  {
   "cell_type": "code",
   "execution_count": 12,
   "id": "57dd00fc",
   "metadata": {},
   "outputs": [],
   "source": [
    "file.close()"
   ]
  },
  {
   "cell_type": "markdown",
   "id": "9dca9eb1",
   "metadata": {},
   "source": [
    "### Reading from a file\n",
    "- read -> Reads everything at once\n",
    "- readline\n",
    "- readlines"
   ]
  },
  {
   "cell_type": "code",
   "execution_count": 13,
   "id": "1670a0e1",
   "metadata": {},
   "outputs": [],
   "source": [
    "file = open(\"sample.txt\", \"r+\")"
   ]
  },
  {
   "cell_type": "code",
   "execution_count": 14,
   "id": "558e6bd6",
   "metadata": {},
   "outputs": [
    {
     "data": {
      "text/plain": [
       "'This is a random text that is being written to the file using the write function and this seems pretty cool!'"
      ]
     },
     "execution_count": 14,
     "metadata": {},
     "output_type": "execute_result"
    }
   ],
   "source": [
    "file.read()"
   ]
  },
  {
   "cell_type": "code",
   "execution_count": 15,
   "id": "e923e6ae",
   "metadata": {},
   "outputs": [
    {
     "data": {
      "text/plain": [
       "''"
      ]
     },
     "execution_count": 15,
     "metadata": {},
     "output_type": "execute_result"
    }
   ],
   "source": [
    "file.read()"
   ]
  },
  {
   "cell_type": "code",
   "execution_count": 16,
   "id": "08a23b7a",
   "metadata": {},
   "outputs": [],
   "source": [
    "file.close()"
   ]
  },
  {
   "cell_type": "code",
   "execution_count": 17,
   "id": "a6af3f7d",
   "metadata": {},
   "outputs": [],
   "source": [
    "file = open(\"sample2.txt\", \"r+\")"
   ]
  },
  {
   "cell_type": "code",
   "execution_count": 18,
   "id": "e961893f",
   "metadata": {},
   "outputs": [
    {
     "data": {
      "text/plain": [
       "'This is the first line!\\nWelcome to the second line!\\nThe third line says good bye!\\n'"
      ]
     },
     "execution_count": 18,
     "metadata": {},
     "output_type": "execute_result"
    }
   ],
   "source": [
    "file.read()"
   ]
  },
  {
   "cell_type": "code",
   "execution_count": 19,
   "id": "954fa2e3",
   "metadata": {},
   "outputs": [],
   "source": [
    "file.close()"
   ]
  },
  {
   "cell_type": "code",
   "execution_count": 20,
   "id": "6e8461f6",
   "metadata": {},
   "outputs": [],
   "source": [
    "file2 = open(\"sample2.txt\", \"r+\")"
   ]
  },
  {
   "cell_type": "code",
   "execution_count": 22,
   "id": "614bb99d",
   "metadata": {},
   "outputs": [
    {
     "data": {
      "text/plain": [
       "'This is the first line!\\n'"
      ]
     },
     "execution_count": 22,
     "metadata": {},
     "output_type": "execute_result"
    }
   ],
   "source": [
    "file2.readline()"
   ]
  },
  {
   "cell_type": "code",
   "execution_count": 23,
   "id": "b0bbc3a0",
   "metadata": {},
   "outputs": [
    {
     "data": {
      "text/plain": [
       "'Welcome to the second line!\\n'"
      ]
     },
     "execution_count": 23,
     "metadata": {},
     "output_type": "execute_result"
    }
   ],
   "source": [
    "file2.readline()"
   ]
  },
  {
   "cell_type": "code",
   "execution_count": 24,
   "id": "53fd3583",
   "metadata": {},
   "outputs": [
    {
     "data": {
      "text/plain": [
       "'The third line says good bye!\\n'"
      ]
     },
     "execution_count": 24,
     "metadata": {},
     "output_type": "execute_result"
    }
   ],
   "source": [
    "file2.readline()"
   ]
  },
  {
   "cell_type": "code",
   "execution_count": 25,
   "id": "77e3342b",
   "metadata": {},
   "outputs": [
    {
     "data": {
      "text/plain": [
       "''"
      ]
     },
     "execution_count": 25,
     "metadata": {},
     "output_type": "execute_result"
    }
   ],
   "source": [
    "file2.readline()"
   ]
  },
  {
   "cell_type": "code",
   "execution_count": 26,
   "id": "cb1317dd",
   "metadata": {},
   "outputs": [],
   "source": [
    "file2.close()"
   ]
  },
  {
   "cell_type": "code",
   "execution_count": 27,
   "id": "a4770fd9",
   "metadata": {},
   "outputs": [],
   "source": [
    "file2 = open(\"sample2.txt\", \"r+\")"
   ]
  },
  {
   "cell_type": "code",
   "execution_count": 28,
   "id": "a295bb1a",
   "metadata": {},
   "outputs": [
    {
     "data": {
      "text/plain": [
       "['This is the first line!\\n',\n",
       " 'Welcome to the second line!\\n',\n",
       " 'The third line says good bye!\\n']"
      ]
     },
     "execution_count": 28,
     "metadata": {},
     "output_type": "execute_result"
    }
   ],
   "source": [
    "file2.readlines()"
   ]
  },
  {
   "cell_type": "code",
   "execution_count": 29,
   "id": "213ae639",
   "metadata": {},
   "outputs": [],
   "source": [
    "file2.close()"
   ]
  },
  {
   "cell_type": "code",
   "execution_count": 30,
   "id": "66304968",
   "metadata": {},
   "outputs": [],
   "source": [
    "# file.read() isn't great for large files -> loads everything at once"
   ]
  },
  {
   "cell_type": "code",
   "execution_count": 31,
   "id": "7f2b22aa",
   "metadata": {},
   "outputs": [
    {
     "name": "stdout",
     "output_type": "stream",
     "text": [
      "This is the first line!\n",
      "Welcome to the second line!\n",
      "The third line says good bye!\n"
     ]
    }
   ],
   "source": [
    "# OPTION 1\n",
    "\n",
    "file = open(\"sample2.txt\", \"r+\")\n",
    "\n",
    "for line in file.readlines():\n",
    "    print(line, end = \"\")\n",
    "    \n",
    "file.close()"
   ]
  },
  {
   "cell_type": "code",
   "execution_count": 32,
   "id": "3a934810",
   "metadata": {},
   "outputs": [
    {
     "name": "stdout",
     "output_type": "stream",
     "text": [
      "This is the first line!\n",
      "Welcome to the second line!\n",
      "The third line says good bye!\n"
     ]
    }
   ],
   "source": [
    "# OPTION 2\n",
    "\n",
    "file = open(\"sample2.txt\", \"r+\")\n",
    "\n",
    "buffer = file.readline()\n",
    "\n",
    "while buffer:\n",
    "    print(buffer, end = \"\")\n",
    "    buffer = file.readline()\n",
    "    \n",
    "file.close()"
   ]
  },
  {
   "cell_type": "code",
   "execution_count": 34,
   "id": "fc4c0fee",
   "metadata": {},
   "outputs": [
    {
     "name": "stdout",
     "output_type": "stream",
     "text": [
      "This is the first line!\n",
      "Welcome to the second line!\n",
      "The third line says good bye!\n"
     ]
    }
   ],
   "source": [
    "# OPTION 2 - Different Method\n",
    "\n",
    "file = open(\"sample2.txt\", \"r+\")\n",
    "\n",
    "while True:\n",
    "    buffer = file.readline()\n",
    "    \n",
    "    if not buffer:\n",
    "        break\n",
    "        \n",
    "    print(buffer, end = \"\")\n",
    "    \n",
    "file.close()"
   ]
  },
  {
   "cell_type": "code",
   "execution_count": 35,
   "id": "00f9b960",
   "metadata": {},
   "outputs": [],
   "source": [
    "# IN CASE THE FILE DOES NOT CONTAIN PROPER LINE BREAKS"
   ]
  },
  {
   "cell_type": "code",
   "execution_count": 36,
   "id": "25ba6aed",
   "metadata": {},
   "outputs": [],
   "source": [
    "file = open(\"long_sample.txt\", \"r+\")"
   ]
  },
  {
   "cell_type": "code",
   "execution_count": 37,
   "id": "d6d5db45",
   "metadata": {},
   "outputs": [
    {
     "name": "stdout",
     "output_type": "stream",
     "text": [
      "Contrary to popular \n",
      "belief, Lorem Ipsum \n",
      "is not simply random\n",
      " text.\n",
      " It has roots\n",
      " in a piece of class\n",
      "ical Latin literatur\n",
      "e from 45 BC, making\n",
      " it over 2000\n",
      " years\n",
      " old. Richard McClin\n",
      "tock, a Latin profes\n",
      "sor at Hampden-Sydne\n",
      "y College in\n",
      " Virgin\n",
      "ia, looked up one of\n",
      " the more obscure La\n",
      "tin words, consectet\n",
      "ur\n",
      ", from a Lorem Ip\n",
      "sum passage, and goi\n",
      "ng through the cites\n",
      " of the word in clas\n",
      "sical literature,\n",
      " d\n",
      "iscovered the undoub\n",
      "table source.\n",
      " Lorem\n",
      " Ipsum comes from se\n",
      "ctions 1.10.32 and 1\n",
      ".10.33 of \"de Finibu\n",
      "s Bonorum et Malorum\n",
      "\" (The Extremes of G\n",
      "ood and Evil) by Cic\n",
      "ero, written in 45 B\n",
      "C.\n",
      " This book is a t\n",
      "reatise on the theor\n",
      "y of ethics, very po\n",
      "pular during the Ren\n",
      "aissance.\n",
      " The first\n",
      " line of Lorem Ipsum\n",
      ", \"Lorem ipsum dolor\n",
      " sit amet..\", comes \n",
      "from a line in secti\n",
      "on 1.10.32.\n"
     ]
    }
   ],
   "source": [
    "while True:\n",
    "    chunk = file.read(20) # number of characters that need to be read\n",
    "    \n",
    "    if not chunk:\n",
    "        break\n",
    "        \n",
    "    print(chunk)"
   ]
  },
  {
   "cell_type": "code",
   "execution_count": 38,
   "id": "e6c94888",
   "metadata": {},
   "outputs": [],
   "source": [
    "file.close()"
   ]
  },
  {
   "cell_type": "code",
   "execution_count": 40,
   "id": "f083a543",
   "metadata": {},
   "outputs": [],
   "source": [
    "# WORKING WITH IMAGES!\n",
    "\n",
    "source = open(\"sample.jpeg\", \"rb+\") # b -> to represent binary files\n",
    "destination = open(\"sample_copy.jpeg\", \"wb+\")\n",
    "\n",
    "while True:\n",
    "    chunk = source.read(256)\n",
    "    \n",
    "    if not chunk:\n",
    "        break\n",
    "        \n",
    "    destination.write(chunk)\n",
    "    \n",
    "source.close()\n",
    "destination.close()"
   ]
  },
  {
   "cell_type": "markdown",
   "id": "68fce312",
   "metadata": {},
   "source": [
    "### Moving the cursor\n",
    "\n",
    "- `seek(n)` : takes the file read handle to the nth byte from the beginning."
   ]
  },
  {
   "cell_type": "code",
   "execution_count": 41,
   "id": "20a5c050",
   "metadata": {},
   "outputs": [],
   "source": [
    "file = open(\"sample.txt\", \"r+\")"
   ]
  },
  {
   "cell_type": "code",
   "execution_count": 42,
   "id": "55ea65c0",
   "metadata": {},
   "outputs": [
    {
     "data": {
      "text/plain": [
       "'This is a random text that is being written to the file using the write function and this seems pretty cool!'"
      ]
     },
     "execution_count": 42,
     "metadata": {},
     "output_type": "execute_result"
    }
   ],
   "source": [
    "file.read()"
   ]
  },
  {
   "cell_type": "code",
   "execution_count": 43,
   "id": "fe022c51",
   "metadata": {},
   "outputs": [
    {
     "data": {
      "text/plain": [
       "''"
      ]
     },
     "execution_count": 43,
     "metadata": {},
     "output_type": "execute_result"
    }
   ],
   "source": [
    "file.read()"
   ]
  },
  {
   "cell_type": "code",
   "execution_count": 44,
   "id": "47317b80",
   "metadata": {},
   "outputs": [
    {
     "data": {
      "text/plain": [
       "0"
      ]
     },
     "execution_count": 44,
     "metadata": {},
     "output_type": "execute_result"
    }
   ],
   "source": [
    "file.seek(0)"
   ]
  },
  {
   "cell_type": "code",
   "execution_count": 45,
   "id": "bbbf237b",
   "metadata": {},
   "outputs": [
    {
     "data": {
      "text/plain": [
       "'This is a random text that is being written to the'"
      ]
     },
     "execution_count": 45,
     "metadata": {},
     "output_type": "execute_result"
    }
   ],
   "source": [
    "file.read(50)"
   ]
  },
  {
   "cell_type": "code",
   "execution_count": 46,
   "id": "62eadf88",
   "metadata": {},
   "outputs": [
    {
     "data": {
      "text/plain": [
       "' file using the writ'"
      ]
     },
     "execution_count": 46,
     "metadata": {},
     "output_type": "execute_result"
    }
   ],
   "source": [
    "file.read(20)"
   ]
  },
  {
   "cell_type": "code",
   "execution_count": 47,
   "id": "c335842b",
   "metadata": {},
   "outputs": [
    {
     "data": {
      "text/plain": [
       "5"
      ]
     },
     "execution_count": 47,
     "metadata": {},
     "output_type": "execute_result"
    }
   ],
   "source": [
    "file.seek(5)"
   ]
  },
  {
   "cell_type": "code",
   "execution_count": 49,
   "id": "07b1628c",
   "metadata": {},
   "outputs": [
    {
     "data": {
      "text/plain": [
       "'is a '"
      ]
     },
     "execution_count": 49,
     "metadata": {},
     "output_type": "execute_result"
    }
   ],
   "source": [
    "file.read(5)"
   ]
  },
  {
   "cell_type": "code",
   "execution_count": 51,
   "id": "d4e459b6",
   "metadata": {},
   "outputs": [
    {
     "data": {
      "text/plain": [
       "108"
      ]
     },
     "execution_count": 51,
     "metadata": {},
     "output_type": "execute_result"
    }
   ],
   "source": [
    "file.seek(0)\n",
    "len(file.read())"
   ]
  },
  {
   "cell_type": "code",
   "execution_count": 52,
   "id": "35b50215",
   "metadata": {},
   "outputs": [
    {
     "data": {
      "text/plain": [
       "108"
      ]
     },
     "execution_count": 52,
     "metadata": {},
     "output_type": "execute_result"
    }
   ],
   "source": [
    "file.tell()"
   ]
  },
  {
   "cell_type": "code",
   "execution_count": 53,
   "id": "fb57b2d1",
   "metadata": {},
   "outputs": [
    {
     "data": {
      "text/plain": [
       "5"
      ]
     },
     "execution_count": 53,
     "metadata": {},
     "output_type": "execute_result"
    }
   ],
   "source": [
    "file.seek(5)"
   ]
  },
  {
   "cell_type": "code",
   "execution_count": 55,
   "id": "b8363237",
   "metadata": {},
   "outputs": [
    {
     "data": {
      "text/plain": [
       "'is a random text tha'"
      ]
     },
     "execution_count": 55,
     "metadata": {},
     "output_type": "execute_result"
    }
   ],
   "source": [
    "file.read(20)"
   ]
  },
  {
   "cell_type": "code",
   "execution_count": 56,
   "id": "bf2b03ac",
   "metadata": {},
   "outputs": [
    {
     "data": {
      "text/plain": [
       "25"
      ]
     },
     "execution_count": 56,
     "metadata": {},
     "output_type": "execute_result"
    }
   ],
   "source": [
    "file.tell()"
   ]
  },
  {
   "cell_type": "code",
   "execution_count": 57,
   "id": "959bbd96",
   "metadata": {},
   "outputs": [],
   "source": [
    "file.close()"
   ]
  },
  {
   "cell_type": "markdown",
   "id": "37a4180b",
   "metadata": {},
   "source": [
    "### Smarter way of opening files...\n",
    "\n",
    "With the \"with\" statement, you get better syntax and exceptions handling. \n",
    "\n",
    "\"The with statement simplifies exception handling by encapsulating common\n",
    "preparation and cleanup tasks.\"\n",
    "\n",
    "In addition, it will automatically close the file. The with statement provides\n",
    "a way for ensuring that a clean-up is always used.\n"
   ]
  },
  {
   "cell_type": "code",
   "execution_count": 58,
   "id": "6c29e08b",
   "metadata": {},
   "outputs": [
    {
     "name": "stdout",
     "output_type": "stream",
     "text": [
      "Contr\n",
      "Contrary to popular belief, Lorem Ipsum is not sim\n"
     ]
    }
   ],
   "source": [
    "with open(\"long_sample.txt\", \"r+\") as file:\n",
    "    print(file.read(5))\n",
    "    file.seek(0)\n",
    "    print(file.read(50))\n",
    "    \n",
    "    # Other operations on the file"
   ]
  },
  {
   "cell_type": "code",
   "execution_count": 59,
   "id": "12422d4c",
   "metadata": {},
   "outputs": [
    {
     "ename": "ValueError",
     "evalue": "I/O operation on closed file.",
     "output_type": "error",
     "traceback": [
      "\u001b[0;31m---------------------------------------------------------------------------\u001b[0m",
      "\u001b[0;31mValueError\u001b[0m                                Traceback (most recent call last)",
      "Cell \u001b[0;32mIn[59], line 1\u001b[0m\n\u001b[0;32m----> 1\u001b[0m \u001b[43mfile\u001b[49m\u001b[38;5;241;43m.\u001b[39;49m\u001b[43mread\u001b[49m\u001b[43m(\u001b[49m\u001b[43m)\u001b[49m\n",
      "\u001b[0;31mValueError\u001b[0m: I/O operation on closed file."
     ]
    }
   ],
   "source": [
    "file.read()"
   ]
  },
  {
   "cell_type": "code",
   "execution_count": 60,
   "id": "980dc7f3",
   "metadata": {},
   "outputs": [],
   "source": [
    "cool = open(\"writing_test.txt\", \"w+\")\n",
    "\n",
    "cool.write(\"THIS IS WRITTEN USING w+ MODE!\")\n",
    "\n",
    "cool.close()"
   ]
  },
  {
   "cell_type": "code",
   "execution_count": 61,
   "id": "8e41e9c8",
   "metadata": {},
   "outputs": [],
   "source": [
    "cool = open(\"writing_test.txt\", \"w+\")\n",
    "\n",
    "cool.write(\"This is also written using w+ mode and it will overwrite the previous content!\")\n",
    "\n",
    "cool.close()"
   ]
  },
  {
   "cell_type": "code",
   "execution_count": 62,
   "id": "041b46e8",
   "metadata": {},
   "outputs": [],
   "source": [
    "cool = open(\"writing_test.txt\", \"w+\")\n",
    "\n",
    "cool.write(\"w+ will overwrite the entire file even if content smaller!\")\n",
    "\n",
    "cool.close()"
   ]
  },
  {
   "cell_type": "code",
   "execution_count": 63,
   "id": "e12178a7",
   "metadata": {},
   "outputs": [],
   "source": [
    "cool = open(\"writing_test.txt\", \"a+\")\n",
    "\n",
    "cool.write(\"a+ will add content at the end of the file.\")\n",
    "\n",
    "cool.close()"
   ]
  },
  {
   "cell_type": "code",
   "execution_count": 64,
   "id": "728084b3",
   "metadata": {},
   "outputs": [],
   "source": [
    "cool = open(\"writing_test.txt\", \"r+\")\n",
    "\n",
    "cool.write(\"!ONLY OVERWRITES OVERLAPPING BITS!\")\n",
    "\n",
    "cool.close()"
   ]
  },
  {
   "cell_type": "code",
   "execution_count": null,
   "id": "104fb2a5",
   "metadata": {},
   "outputs": [],
   "source": []
  }
 ],
 "metadata": {
  "kernelspec": {
   "display_name": "Python 3 (ipykernel)",
   "language": "python",
   "name": "python3"
  },
  "language_info": {
   "codemirror_mode": {
    "name": "ipython",
    "version": 3
   },
   "file_extension": ".py",
   "mimetype": "text/x-python",
   "name": "python",
   "nbconvert_exporter": "python",
   "pygments_lexer": "ipython3",
   "version": "3.9.5"
  }
 },
 "nbformat": 4,
 "nbformat_minor": 5
}
