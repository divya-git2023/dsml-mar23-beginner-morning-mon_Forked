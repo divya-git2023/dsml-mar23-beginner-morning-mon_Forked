{
 "cells": [
  {
   "cell_type": "code",
   "execution_count": 2,
   "id": "3b18dfac",
   "metadata": {},
   "outputs": [],
   "source": [
    "class Student:\n",
    "    # methods\n",
    "    # properties\n",
    "    pass"
   ]
  },
  {
   "cell_type": "code",
   "execution_count": 3,
   "id": "f233ba32",
   "metadata": {},
   "outputs": [],
   "source": [
    "a = Student()\n",
    "\n",
    "# a is an instance of class Student\n",
    "# a is an object of the type Student"
   ]
  },
  {
   "cell_type": "code",
   "execution_count": 4,
   "id": "da3b98e6",
   "metadata": {},
   "outputs": [
    {
     "data": {
      "text/plain": [
       "__main__.Student"
      ]
     },
     "execution_count": 4,
     "metadata": {},
     "output_type": "execute_result"
    }
   ],
   "source": [
    "type(a)"
   ]
  },
  {
   "cell_type": "code",
   "execution_count": 5,
   "id": "06a591b1",
   "metadata": {},
   "outputs": [
    {
     "data": {
      "text/plain": [
       "True"
      ]
     },
     "execution_count": 5,
     "metadata": {},
     "output_type": "execute_result"
    }
   ],
   "source": [
    "isinstance(a, Student)"
   ]
  },
  {
   "cell_type": "code",
   "execution_count": 6,
   "id": "cfc4fd24",
   "metadata": {},
   "outputs": [
    {
     "data": {
      "text/plain": [
       "True"
      ]
     },
     "execution_count": 6,
     "metadata": {},
     "output_type": "execute_result"
    }
   ],
   "source": [
    "isinstance(a, object)"
   ]
  },
  {
   "cell_type": "code",
   "execution_count": 7,
   "id": "e3ee0945",
   "metadata": {},
   "outputs": [
    {
     "data": {
      "text/plain": [
       "True"
      ]
     },
     "execution_count": 7,
     "metadata": {},
     "output_type": "execute_result"
    }
   ],
   "source": [
    "isinstance(Student, object)"
   ]
  },
  {
   "cell_type": "code",
   "execution_count": 8,
   "id": "4ed694f1",
   "metadata": {},
   "outputs": [
    {
     "data": {
      "text/plain": [
       "11"
      ]
     },
     "execution_count": 8,
     "metadata": {},
     "output_type": "execute_result"
    }
   ],
   "source": [
    "5 + 6"
   ]
  },
  {
   "cell_type": "code",
   "execution_count": 9,
   "id": "713a5b70",
   "metadata": {},
   "outputs": [
    {
     "data": {
      "text/plain": [
       "'yesno'"
      ]
     },
     "execution_count": 9,
     "metadata": {},
     "output_type": "execute_result"
    }
   ],
   "source": [
    "\"yes\" + \"no\""
   ]
  },
  {
   "cell_type": "code",
   "execution_count": 10,
   "id": "c08af37b",
   "metadata": {},
   "outputs": [],
   "source": [
    "s1 = Student()"
   ]
  },
  {
   "cell_type": "code",
   "execution_count": 12,
   "id": "49299f72",
   "metadata": {},
   "outputs": [],
   "source": [
    "s1.name = \"Bipin Kalra\""
   ]
  },
  {
   "cell_type": "code",
   "execution_count": 13,
   "id": "a3acd862",
   "metadata": {},
   "outputs": [
    {
     "data": {
      "text/plain": [
       "'Bipin Kalra'"
      ]
     },
     "execution_count": 13,
     "metadata": {},
     "output_type": "execute_result"
    }
   ],
   "source": [
    "s1.name"
   ]
  },
  {
   "cell_type": "code",
   "execution_count": 14,
   "id": "7a924d0a",
   "metadata": {},
   "outputs": [],
   "source": [
    "s2 = Student()"
   ]
  },
  {
   "cell_type": "code",
   "execution_count": 15,
   "id": "2da83b78",
   "metadata": {},
   "outputs": [
    {
     "ename": "AttributeError",
     "evalue": "'Student' object has no attribute 'name'",
     "output_type": "error",
     "traceback": [
      "\u001b[0;31m---------------------------------------------------------------------------\u001b[0m",
      "\u001b[0;31mAttributeError\u001b[0m                            Traceback (most recent call last)",
      "Cell \u001b[0;32mIn[15], line 1\u001b[0m\n\u001b[0;32m----> 1\u001b[0m \u001b[43ms2\u001b[49m\u001b[38;5;241;43m.\u001b[39;49m\u001b[43mname\u001b[49m\n",
      "\u001b[0;31mAttributeError\u001b[0m: 'Student' object has no attribute 'name'"
     ]
    }
   ],
   "source": [
    "s2.name"
   ]
  },
  {
   "cell_type": "code",
   "execution_count": 16,
   "id": "01702c25",
   "metadata": {},
   "outputs": [],
   "source": [
    "# class names should start with a capital letter"
   ]
  },
  {
   "cell_type": "code",
   "execution_count": 17,
   "id": "80649edd",
   "metadata": {},
   "outputs": [],
   "source": [
    "class Student:\n",
    "    def hello():\n",
    "        print(\"Hello :)\")"
   ]
  },
  {
   "cell_type": "code",
   "execution_count": 18,
   "id": "8d9772f5",
   "metadata": {},
   "outputs": [],
   "source": [
    "s1 = Student()"
   ]
  },
  {
   "cell_type": "code",
   "execution_count": 19,
   "id": "8e2be8cb",
   "metadata": {},
   "outputs": [
    {
     "ename": "TypeError",
     "evalue": "hello() takes 0 positional arguments but 1 was given",
     "output_type": "error",
     "traceback": [
      "\u001b[0;31m---------------------------------------------------------------------------\u001b[0m",
      "\u001b[0;31mTypeError\u001b[0m                                 Traceback (most recent call last)",
      "Cell \u001b[0;32mIn[19], line 1\u001b[0m\n\u001b[0;32m----> 1\u001b[0m \u001b[43ms1\u001b[49m\u001b[38;5;241;43m.\u001b[39;49m\u001b[43mhello\u001b[49m\u001b[43m(\u001b[49m\u001b[43m)\u001b[49m\n",
      "\u001b[0;31mTypeError\u001b[0m: hello() takes 0 positional arguments but 1 was given"
     ]
    }
   ],
   "source": [
    "s1.hello()"
   ]
  },
  {
   "cell_type": "code",
   "execution_count": 23,
   "id": "9c5e2969",
   "metadata": {},
   "outputs": [],
   "source": [
    "class Student:\n",
    "    def hello(self):\n",
    "        print(id(self))"
   ]
  },
  {
   "cell_type": "code",
   "execution_count": 24,
   "id": "22e6171d",
   "metadata": {},
   "outputs": [],
   "source": [
    "s1 = Student()"
   ]
  },
  {
   "cell_type": "code",
   "execution_count": 27,
   "id": "3d5f24a9",
   "metadata": {},
   "outputs": [
    {
     "name": "stdout",
     "output_type": "stream",
     "text": [
      "140223728031104\n"
     ]
    }
   ],
   "source": [
    "s1.hello()\n",
    "\n",
    "# Student.hello(s1) <- This change happens internally\n",
    "# Which is why we don't have to explicitly pass something to self"
   ]
  },
  {
   "cell_type": "code",
   "execution_count": 26,
   "id": "649ae0d3",
   "metadata": {},
   "outputs": [
    {
     "data": {
      "text/plain": [
       "140223728031104"
      ]
     },
     "execution_count": 26,
     "metadata": {},
     "output_type": "execute_result"
    }
   ],
   "source": [
    "id(s1)"
   ]
  },
  {
   "cell_type": "code",
   "execution_count": 28,
   "id": "aacdda5f",
   "metadata": {},
   "outputs": [],
   "source": [
    "class Student:\n",
    "    def hello(anything):\n",
    "        print(id(anything))"
   ]
  },
  {
   "cell_type": "code",
   "execution_count": 29,
   "id": "0c41a0bf",
   "metadata": {},
   "outputs": [],
   "source": [
    "class Student:\n",
    "    def __init__(self, name, age):\n",
    "        self.name = name\n",
    "        self.age = age"
   ]
  },
  {
   "cell_type": "code",
   "execution_count": 31,
   "id": "934736f3",
   "metadata": {},
   "outputs": [],
   "source": [
    "s1 = Student(\"Bipin Kalra\", 5000)\n",
    "\n",
    "# Student.__init__(s1, \"Bipin Kalra\", 5000)"
   ]
  },
  {
   "cell_type": "code",
   "execution_count": 32,
   "id": "c557b662",
   "metadata": {},
   "outputs": [
    {
     "data": {
      "text/plain": [
       "'Bipin Kalra'"
      ]
     },
     "execution_count": 32,
     "metadata": {},
     "output_type": "execute_result"
    }
   ],
   "source": [
    "s1.name"
   ]
  },
  {
   "cell_type": "code",
   "execution_count": 33,
   "id": "24c0218a",
   "metadata": {},
   "outputs": [
    {
     "data": {
      "text/plain": [
       "5000"
      ]
     },
     "execution_count": 33,
     "metadata": {},
     "output_type": "execute_result"
    }
   ],
   "source": [
    "s1.age"
   ]
  },
  {
   "cell_type": "code",
   "execution_count": 35,
   "id": "8c4e77dc",
   "metadata": {},
   "outputs": [],
   "source": [
    "s2 = Student(\"Random\", 123)"
   ]
  },
  {
   "cell_type": "code",
   "execution_count": 38,
   "id": "b52c4b7f",
   "metadata": {},
   "outputs": [
    {
     "data": {
      "text/plain": [
       "'Random'"
      ]
     },
     "execution_count": 38,
     "metadata": {},
     "output_type": "execute_result"
    }
   ],
   "source": [
    "s2.name"
   ]
  },
  {
   "cell_type": "code",
   "execution_count": 39,
   "id": "10b66563",
   "metadata": {},
   "outputs": [
    {
     "data": {
      "text/plain": [
       "123"
      ]
     },
     "execution_count": 39,
     "metadata": {},
     "output_type": "execute_result"
    }
   ],
   "source": [
    "s2.age"
   ]
  },
  {
   "cell_type": "code",
   "execution_count": 40,
   "id": "37e29054",
   "metadata": {},
   "outputs": [],
   "source": [
    "# CLASS v/s INSTANCE VARIABLES"
   ]
  },
  {
   "cell_type": "code",
   "execution_count": 41,
   "id": "69e38a90",
   "metadata": {},
   "outputs": [],
   "source": [
    "class Dog:\n",
    "    kind = \"Labrador\" # class variable\n",
    "    \n",
    "    def __init__(self, name):\n",
    "        self.name = name # instance variable"
   ]
  },
  {
   "cell_type": "code",
   "execution_count": 42,
   "id": "9f36e7c4",
   "metadata": {},
   "outputs": [],
   "source": [
    "d1 = Dog(\"Tuffy\")\n",
    "d2 = Dog(\"Scooby\")"
   ]
  },
  {
   "cell_type": "code",
   "execution_count": 43,
   "id": "38fd7229",
   "metadata": {},
   "outputs": [
    {
     "data": {
      "text/plain": [
       "'Tuffy'"
      ]
     },
     "execution_count": 43,
     "metadata": {},
     "output_type": "execute_result"
    }
   ],
   "source": [
    "d1.name"
   ]
  },
  {
   "cell_type": "code",
   "execution_count": 44,
   "id": "275adbef",
   "metadata": {},
   "outputs": [
    {
     "data": {
      "text/plain": [
       "'Scooby'"
      ]
     },
     "execution_count": 44,
     "metadata": {},
     "output_type": "execute_result"
    }
   ],
   "source": [
    "d2.name"
   ]
  },
  {
   "cell_type": "code",
   "execution_count": 45,
   "id": "23021075",
   "metadata": {},
   "outputs": [
    {
     "data": {
      "text/plain": [
       "'Labrador'"
      ]
     },
     "execution_count": 45,
     "metadata": {},
     "output_type": "execute_result"
    }
   ],
   "source": [
    "d1.kind"
   ]
  },
  {
   "cell_type": "code",
   "execution_count": 46,
   "id": "d0d1cc49",
   "metadata": {},
   "outputs": [
    {
     "data": {
      "text/plain": [
       "'Labrador'"
      ]
     },
     "execution_count": 46,
     "metadata": {},
     "output_type": "execute_result"
    }
   ],
   "source": [
    "d2.kind"
   ]
  },
  {
   "cell_type": "code",
   "execution_count": 47,
   "id": "36cabe58",
   "metadata": {},
   "outputs": [
    {
     "data": {
      "text/plain": [
       "'Labrador'"
      ]
     },
     "execution_count": 47,
     "metadata": {},
     "output_type": "execute_result"
    }
   ],
   "source": [
    "Dog.kind"
   ]
  },
  {
   "cell_type": "code",
   "execution_count": 48,
   "id": "44e324f1",
   "metadata": {},
   "outputs": [
    {
     "ename": "AttributeError",
     "evalue": "type object 'Dog' has no attribute 'name'",
     "output_type": "error",
     "traceback": [
      "\u001b[0;31m---------------------------------------------------------------------------\u001b[0m",
      "\u001b[0;31mAttributeError\u001b[0m                            Traceback (most recent call last)",
      "Cell \u001b[0;32mIn[48], line 1\u001b[0m\n\u001b[0;32m----> 1\u001b[0m \u001b[43mDog\u001b[49m\u001b[38;5;241;43m.\u001b[39;49m\u001b[43mname\u001b[49m\n",
      "\u001b[0;31mAttributeError\u001b[0m: type object 'Dog' has no attribute 'name'"
     ]
    }
   ],
   "source": [
    "Dog.name"
   ]
  },
  {
   "cell_type": "code",
   "execution_count": 49,
   "id": "8effab0d",
   "metadata": {},
   "outputs": [],
   "source": [
    "d1.kind = \"Golden Retriever\""
   ]
  },
  {
   "cell_type": "code",
   "execution_count": 50,
   "id": "51928347",
   "metadata": {},
   "outputs": [
    {
     "data": {
      "text/plain": [
       "'Golden Retriever'"
      ]
     },
     "execution_count": 50,
     "metadata": {},
     "output_type": "execute_result"
    }
   ],
   "source": [
    "d1.kind"
   ]
  },
  {
   "cell_type": "code",
   "execution_count": 51,
   "id": "d58394de",
   "metadata": {},
   "outputs": [
    {
     "data": {
      "text/plain": [
       "'Labrador'"
      ]
     },
     "execution_count": 51,
     "metadata": {},
     "output_type": "execute_result"
    }
   ],
   "source": [
    "d2.kind"
   ]
  },
  {
   "cell_type": "code",
   "execution_count": 52,
   "id": "e3e0426f",
   "metadata": {},
   "outputs": [
    {
     "data": {
      "text/plain": [
       "'Labrador'"
      ]
     },
     "execution_count": 52,
     "metadata": {},
     "output_type": "execute_result"
    }
   ],
   "source": [
    "Dog.kind"
   ]
  },
  {
   "cell_type": "code",
   "execution_count": 53,
   "id": "eafb2b43",
   "metadata": {},
   "outputs": [],
   "source": [
    "d3 = Dog(\"Biscuit\")"
   ]
  },
  {
   "cell_type": "code",
   "execution_count": 54,
   "id": "9065946a",
   "metadata": {},
   "outputs": [
    {
     "data": {
      "text/plain": [
       "'Labrador'"
      ]
     },
     "execution_count": 54,
     "metadata": {},
     "output_type": "execute_result"
    }
   ],
   "source": [
    "d3.kind"
   ]
  },
  {
   "cell_type": "code",
   "execution_count": 55,
   "id": "82201a18",
   "metadata": {},
   "outputs": [],
   "source": [
    "# WE CAN CHANGE CLASS VARIABLE IN ONE WAY!"
   ]
  },
  {
   "cell_type": "code",
   "execution_count": 56,
   "id": "eb5ec08c",
   "metadata": {},
   "outputs": [],
   "source": [
    "Dog.kind = \"HYBRID\" # By directly using the class_name to change it"
   ]
  },
  {
   "cell_type": "code",
   "execution_count": 57,
   "id": "ed4ae2cd",
   "metadata": {},
   "outputs": [
    {
     "data": {
      "text/plain": [
       "'HYBRID'"
      ]
     },
     "execution_count": 57,
     "metadata": {},
     "output_type": "execute_result"
    }
   ],
   "source": [
    "d2.kind"
   ]
  },
  {
   "cell_type": "code",
   "execution_count": 58,
   "id": "e33d6ec1",
   "metadata": {},
   "outputs": [
    {
     "data": {
      "text/plain": [
       "'HYBRID'"
      ]
     },
     "execution_count": 58,
     "metadata": {},
     "output_type": "execute_result"
    }
   ],
   "source": [
    "d3.kind"
   ]
  },
  {
   "cell_type": "code",
   "execution_count": 60,
   "id": "eab57d63",
   "metadata": {},
   "outputs": [
    {
     "data": {
      "text/plain": [
       "'HYBRID'"
      ]
     },
     "execution_count": 60,
     "metadata": {},
     "output_type": "execute_result"
    }
   ],
   "source": [
    "Dog.kind"
   ]
  },
  {
   "cell_type": "code",
   "execution_count": 61,
   "id": "e6d2bb3d",
   "metadata": {},
   "outputs": [
    {
     "data": {
      "text/plain": [
       "'Golden Retriever'"
      ]
     },
     "execution_count": 61,
     "metadata": {},
     "output_type": "execute_result"
    }
   ],
   "source": [
    "d1.kind"
   ]
  },
  {
   "cell_type": "code",
   "execution_count": 66,
   "id": "3cbcd0aa",
   "metadata": {},
   "outputs": [],
   "source": [
    "class Dog:\n",
    "    tricks = [] # class variable\n",
    "    \n",
    "    def __init__(self, name):\n",
    "        self.name = name\n",
    "        \n",
    "    def teach_trick(self, trick):\n",
    "        self.tricks.append(trick)"
   ]
  },
  {
   "cell_type": "code",
   "execution_count": 67,
   "id": "d6bd0539",
   "metadata": {},
   "outputs": [],
   "source": [
    "d1 = Dog(\"Tuffy\")\n",
    "d2 = Dog(\"Scooby\")"
   ]
  },
  {
   "cell_type": "code",
   "execution_count": 68,
   "id": "4c206908",
   "metadata": {},
   "outputs": [
    {
     "name": "stdout",
     "output_type": "stream",
     "text": [
      "[] []\n"
     ]
    }
   ],
   "source": [
    "print(d1.tricks, d2.tricks)"
   ]
  },
  {
   "cell_type": "code",
   "execution_count": 69,
   "id": "2bdbd0e7",
   "metadata": {},
   "outputs": [],
   "source": [
    "d1.teach_trick(\"jump\")"
   ]
  },
  {
   "cell_type": "code",
   "execution_count": 70,
   "id": "94d72c6c",
   "metadata": {},
   "outputs": [
    {
     "data": {
      "text/plain": [
       "['jump']"
      ]
     },
     "execution_count": 70,
     "metadata": {},
     "output_type": "execute_result"
    }
   ],
   "source": [
    "d1.tricks"
   ]
  },
  {
   "cell_type": "code",
   "execution_count": 71,
   "id": "7e2be4a2",
   "metadata": {},
   "outputs": [],
   "source": [
    "d1.teach_trick(\"high five\")"
   ]
  },
  {
   "cell_type": "code",
   "execution_count": 72,
   "id": "3d194841",
   "metadata": {},
   "outputs": [
    {
     "data": {
      "text/plain": [
       "['jump', 'high five']"
      ]
     },
     "execution_count": 72,
     "metadata": {},
     "output_type": "execute_result"
    }
   ],
   "source": [
    "d1.tricks"
   ]
  },
  {
   "cell_type": "code",
   "execution_count": 73,
   "id": "25060666",
   "metadata": {},
   "outputs": [
    {
     "data": {
      "text/plain": [
       "['jump', 'high five']"
      ]
     },
     "execution_count": 73,
     "metadata": {},
     "output_type": "execute_result"
    }
   ],
   "source": [
    "d2.tricks"
   ]
  },
  {
   "cell_type": "code",
   "execution_count": 74,
   "id": "48171753",
   "metadata": {},
   "outputs": [
    {
     "data": {
      "text/plain": [
       "['jump', 'high five']"
      ]
     },
     "execution_count": 74,
     "metadata": {},
     "output_type": "execute_result"
    }
   ],
   "source": [
    "Dog.tricks"
   ]
  },
  {
   "cell_type": "markdown",
   "id": "8d607815",
   "metadata": {},
   "source": [
    "### IMPORTANT NOTE\n",
    "\n",
    "When updating a `class variable` using an object ->\n",
    "\n",
    "- In case of immutable - New `instance variable` is created\n",
    "- In case of a mutable - Original `class variable` is modified"
   ]
  },
  {
   "cell_type": "code",
   "execution_count": null,
   "id": "01c43e98",
   "metadata": {},
   "outputs": [],
   "source": []
  }
 ],
 "metadata": {
  "kernelspec": {
   "display_name": "Python 3 (ipykernel)",
   "language": "python",
   "name": "python3"
  },
  "language_info": {
   "codemirror_mode": {
    "name": "ipython",
    "version": 3
   },
   "file_extension": ".py",
   "mimetype": "text/x-python",
   "name": "python",
   "nbconvert_exporter": "python",
   "pygments_lexer": "ipython3",
   "version": "3.9.5"
  }
 },
 "nbformat": 4,
 "nbformat_minor": 5
}
