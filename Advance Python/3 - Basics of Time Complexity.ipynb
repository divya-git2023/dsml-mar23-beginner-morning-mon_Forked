{
 "cells": [
  {
   "cell_type": "code",
   "execution_count": 7,
   "id": "832a7688",
   "metadata": {},
   "outputs": [],
   "source": [
    "# PROGRAM 1\n",
    "def foo(n):\n",
    "    x = 1 # Operation 1\n",
    "    y = 2 # Operation 2\n",
    "    z = 3 # Operation 3\n",
    "    \n",
    "    print(n) # Operation 4"
   ]
  },
  {
   "cell_type": "code",
   "execution_count": 8,
   "id": "c5b8b98c",
   "metadata": {},
   "outputs": [
    {
     "name": "stdout",
     "output_type": "stream",
     "text": [
      "10000\n"
     ]
    }
   ],
   "source": [
    "foo(10000)"
   ]
  },
  {
   "cell_type": "code",
   "execution_count": 9,
   "id": "6ad4c7c7",
   "metadata": {},
   "outputs": [
    {
     "data": {
      "text/plain": [
       "'\\nAnalysis for Program 1 - \\n\\nThe number of operations in the code above remain constant.\\nNumber of operations is not dependent on the input provided.\\n'"
      ]
     },
     "execution_count": 9,
     "metadata": {},
     "output_type": "execute_result"
    }
   ],
   "source": [
    "'''\n",
    "Analysis for Program 1 - \n",
    "\n",
    "The number of operations in the code above remain constant.\n",
    "Number of operations is not dependent on the input provided.\n",
    "'''"
   ]
  },
  {
   "cell_type": "code",
   "execution_count": 10,
   "id": "d6ce2cbf",
   "metadata": {},
   "outputs": [],
   "source": [
    "# PROGRAM 2\n",
    "\n",
    "def foo(n):\n",
    "    for i in range(n):\n",
    "        print(i) # n Operations"
   ]
  },
  {
   "cell_type": "code",
   "execution_count": 15,
   "id": "289bf22e",
   "metadata": {},
   "outputs": [
    {
     "name": "stdout",
     "output_type": "stream",
     "text": [
      "0\n",
      "1\n",
      "2\n",
      "3\n",
      "4\n"
     ]
    }
   ],
   "source": [
    "foo(5)"
   ]
  },
  {
   "cell_type": "code",
   "execution_count": 16,
   "id": "02ce68f7",
   "metadata": {},
   "outputs": [
    {
     "data": {
      "text/plain": [
       "'\\nAnalysis for Program 2 - \\n\\nThe number of operations is directly dependent on the input value.\\nIt linearly grows with the input provided.\\n'"
      ]
     },
     "execution_count": 16,
     "metadata": {},
     "output_type": "execute_result"
    }
   ],
   "source": [
    "'''\n",
    "Analysis for Program 2 - \n",
    "\n",
    "The number of operations is directly dependent on the input value.\n",
    "It linearly grows with the input provided.\n",
    "'''"
   ]
  },
  {
   "cell_type": "code",
   "execution_count": 17,
   "id": "101661e9",
   "metadata": {},
   "outputs": [],
   "source": [
    "# PROGRAM 3\n",
    "\n",
    "def foo(n):\n",
    "    for i in range(n):\n",
    "        for j in range(n):\n",
    "            print(i + j) # n^2 Operations"
   ]
  },
  {
   "cell_type": "code",
   "execution_count": 18,
   "id": "77812f59",
   "metadata": {},
   "outputs": [
    {
     "name": "stdout",
     "output_type": "stream",
     "text": [
      "0\n",
      "1\n",
      "2\n",
      "1\n",
      "2\n",
      "3\n",
      "2\n",
      "3\n",
      "4\n"
     ]
    }
   ],
   "source": [
    "foo(3)"
   ]
  },
  {
   "cell_type": "code",
   "execution_count": 19,
   "id": "9303d304",
   "metadata": {},
   "outputs": [
    {
     "data": {
      "text/plain": [
       "'\\nAnalysis for Program 3 - \\n\\nThe number of operations are dependent on the input provided.\\nThey share a quadratic relationship.\\n'"
      ]
     },
     "execution_count": 19,
     "metadata": {},
     "output_type": "execute_result"
    }
   ],
   "source": [
    "'''\n",
    "Analysis for Program 3 - \n",
    "\n",
    "The number of operations are dependent on the input provided.\n",
    "They share a quadratic relationship.\n",
    "'''"
   ]
  },
  {
   "cell_type": "code",
   "execution_count": 20,
   "id": "d7c46c9d",
   "metadata": {},
   "outputs": [],
   "source": [
    "def random(n):\n",
    "    x = 1\n",
    "    y = 2\n",
    "    \n",
    "    for i in range(n):\n",
    "        print(i)"
   ]
  },
  {
   "cell_type": "code",
   "execution_count": 21,
   "id": "9ef4562d",
   "metadata": {},
   "outputs": [],
   "source": [
    "def random2(n):\n",
    "    x = 1 \n",
    "    y = 2\n",
    "    z = 3\n",
    "    \n",
    "    for i in range(n):\n",
    "        print(i)\n",
    "        \n",
    "    for i in range(n):\n",
    "        for j in range(n):\n",
    "            print(i)\n",
    "            \n",
    "# Cost Equation -> n^2 + n + 3 (Representation of the total number of operations)"
   ]
  },
  {
   "cell_type": "code",
   "execution_count": 24,
   "id": "e2110cda",
   "metadata": {},
   "outputs": [
    {
     "name": "stdout",
     "output_type": "stream",
     "text": [
      "1\n",
      "True\n",
      "True\n"
     ]
    }
   ],
   "source": [
    "print(int(True))\n",
    "print(1.0 == 1)\n",
    "print(1+0j == 1)"
   ]
  },
  {
   "cell_type": "code",
   "execution_count": 25,
   "id": "be61060a",
   "metadata": {},
   "outputs": [
    {
     "name": "stdout",
     "output_type": "stream",
     "text": [
      "JavaScript and TypeScript\n"
     ]
    }
   ],
   "source": [
    "random = {}\n",
    "random[1.1] = \"JavaScript\"\n",
    "random[1.0] = \"Python\"\n",
    "random[1] = \"C++\"\n",
    "random[True] = \"JAVA\"\n",
    "random[1+0j] = \"TypeScript\"\n",
    "\n",
    "print(f\"{random[1.1]} and {random[True]}\")"
   ]
  },
  {
   "cell_type": "code",
   "execution_count": 26,
   "id": "3186c67b",
   "metadata": {},
   "outputs": [
    {
     "data": {
      "text/plain": [
       "{1.1: 'JavaScript', 1.0: 'TypeScript'}"
      ]
     },
     "execution_count": 26,
     "metadata": {},
     "output_type": "execute_result"
    }
   ],
   "source": [
    "random"
   ]
  },
  {
   "cell_type": "code",
   "execution_count": 29,
   "id": "4ac68703",
   "metadata": {},
   "outputs": [
    {
     "data": {
      "text/plain": [
       "'TypeScript'"
      ]
     },
     "execution_count": 29,
     "metadata": {},
     "output_type": "execute_result"
    }
   ],
   "source": [
    "random[1+0j]"
   ]
  },
  {
   "cell_type": "code",
   "execution_count": 30,
   "id": "006aee64",
   "metadata": {},
   "outputs": [
    {
     "data": {
      "text/plain": [
       "['weirdamI']"
      ]
     },
     "execution_count": 30,
     "metadata": {},
     "output_type": "execute_result"
    }
   ],
   "source": [
    "[ i+j+k for k in [\"I\"] for j in [\"am\"] for i in [\"weird\"] ]"
   ]
  },
  {
   "cell_type": "markdown",
   "id": "5ce348cb",
   "metadata": {},
   "source": [
    "# Sorting Algorithm -> Bubble Sort"
   ]
  },
  {
   "cell_type": "code",
   "execution_count": 31,
   "id": "adf6bae0",
   "metadata": {},
   "outputs": [],
   "source": [
    "def bubble_sort(a):\n",
    "    for i in range(len(a) - 1):\n",
    "        for j in range(len(a) - 1 - i):\n",
    "            if a[j] > a[j + 1]:\n",
    "                a[j], a[j + 1] = a[j + 1], a[j]\n",
    "                \n",
    "    return a"
   ]
  },
  {
   "cell_type": "code",
   "execution_count": 32,
   "id": "40398623",
   "metadata": {},
   "outputs": [],
   "source": [
    "a = [10, 5, 6, 8, 9, 7, 2, 1, 4, 3]"
   ]
  },
  {
   "cell_type": "code",
   "execution_count": 33,
   "id": "f0946ea6",
   "metadata": {},
   "outputs": [
    {
     "data": {
      "text/plain": [
       "[1, 2, 3, 4, 5, 6, 7, 8, 9, 10]"
      ]
     },
     "execution_count": 33,
     "metadata": {},
     "output_type": "execute_result"
    }
   ],
   "source": [
    "bubble_sort(a)"
   ]
  },
  {
   "cell_type": "code",
   "execution_count": 39,
   "id": "17a8876b",
   "metadata": {},
   "outputs": [],
   "source": [
    "def bubble_sort_visual(a):\n",
    "    for i in range(len(a) - 1):\n",
    "        print(a)\n",
    "        \n",
    "        for j in range(len(a) - 1 - i):\n",
    "            swap = False\n",
    "            if a[j] > a[j + 1]:\n",
    "                a[j], a[j + 1] = a[j + 1], a[j]\n",
    "                swap = True\n",
    "                \n",
    "            print(f\"\\t {a} -> {'Swap' if swap else ''}\")\n",
    "        print(\"-\"*50)\n",
    "                \n",
    "    print(f\"FINAL RESULT -> {a}\")\n",
    "    return a"
   ]
  },
  {
   "cell_type": "code",
   "execution_count": 40,
   "id": "78f842bb",
   "metadata": {},
   "outputs": [
    {
     "name": "stdout",
     "output_type": "stream",
     "text": [
      "[5, 2, 1, 4, 7, 3]\n",
      "\t [2, 5, 1, 4, 7, 3] -> Swap\n",
      "\t [2, 1, 5, 4, 7, 3] -> Swap\n",
      "\t [2, 1, 4, 5, 7, 3] -> Swap\n",
      "\t [2, 1, 4, 5, 7, 3] -> \n",
      "\t [2, 1, 4, 5, 3, 7] -> Swap\n",
      "--------------------------------------------------\n",
      "[2, 1, 4, 5, 3, 7]\n",
      "\t [1, 2, 4, 5, 3, 7] -> Swap\n",
      "\t [1, 2, 4, 5, 3, 7] -> \n",
      "\t [1, 2, 4, 5, 3, 7] -> \n",
      "\t [1, 2, 4, 3, 5, 7] -> Swap\n",
      "--------------------------------------------------\n",
      "[1, 2, 4, 3, 5, 7]\n",
      "\t [1, 2, 4, 3, 5, 7] -> \n",
      "\t [1, 2, 4, 3, 5, 7] -> \n",
      "\t [1, 2, 3, 4, 5, 7] -> Swap\n",
      "--------------------------------------------------\n",
      "[1, 2, 3, 4, 5, 7]\n",
      "\t [1, 2, 3, 4, 5, 7] -> \n",
      "\t [1, 2, 3, 4, 5, 7] -> \n",
      "--------------------------------------------------\n",
      "[1, 2, 3, 4, 5, 7]\n",
      "\t [1, 2, 3, 4, 5, 7] -> \n",
      "--------------------------------------------------\n",
      "FINAL RESULT -> [1, 2, 3, 4, 5, 7]\n"
     ]
    },
    {
     "data": {
      "text/plain": [
       "[1, 2, 3, 4, 5, 7]"
      ]
     },
     "execution_count": 40,
     "metadata": {},
     "output_type": "execute_result"
    }
   ],
   "source": [
    "bubble_sort_visual([5, 2, 1, 4, 7, 3])"
   ]
  },
  {
   "cell_type": "code",
   "execution_count": null,
   "id": "3373d209",
   "metadata": {},
   "outputs": [],
   "source": []
  }
 ],
 "metadata": {
  "kernelspec": {
   "display_name": "Python 3 (ipykernel)",
   "language": "python",
   "name": "python3"
  },
  "language_info": {
   "codemirror_mode": {
    "name": "ipython",
    "version": 3
   },
   "file_extension": ".py",
   "mimetype": "text/x-python",
   "name": "python",
   "nbconvert_exporter": "python",
   "pygments_lexer": "ipython3",
   "version": "3.9.5"
  }
 },
 "nbformat": 4,
 "nbformat_minor": 5
}
